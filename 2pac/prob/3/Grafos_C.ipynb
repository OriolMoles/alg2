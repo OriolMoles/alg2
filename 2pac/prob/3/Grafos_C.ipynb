{
 "cells": [
  {
   "cell_type": "markdown",
   "metadata": {},
   "source": [
    "<div style=\"padding:30px; color: white; background-color: #0071CD\">\n",
    "<center>\n",
    "<img src=\"img/logoub.jpeg\">\n",
    "<center>\n",
    "<p>\n",
    "<h1>Algorítmica Avanzada</h1>\n",
    "<h2>Problemas 1.C - Grafos </h2>\n",
    "</center>\n",
    "</p>\n",
    "</div>"
   ]
  },
  {
   "cell_type": "markdown",
   "metadata": {},
   "source": [
    "\n",
    "<div class=\"alert alert-success\" style=\"width:90%; margin:0 auto;\">\n",
    "  <h2><p>0 - Detección de ciclos</p></h2>\n",
    "  \n",
    "  <p>\n",
    "  En este ejercicio deberéis implementar un algoritmo capaz de detectar si un grafo cualquiera contiene ciclos.\n",
    "  </p>\n"
   ]
  },
  {
   "cell_type": "markdown",
   "metadata": {},
   "source": [
    "<div class=\"alert alert-danger\" style=\"width:80%; margin:0 auto; padding\">\n",
    "<center><p><h3> Código </h3></p> </center> \n",
    "\n",
    "<p>\n",
    "<h3>INPUT</h3>\n",
    "<ul>\n",
    "<li>__G__: Este es el grafo que utilizaremos para buscar ciclos.</li>\n",
    "</ul>\n",
    "<br>\n",
    "<h3>OUTPUT</h3>\n",
    "<ul>\n",
    "<li>__ _'TF'_ __: Booleano indicando si el grafo de entrada contiene algún ciclo.</li>\n",
    "<ul>\n",
    "\n",
    "</p>\n",
    "\n",
    "</div>"
   ]
  },
  {
   "cell_type": "code",
   "execution_count": 1,
   "metadata": {},
   "outputs": [
    {
     "name": "stdout",
     "output_type": "stream",
     "text": [
      "Requirement already satisfied: numpy in /home/taras/.local/lib/python3.7/site-packages (1.17.3)\r\n",
      "Requirement already satisfied: networkx in /home/taras/.local/lib/python3.7/site-packages (2.4)\r\n",
      "Requirement already satisfied: decorator>=4.3.0 in /usr/lib/python3.7/site-packages (from networkx) (4.4.0)\r\n"
     ]
    }
   ],
   "source": [
    "import sys\n",
    "!{sys.executable} -m pip install --user numpy networkx"
   ]
  },
  {
   "cell_type": "code",
   "execution_count": 2,
   "metadata": {},
   "outputs": [],
   "source": [
    "import networkx as nx "
   ]
  },
  {
   "cell_type": "code",
   "execution_count": 42,
   "metadata": {},
   "outputs": [],
   "source": [
    "from random import choice\n",
    "\n",
    "def cycles(G):\n",
    "    \"\"\"\n",
    "    It's a DFS iterative version \n",
    "    that checks if G has a cycle in it.\n",
    "    \n",
    "    Worst case scenario is no cycles.\n",
    "    Would have DFS complexity in that case: O(|E|)\n",
    "    \"\"\"\n",
    "    \n",
    "    has_c = False\n",
    "    \n",
    "    stack = []\n",
    "    discovered = {n: False for n in G.nodes}\n",
    "    \n",
    "    stack.append(choice(list(G.nodes)))\n",
    "    \n",
    "    while len(stack) != 0 and not has_c:\n",
    "        v = stack.pop()\n",
    "        \n",
    "        if not discovered[v]:\n",
    "            discovered[v] = True\n",
    "            \n",
    "            for w in G.neighbors(v):\n",
    "                stack.append(w)\n",
    "                \n",
    "                if w in [k for k, v in discovered.items() if v]:\n",
    "                    has_c = True\n",
    "                \n",
    "    return has_c"
   ]
  },
  {
   "cell_type": "code",
   "execution_count": 43,
   "metadata": {},
   "outputs": [
    {
     "data": {
      "text/plain": [
       "True"
      ]
     },
     "execution_count": 43,
     "metadata": {},
     "output_type": "execute_result"
    }
   ],
   "source": [
    "G = nx.generators.barabasi_albert_graph(100, 2)\n",
    "cycles(G)"
   ]
  },
  {
   "cell_type": "markdown",
   "metadata": {},
   "source": [
    "<div class=\"alert alert-success\" style=\"width:90%; margin:0 auto;\">\n",
    "  <h2><p>1 - Circuito Euleriano</p></h2>\n",
    "  <p>\n",
    "  Se define como circuito euleriano aquel que pasa por todas las aristas de un grafo una única vez y que acaba en el mismo lugar en el que empieza. El problema de los caminos eulerianos fué la base de toda la teoría de grafos y fué postulado por Lehonard Euler en el famoso problema de __los siete puentes de Königsberg__. En este problema Euler se preguntaba si podía acabar en el mismo sitio tras cruzar todos los puentes una sola vez.\n",
    "  </p>\n",
    "  <img src=\"img/konigsberg.jpg\"></img>\n",
    "  <p>\n",
    "  En este ejercicio se os propone implementar un algoritmo que, dado un grafo _G_ encuentre un camino euleriano.\n",
    "  </p>"
   ]
  },
  {
   "cell_type": "markdown",
   "metadata": {},
   "source": [
    "<div class=\"alert alert-danger\" style=\"width:80%; margin:0 auto; padding\">\n",
    "<center><p><h3> Código </h3></p> </center> \n",
    "\n",
    "<p>\n",
    "<h3>INPUT</h3>\n",
    "<ul>\n",
    "<li>__G__: Objeto de tipo grafo sobre el cual queremos encontrar el circuito Euleriano.</li>\n",
    "</ul>\n",
    "<br>\n",
    "<h3>OUTPUT</h3>\n",
    "<ul>\n",
    "<li>__ _nodelist_ __: Una lista de nodos ordenados que formarían el circuito.</li>\n",
    "<ul>\n",
    "\n",
    "</p>\n",
    "\n",
    "</div>"
   ]
  },
  {
   "cell_type": "code",
   "execution_count": 24,
   "metadata": {},
   "outputs": [],
   "source": [
    "def find_start(G, default=0):\n",
    "    \"\"\"\n",
    "    Find the start node for Fleury algorithm\n",
    "    \n",
    "\n",
    "    Parameters\n",
    "    ----------\n",
    "        G: networkx.classes.graph.Graph\n",
    "            \n",
    "        default: Object\n",
    "            Default node to begin with, if no candidate is found\n",
    "    \n",
    "    Returns\n",
    "    -------\n",
    "        Object\n",
    "            The starting node candidate\n",
    "    \"\"\"\n",
    "    \n",
    "    for v in G.nodes:\n",
    "        if len(list(G.neighbors(v))) % 2 == 1:\n",
    "            return v\n",
    "        \n",
    "    return default\n",
    "\n",
    "def is_bridge(G, v, w):\n",
    "    \"\"\"\n",
    "    Check if ther's a bridge between nodes v and w\n",
    "    \n",
    "    Parameters\n",
    "    ----------\n",
    "        G: networkx.classes.graph.Graph\n",
    "            The graph\n",
    "        \n",
    "        v: Object\n",
    "            Start node\n",
    "            \n",
    "        w: Object\n",
    "            End node\n",
    "    \n",
    "    Returns\n",
    "    -------\n",
    "        bool\n",
    "            If there's the given bridge\n",
    "            \n",
    "    \"\"\"\n",
    "    \n",
    "    return False if len(G.neighbors(w)) > 1 else True\n",
    "\n",
    "def fleury(G, start):\n",
    "    \"\"\"\n",
    "    Uses the Fleury algortihm \n",
    "    to find an eulerian path in G\n",
    "    \n",
    "    Parameters\n",
    "    ----------\n",
    "        G: networkx.classes.graph.Graph\n",
    "            The graph\n",
    "        \n",
    "        start: Object\n",
    "            Start node\n",
    "            \n",
    "        path: list\n",
    "            Eulerian path\n",
    "    \n",
    "    Returns\n",
    "    -------\n",
    "        lsit\n",
    "            The eulerian path\n",
    "    \"\"\"\n",
    "    \n",
    "    edges = len(G.edges)\n",
    "    \n",
    "    "
   ]
  },
  {
   "cell_type": "code",
   "execution_count": 97,
   "metadata": {},
   "outputs": [],
   "source": [
    "def euler(G):\n",
    "    \"\"\"\n",
    "    bla bla\n",
    "    \"\"\"\n",
    "    \n",
    "    start = find_start(G)\n",
    "    edges = list(G.edges)\n",
    "    \n",
    "    nodes = []\n",
    "    nodes.append(start)\n",
    "    \n",
    "    for n in G.nodes:\n",
    "        G.nodes[n][\"visited\"] = False\n",
    "    \n",
    "    path = []\n",
    "    \n",
    "    print(edges)\n",
    "    \n",
    "    while len(nodes) != 0:\n",
    "        v = nodes.pop()\n",
    "        \n",
    "        for w in G.neighbors(v):\n",
    "            if len(list(G.neighbors(w))) > 1 and G.nodes[w][\"visited\"]:\n",
    "                print(v, w)\n",
    "                G.remove_edge(v, w)\n",
    "                nodes.append(w)\n",
    "                break\n",
    "    \n",
    "    return None"
   ]
  },
  {
   "cell_type": "code",
   "execution_count": 98,
   "metadata": {},
   "outputs": [
    {
     "name": "stdout",
     "output_type": "stream",
     "text": [
      "[(0, 1), (0, 5), (1, 2), (1, 3), (5, 2), (5, 4), (2, 3), (2, 4)]\n"
     ]
    }
   ],
   "source": [
    "# Testing\n",
    "G2 = nx.Graph()\n",
    "edges = [(0,1), (0,5), (1,2), (1,3), (3,2), (5,2), (5,4), (4,2)]\n",
    "G2.add_edges_from(edges)\n",
    "euler(G2)"
   ]
  },
  {
   "cell_type": "markdown",
   "metadata": {},
   "source": [
    "<div class=\"alert alert-warning\">\n",
    "<h1>Pregunta</h1>\n",
    "<p><strong>\n",
    "¿Qué condiciones se deben de cumplir para que un grafo cualquiera contenga un camino euleriano? Demuéstralo.\n",
    "</strong></p>\n",
    "</div>"
   ]
  },
  {
   "cell_type": "markdown",
   "metadata": {},
   "source": [
    "<div class=\"alert alert-warning\">\n",
    "<h1>Extra</h1>\n",
    "<p><strong>\n",
    "Además de circuitos Eulerianos, definimos caminos Eulerianos aquellos que recorren todas las aristas de un grafo sin repetirlas, pero no termina en el mismo nodo que empieza. Modifica el algoritmo anterior para que sea capaz de detectar si el grafo contiene un ciclo o un camino Euleriano, y devuelva la lista de nodos ordenados que componen dicho ciclo o camino. Tened en cuenta que son casos excluyentes.\n",
    "</strong></p>\n",
    "</div>"
   ]
  },
  {
   "cell_type": "code",
   "execution_count": null,
   "metadata": {},
   "outputs": [],
   "source": []
  },
  {
   "cell_type": "code",
   "execution_count": null,
   "metadata": {},
   "outputs": [],
   "source": []
  },
  {
   "cell_type": "code",
   "execution_count": null,
   "metadata": {},
   "outputs": [],
   "source": []
  }
 ],
 "metadata": {
  "kernelspec": {
   "display_name": "Python 3",
   "language": "python",
   "name": "python3"
  },
  "language_info": {
   "codemirror_mode": {
    "name": "ipython",
    "version": 3
   },
   "file_extension": ".py",
   "mimetype": "text/x-python",
   "name": "python",
   "nbconvert_exporter": "python",
   "pygments_lexer": "ipython3",
   "version": "3.7.4"
  }
 },
 "nbformat": 4,
 "nbformat_minor": 2
}
