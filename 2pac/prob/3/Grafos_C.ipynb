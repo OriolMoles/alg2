{
 "cells": [
  {
   "cell_type": "markdown",
   "metadata": {},
   "source": [
    "<div style=\"padding:30px; color: white; background-color: #0071CD\">\n",
    "<center>\n",
    "<img src=\"img/logoub.jpeg\">\n",
    "<center>\n",
    "<p>\n",
    "<h1>Algorítmica Avanzada</h1>\n",
    "<h2>Problemas 1.C - Grafos </h2>\n",
    "</center>\n",
    "</p>\n",
    "</div>"
   ]
  },
  {
   "cell_type": "markdown",
   "metadata": {},
   "source": [
    "\n",
    "<div class=\"alert alert-success\" style=\"width:90%; margin:0 auto;\">\n",
    "  <h2><p>0 - Detección de ciclos</p></h2>\n",
    "  \n",
    "  <p>\n",
    "  En este ejercicio deberéis implementar un algoritmo capaz de detectar si un grafo cualquiera contiene ciclos.\n",
    "  </p>\n"
   ]
  },
  {
   "cell_type": "markdown",
   "metadata": {},
   "source": [
    "<div class=\"alert alert-danger\" style=\"width:80%; margin:0 auto; padding\">\n",
    "<center><p><h3> Código </h3></p> </center> \n",
    "\n",
    "<p>\n",
    "<h3>INPUT</h3>\n",
    "<ul>\n",
    "<li>__G__: Este es el grafo que utilizaremos para buscar ciclos.</li>\n",
    "</ul>\n",
    "<br>\n",
    "<h3>OUTPUT</h3>\n",
    "<ul>\n",
    "<li>__ _'TF'_ __: Booleano indicando si el grafo de entrada contiene algún ciclo.</li>\n",
    "<ul>\n",
    "\n",
    "</p>\n",
    "\n",
    "</div>"
   ]
  },
  {
   "cell_type": "markdown",
   "metadata": {},
   "source": [
    "Install packages."
   ]
  },
  {
   "cell_type": "code",
   "execution_count": 1,
   "metadata": {},
   "outputs": [
    {
     "name": "stdout",
     "output_type": "stream",
     "text": [
      "Collecting networkx\n",
      "  Using cached https://files.pythonhosted.org/packages/41/8f/dd6a8e85946def36e4f2c69c84219af0fa5e832b018c970e92f2ad337e45/networkx-2.4-py3-none-any.whl\n",
      "Collecting decorator>=4.3.0 (from networkx)\n",
      "  Using cached https://files.pythonhosted.org/packages/8f/b7/f329cfdc75f3d28d12c65980e4469e2fa373f1953f5df6e370e84ea2e875/decorator-4.4.1-py2.py3-none-any.whl\n",
      "Installing collected packages: decorator, networkx\n",
      "Successfully installed decorator-4.4.1 networkx-2.4\n"
     ]
    }
   ],
   "source": [
    "import sys\n",
    "!{sys.executable} -m pip install networkx"
   ]
  },
  {
   "cell_type": "markdown",
   "metadata": {},
   "source": [
    "No warnings when using `%matplotlib inline`"
   ]
  },
  {
   "cell_type": "code",
   "execution_count": 2,
   "metadata": {},
   "outputs": [],
   "source": [
    "import warnings\n",
    "warnings.simplefilter('ignore')"
   ]
  },
  {
   "cell_type": "code",
   "execution_count": 3,
   "metadata": {},
   "outputs": [],
   "source": [
    "import networkx as nx "
   ]
  },
  {
   "cell_type": "code",
   "execution_count": 4,
   "metadata": {},
   "outputs": [],
   "source": [
    "from random import choice\n",
    "\n",
    "def cycles(G):\n",
    "    \"\"\"\n",
    "    It's a DFS iterative version \n",
    "    that checks if G has a cycle in it.\n",
    "    \n",
    "    Worst case scenario is no cycles.\n",
    "    Would have DFS complexity in that case: O(|E|).\n",
    "    \n",
    "    Parameters\n",
    "    ----------\n",
    "        G: nx.Graph()\n",
    "        \n",
    "    Returns\n",
    "    -------\n",
    "        bool\n",
    "            If G has at least one cycle\n",
    "    \"\"\"\n",
    "    \n",
    "    has_c = False\n",
    "    \n",
    "    stack = []\n",
    "    discovered = {n: False for n in G.nodes}\n",
    "    \n",
    "    stack.append(choice(list(G.nodes)))\n",
    "    \n",
    "    while len(stack) != 0 and not has_c:\n",
    "        v = stack.pop()\n",
    "        \n",
    "        if not discovered[v]:\n",
    "            discovered[v] = True\n",
    "            \n",
    "            for w in G.neighbors(v):\n",
    "                stack.append(w)\n",
    "                \n",
    "                if w in [k for k, v in discovered.items() if v]:\n",
    "                    has_c = True\n",
    "                \n",
    "    return has_c"
   ]
  },
  {
   "cell_type": "code",
   "execution_count": 5,
   "metadata": {},
   "outputs": [
    {
     "data": {
      "text/plain": [
       "True"
      ]
     },
     "execution_count": 5,
     "metadata": {},
     "output_type": "execute_result"
    }
   ],
   "source": [
    "G = nx.generators.barabasi_albert_graph(100, 2)\n",
    "cycles(G)"
   ]
  },
  {
   "cell_type": "markdown",
   "metadata": {},
   "source": [
    "<div class=\"alert alert-success\" style=\"width:90%; margin:0 auto;\">\n",
    "  <h2><p>1 - Circuito Euleriano</p></h2>\n",
    "  <p>\n",
    "  Se define como circuito euleriano aquel que pasa por todas las aristas de un grafo una única vez y que acaba en el mismo lugar en el que empieza. El problema de los caminos eulerianos fué la base de toda la teoría de grafos y fué postulado por Lehonard Euler en el famoso problema de __los siete puentes de Königsberg__. En este problema Euler se preguntaba si podía acabar en el mismo sitio tras cruzar todos los puentes una sola vez.\n",
    "  </p>\n",
    "  <img src=\"img/konigsberg.jpg\"></img>\n",
    "  <p>\n",
    "  En este ejercicio se os propone implementar un algoritmo que, dado un grafo _G_ encuentre un camino euleriano.\n",
    "  </p>"
   ]
  },
  {
   "cell_type": "markdown",
   "metadata": {},
   "source": [
    "<div class=\"alert alert-danger\" style=\"width:80%; margin:0 auto; padding\">\n",
    "<center><p><h3> Código </h3></p> </center> \n",
    "\n",
    "<p>\n",
    "<h3>INPUT</h3>\n",
    "<ul>\n",
    "<li>__G__: Objeto de tipo grafo sobre el cual queremos encontrar el circuito Euleriano.</li>\n",
    "</ul>\n",
    "<br>\n",
    "<h3>OUTPUT</h3>\n",
    "<ul>\n",
    "<li>__ _nodelist_ __: Una lista de nodos ordenados que formarían el circuito.</li>\n",
    "<ul>\n",
    "\n",
    "</p>\n",
    "\n",
    "</div>"
   ]
  },
  {
   "cell_type": "code",
   "execution_count": 6,
   "metadata": {},
   "outputs": [],
   "source": [
    "def euler(G, source=0):\n",
    "    \"\"\"\n",
    "    Try to return an eulerian circuit of G.\n",
    "    Reference: https://cp-algorithms.com/graph/euler_path.html\n",
    "    \n",
    "    Parameters\n",
    "    ----------\n",
    "        G: nx.Graph()\n",
    "        \n",
    "        source: int\n",
    "            The source node index\n",
    "        \n",
    "    Returns\n",
    "    -------\n",
    "        generator\n",
    "            The eulerian circuit node list\n",
    "    \"\"\"\n",
    "    \n",
    "    # Generate a copy of the given graph,\n",
    "    # as we will be deleting edges and we \n",
    "    # do not want to modify the arguments\n",
    "    _G = nx.from_edgelist(G.edges)\n",
    "    \n",
    "    # Init the stack\n",
    "    s = [source]\n",
    "    \n",
    "    while len(s) != 0:\n",
    "        # Pop the last element of the stack\n",
    "        w = s[-1]\n",
    "        \n",
    "        # If w has no adjacent nodes,\n",
    "        # remove it from the stack and\n",
    "        # yield it\n",
    "        if sum(1 for _ in _G.neighbors(w)) == 0:\n",
    "            yield w\n",
    "            s.pop()\n",
    "        \n",
    "        # Get the first adjacent node e to w,\n",
    "        # remove the edge from w to e\n",
    "        # and add e to the stack \n",
    "        else:\n",
    "            e = next(_G.neighbors(w))\n",
    "            _G.remove_edge(w, e)\n",
    "            s.append(e)"
   ]
  },
  {
   "cell_type": "code",
   "execution_count": 7,
   "metadata": {},
   "outputs": [
    {
     "name": "stdout",
     "output_type": "stream",
     "text": [
      "[2, 4, 3, 1, 4, 0, 3, 2, 1, 0, 2]\n"
     ]
    },
    {
     "data": {
      "image/png": "[encoded data removed]",
      "text/plain": [
       "<Figure size 504x504 with 1 Axes>"
      ]
     },
     "metadata": {},
     "output_type": "display_data"
    }
   ],
   "source": [
    "%matplotlib inline\n",
    "from utils import draw\n",
    "gg = nx.complete_graph(5)\n",
    "draw(gg)\n",
    "e = euler(gg, source=2)\n",
    "print(list(e))"
   ]
  },
  {
   "cell_type": "markdown",
   "metadata": {},
   "source": [
    "### Speed test `euler()` v.s. `nx.eulerian_circuit()`"
   ]
  },
  {
   "cell_type": "code",
   "execution_count": 8,
   "metadata": {},
   "outputs": [
    {
     "data": {
      "application/vnd.jupyter.widget-view+json": {
       "model_id": "9a5fb184afdb4c1c9bea366f80195e64"
      }
     },
     "metadata": {},
     "output_type": "display_data"
    },
    {
     "name": "stdout",
     "output_type": "stream",
     "text": [
      "\n",
      "Mean time for 1000 iterations\n",
      "eulerian_circuit(): 8.966e-06 s.\n",
      "euler():            2.8355e-06 s.\n"
     ]
    }
   ],
   "source": [
    "from time import time\n",
    "from random import randint\n",
    "from tqdm import tqdm_notebook as tqdm\n",
    "\n",
    "e_mean, nx_mean = 0.0, 0.0\n",
    "N = 10**3\n",
    "\n",
    "for i in tqdm(range(N)):\n",
    "    # We generate an odd complete graph (N),\n",
    "    # so each node will have and even \n",
    "    # number of neighbors (N-1)\n",
    "    _G = nx.complete_graph(2 * randint(10**1, 10**2) + 1)\n",
    "    \n",
    "    t = time()\n",
    "    _nx_euler = nx.eulerian_circuit(_G)\n",
    "    nx_mean += time() - t\n",
    "    \n",
    "    t = time()\n",
    "    _euler = euler(_G)\n",
    "    e_mean += time() - t\n",
    "    \n",
    "    assert [_n for _n in _euler] == [u for u,_ in _nx_euler] + [0]\n",
    "\n",
    "nx_mean = nx_mean / N\n",
    "e_mean = e_mean / N\n",
    "\n",
    "print(f\"Mean time for {N} iterations\")\n",
    "print(f\"eulerian_circuit(): {nx_mean:2.5} s.\")\n",
    "print(f\"euler():            {e_mean:2.5} s.\")"
   ]
  },
  {
   "cell_type": "markdown",
   "metadata": {},
   "source": [
    "<div class=\"alert alert-warning\">\n",
    "<h1>Pregunta</h1>\n",
    "<p><strong>\n",
    "¿Qué condiciones se deben de cumplir para que un grafo cualquiera contenga un camino euleriano? Demuéstralo.\n",
    "</strong></p>\n",
    "</div>"
   ]
  },
  {
   "cell_type": "markdown",
   "metadata": {},
   "source": [
    "### Teorema\n",
    "Un grafo no dirigido $G$ tiene un ciclo euleriano si y solo si todos los nodos son de grado par y los nodos con grado no nulo percenecen a la misma componente conexa.\n",
    "\n",
    "#### Demostración\n",
    "\n",
    "$\\Rightarrow$ \n",
    "\n",
    "Si $G$ es un grafo Euleriano, contiene un camino euleriano, entonces $\\forall v\\in V$ el numero de vertices adyacentes a $v$ es el doble de veces que pasa el camino por $v$, por tanto $d(v)$ es par.\n",
    "    \n",
    "$\\Leftarrow$ \n",
    "\n",
    "Supongamos que todos los nodos de $G$ tiene grado par pero $G$ no es euleriano. De todos los subgrafos posibles elegimos $H$ el que tenga menor numero de vertices y cumpla que es conexo, todos sus nodos son de grado par y no es euleriano, que existe dado que $G$ lo es y existen un numero finito de subgrafos. $H$ contiene un ciclo, y por lo tanto un camino cerrado. De todos los caminos cerrados de $H$ elegimos el que mas aristas tenga $C$.\n",
    "\n",
    "Sea $H'$ un componente conexa de $H\\setminus{E(C)}$ ($H$ sin las aristas de $C$), tal que $H'$ tenga almenos una arista. Ahora notamos que todo nodo $v$ de $H'$ tiene grado $d_{H'}(v)=d_{H}(v)-d_{C}(v)$ que es par, por lo tanto $H'$ debe ser un grafo euleriano. Y notamos que $C$ y $H'$ comparten almenos un vertice.\n",
    "\n",
    "Finalmente, si juntamos $C$ y $H'$ obtenemos un camino cerrado en $H$, con mas aristas que el camino $C$, lo qual es una contradiccion porque $C$ era el camino cerrado de $H$ con mas aristas. Por lo tanto, $G$ es un grafo euleriano.\n",
    "\n",
    "$\\square$\n",
    "\n",
    "### Corolario\n",
    "Un grafo no dirigido $G$ tiene un camino euleriano si y solo si tiene exactamentes dos nodos de grado impar, i los nodos con grado no nulo percenecen a la misma componente conexa. En este caso el camino euleriano empieza y acaba en esos dos vertices."
   ]
  },
  {
   "cell_type": "markdown",
   "metadata": {},
   "source": [
    "<div class=\"alert alert-warning\">\n",
    "<h1>Extra</h1>\n",
    "<p><strong>\n",
    "Además de circuitos Eulerianos, definimos caminos Eulerianos aquellos que recorren todas las aristas de un grafo sin repetirlas, pero no termina en el mismo nodo que empieza. Modifica el algoritmo anterior para que sea capaz de detectar si el grafo contiene un ciclo o un camino Euleriano, y devuelva la lista de nodos ordenados que componen dicho ciclo o camino. Tened en cuenta que son casos excluyentes.\n",
    "</strong></p>\n",
    "</div>"
   ]
  }
 ],
 "metadata": {
  "kernelspec": {
   "display_name": "Python 3",
   "language": "python",
   "name": "python3"
  },
  "language_info": {
   "codemirror_mode": {
    "name": "ipython",
    "version": 3
   },
   "file_extension": ".py",
   "mimetype": "text/x-python",
   "name": "python",
   "nbconvert_exporter": "python",
   "pygments_lexer": "ipython3",
   "version": "3.6.8"
  }
 },
 "nbformat": 4,
 "nbformat_minor": 2
}
