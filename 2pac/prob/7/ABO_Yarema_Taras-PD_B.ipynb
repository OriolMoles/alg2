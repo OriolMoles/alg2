{
 "cells": [
  {
   "cell_type": "markdown",
   "metadata": {},
   "source": [
    "<div style=\"padding:30px; color: white; background-color: #0071CD\">\n",
    "<center>\n",
    "<img src=\"img/logoub.jpeg\">\n",
    "<center>\n",
    "<p>\n",
    "<h1>Algorítmica Avanzada</h1>\n",
    "<h2>Problemas 3.B - Programación Dinámica </h2>\n",
    "</center>\n",
    "</p>\n",
    "</div>"
   ]
  },
  {
   "cell_type": "markdown",
   "metadata": {},
   "source": [
    "<div class=\"alert alert-danger\" style=\"width:95%; margin:0 auto; padding\">\n",
    "A la hora de crear las matrices de programación dinámica podéis emplear diversas estructuras de datos. La lista de listas puede ser una buena opción, pero existen librerías como NumPy que hacen una mejor gestión de las matrices.\n",
    "\n",
    "Podéis consultar aquí la documentación: https://docs.scipy.org/doc/numpy/reference/"
   ]
  },
  {
   "cell_type": "markdown",
   "metadata": {},
   "source": [
    "<div class=\"alert alert-success\" style=\"width:90%; margin:0 auto;\">\n",
    "\n",
    "  <h2><p>3 - Distancia de edición</p></h2>\n",
    "  \n",
    "  <p> Dadas dos cadenas S1 y S2, este algoritmo trata de encontrar la \"distancia\" entre ellas. Basamos la distancia en el número de transformaciones necesarias para convertir la cadena S1 en la cadena S2 (o viceversa). Se consideran tres transformaciones distintas: inserción, eliminación y sustitución. Los costes de cada operación serán parámetros de la función.</p>\n",
    "  \n",
    "  <img src='img/min_Edit_Distance_DP_Table.png' width=\"50%\">\n",
    "  \n",
    "Además, se os pide que reconstruyáis el conjunto de operaciones que realizar sobre la primera palabra (<i>relevant</i>) para convertirla en la segunda (<i>elephant</i>). En el ejemplo de la imagen (donde los costes de las operaciones es 1 para todas):\n",
    "<ul>\n",
    "    <li> Eliminar 'R' en la posición 0.           $('D','R',0)$</li>\n",
    "    <li> Insertar 'P' en la posición 4.           $('I','P',4)$</li>\n",
    "    <li> Substituir 'V' por 'H' en la posición 5.            $('R',('V', 'H'),4)$ </li>\n",
    "    <li> ........ El coste total de edición es: 3 </li>\n",
    "</ul>\n",
    "\n",
    "** Nota: Vuestro algoritmo podría encontrar otro conjunto de operaciones distinto a este pero con el mismo coste de edición."
   ]
  },
  {
   "cell_type": "code",
   "execution_count": 1,
   "metadata": {},
   "outputs": [],
   "source": [
    "import numpy as np"
   ]
  },
  {
   "cell_type": "code",
   "execution_count": 2,
   "metadata": {},
   "outputs": [],
   "source": [
    "def wagner_fischer(s, t):\n",
    "    \"\"\"\n",
    "    Compute the edition matrix of two\n",
    "    given strings using the Wagner-Fischer\n",
    "    dynamic programming algorithm.\n",
    "    \n",
    "    Parameters\n",
    "    ----------\n",
    "        s, str\n",
    "        t, str\n",
    "    \n",
    "    Returns\n",
    "    -------\n",
    "        np.array\n",
    "            Two dimensional np.ndarray\n",
    "            with the edition values\n",
    "    \"\"\"\n",
    "        \n",
    "    # Init the edit distance matrix\n",
    "    \n",
    "    m, n = len(s) + 1, len(t) + 1\n",
    "    d = np.zeros((m, n), dtype=np.int)\n",
    "\n",
    "    for i in range(1, m):\n",
    "        d[i][0] = i\n",
    "\n",
    "    for j in range(1, n):\n",
    "        d[0][j] = j\n",
    "\n",
    "    # Compute the matrix using the\n",
    "    # Wagner–Fischer algorithm\n",
    "        \n",
    "    for j in range(1, n):\n",
    "        for i in range(1, m):\n",
    "            sub_cost = 0 if s[i-1] == t[j-1] else 1\n",
    "            d[i][j] = min(d[i-1, j] + 1, d[i, j-1] + 1, d[i-1, j-1] + sub_cost)\n",
    "\n",
    "    return d\n",
    "\n",
    "def distancia_edicion(s1, s2):\n",
    "    \"\"\"\n",
    "    Compute the minimum number of changes\n",
    "    to make s2 into s1, using the \n",
    "    Wagner-Fischer algorithm to compute the\n",
    "    edition distance matrix between s1 and s2.\n",
    "    \n",
    "    Parameters\n",
    "    ----------\n",
    "        s1, str\n",
    "        s2, str\n",
    "    \n",
    "    Returns\n",
    "    -------\n",
    "        tuple (int, list)\n",
    "            Minimum number of operations and\n",
    "            the list of changes to make\n",
    "    \"\"\"\n",
    "    \n",
    "    m, n = len(s1), len(s2)\n",
    "    changes, x, y = [], m, n\n",
    "    \n",
    "    # Compute the edition distance matrix\n",
    "    \n",
    "    d = wagner_fischer(s1, s2)\n",
    "    \n",
    "    # Compute the changes to make\n",
    "    \n",
    "    while x >= 0 and y >= 0:\n",
    "        if x == 0:\n",
    "            a, b, c = x, y - 1, \"I\"\n",
    "            \n",
    "            if d[a][b] != d[x][y] and y > 0:\n",
    "                changes.append((c, s2[b], a))\n",
    "                \n",
    "        elif y == 0:\n",
    "            a, b, c = x - 1, y, \"D\"\n",
    "            \n",
    "            if d[a][b] != d [x][y] and x > 0:\n",
    "                changes.append((c, s2[b], a))\n",
    "                \n",
    "        else:\n",
    "            a, b, c = x - 1, y - 1, \"R\"\n",
    "            \n",
    "            if d[a][b] > d[x - 1][y]:\n",
    "                a, b, c = x - 1, y, \"D\"\n",
    "            \n",
    "            if d[a][b] > d[x][y - 1]:\n",
    "                a, b, c = x, y - 1, \"I\"\n",
    "\n",
    "            if d[a][b] != d [x][y] and (x > 0 and y > 0):\n",
    "                if c == \"R\":\n",
    "                    changes.append((c, (s1[a], s2[b]), a))\n",
    "                \n",
    "                else:\n",
    "                    changes.append((c, s2[y], a))\n",
    "\n",
    "        x, y, z = a, b, c\n",
    "    \n",
    "    return d[m][n], changes"
   ]
  },
  {
   "cell_type": "code",
   "execution_count": 3,
   "metadata": {},
   "outputs": [
    {
     "name": "stdout",
     "output_type": "stream",
     "text": [
      "To change 'relevant' to 'elephant' (3 changes):\n",
      "\t[('R', ('v', 'h'), 4), ('I', 'h', 4), ('D', 'e', 0)]\n",
      "\n",
      "To change 'surgery' to 'survey' (2 changes):\n",
      "\t[('D', 'y', 5), ('R', ('g', 'v'), 3)]\n",
      "\n",
      "To change 'abcde' to 'vwxyz' (5 changes):\n",
      "\t[('R', ('e', 'z'), 4), ('R', ('d', 'y'), 3), ('R', ('c', 'x'), 2), ('R', ('b', 'w'), 1), ('R', ('a', 'v'), 0)]\n",
      "\n"
     ]
    }
   ],
   "source": [
    "arr = [('relevant','elephant'), ('surgery', 'survey'), ('abcde', 'vwxyz')]\n",
    "\n",
    "for s, t in arr:\n",
    "    m, c =  distancia_edicion(s, t)\n",
    "    \n",
    "    print(f\"To change '{s}' to '{t}' ({m} changes):\\n\\t{c}\\n\")"
   ]
  },
  {
   "cell_type": "markdown",
   "metadata": {},
   "source": [
    "<div class=\"alert alert-warning\" style=\"width:80%; margin:0 auto; padding\">\n",
    "<center><p><h3> Cuestiones</h3></p> </center> </div>"
   ]
  },
  {
   "cell_type": "markdown",
   "metadata": {},
   "source": [
    "### Analiza la complejidad del algoritmo\n",
    "\n",
    "He implementat l'algoritme de Wagner-Fischer [1] per a computar la matriu d'edicions.\n",
    "\n",
    "La complexitat es $O(nm)$, on $n$ i $m$ denoten les llargades dels strings.\n",
    "\n",
    "#### Ref.\n",
    "\n",
    "[1] [Wikipedia: Wagner-Fischer](https://en.wikipedia.org/wiki/Wagner%E2%80%93Fischer_algorithm)"
   ]
  },
  {
   "cell_type": "markdown",
   "metadata": {},
   "source": [
    "<div class=\"alert alert-success\" style=\"width:90%; margin:0 auto;\">\n",
    "\n",
    "  <h2><p>4 - Torres de Hanoi</p></h2>\n",
    "  \n",
    "  <p>Se plantea un escenario con 3 torres y una serie de discos de diferentes tamaños. Buscamos mover todos los discos de una torre origen a otra destino empleando la torre intermedia como soporte. Siempre deberán cumplirse las siguientes condiciones:\n",
    "<ul>\n",
    "    <li> Solo podemos mover un disco a cada vez. </li>\n",
    "    <li> Un movimiento de disco consiste en coger el disco superior de una de las torres y colocarlo en la cima de otra de las torres. </li>\n",
    "    <li> Un disco nunca podrá estar sobre otro disco de menor tamaño. </li>\n",
    "</ul>\n",
    "\n",
    "Podéis ver aquí un ejemplo animado de Hanoi con 4 discos en la que queremos mover todos los discos desde la torre izquierda a la derecha.\n",
    "<center><img src=\"img/hanoi.gif\"></center>\n",
    "\n",
    "Para más ejemplos y experimentación, tenéis disponible el juego online: https://www.mathsisfun.com/games/towerofhanoi.html\n",
    "    \n",
    "Se os pide que implementéis la solución de Programación Dinámica al problema de las torres de Hanoi para calcular el número mínimo de movimientos necesarios para mover $D$ discos de la torre $t_o$ a la torre $t_d$.\n",
    "\n",
    "Además, se os pide que devolváis una lista de tuplas con la forma $(t_i,t_j)$ que simboliza mover el disco que se encuentra más arriba de la torre $i$ a la cima de la torre $j$.\n",
    "Por ejemplo, para 3 discos, los movimientos serían:\n",
    "[(0, 2), (0, 1), (2, 1), (0, 2), (1, 0), (1, 2), (0, 2)]\n",
    "</p>\n",
    "  "
   ]
  },
  {
   "cell_type": "code",
   "execution_count": 4,
   "metadata": {},
   "outputs": [],
   "source": [
    "from collections import defaultdict\n",
    "from itertools import permutations\n",
    "\n",
    "def dynamic_hanoi(d, t0=0, t1=2, t_aux=1, dp=defaultdict(lambda : defaultdict(lambda: []))):\n",
    "    \"\"\"\n",
    "    Dynamic programming algorithm to solve \n",
    "    the Hanoi towers problem.\n",
    "    \n",
    "    Parameters\n",
    "    ----------\n",
    "        d, int\n",
    "            Number of discs\n",
    "    \n",
    "    Returns\n",
    "    -------\n",
    "        list\n",
    "            Movements to solve the towers\n",
    "    \"\"\"\n",
    "    \n",
    "    # Base cases\n",
    "    \n",
    "    if d <= 0:\n",
    "        return []\n",
    "    \n",
    "    if d == 1:\n",
    "        return [(t0, t1)]\n",
    "\n",
    "    # Compute the permutations of three elements\n",
    "    # and get the index of the actual one in that list \n",
    "    \n",
    "    perm = list(permutations((0, 1, 2)))\n",
    "    i = perm.index((t0, t1, t_aux))\n",
    "    \n",
    "    # If the current permutation is not memorized\n",
    "    # compute it and save it in dp\n",
    "    # if not, directly return\n",
    "    \n",
    "    if len(dp[d-2][i]) == 0:\n",
    "        dp[d-2][i] += dynamic_hanoi(d-1, t0, t_aux, t1, dp) + [(t0, t1)] + dynamic_hanoi(d-1, t_aux, t1, t0, dp)\n",
    "    \n",
    "    return dp[d-2][i]"
   ]
  },
  {
   "cell_type": "code",
   "execution_count": 5,
   "metadata": {},
   "outputs": [
    {
     "name": "stdout",
     "output_type": "stream",
     "text": [
      "Ran 26 test: OK.\n",
      "Elapsed: 4.51795387 s.\n"
     ]
    },
    {
     "data": {
      "image/png": "[encoded data removed]",
      "text/plain": [
       "<Figure size 432x288 with 1 Axes>"
      ]
     },
     "metadata": {},
     "output_type": "display_data"
    }
   ],
   "source": [
    "% matplotlib inline\n",
    "\n",
    "from time import time\n",
    "from copy import copy\n",
    "import matplotlib.pyplot as plt\n",
    "\n",
    "# Testing\n",
    "\n",
    "max_it, t_arr = 25, []\n",
    "\n",
    "for d in range(0, max_it + 1):\n",
    "    t = time()\n",
    "    d_h = dynamic_hanoi(d)\n",
    "    t = time() - t\n",
    "    t_arr.append(t)\n",
    "    \n",
    "    assert len(d_h) == 2**d - 1\n",
    "\n",
    "print(f\"Ran {max_it + 1} test: OK.\")\n",
    "\n",
    "# Banchmarks and plotting\n",
    "\n",
    "print(f\"Elapsed: {sum(t_arr):4.8f} s.\")\n",
    "\n",
    "plt.plot(list(range(0, max_it + 1)), t_arr)\n",
    "\n",
    "plt.xlabel(\"Number of discs\")\n",
    "plt.ylabel(\"Time (s)\")\n",
    "plt.title(\"Hanoi first time\")\n",
    "\n",
    "plt.show()"
   ]
  },
  {
   "cell_type": "markdown",
   "metadata": {},
   "source": [
    "### Nota\n",
    "\n",
    "Si es reinicia el kernel i s'executa tot el notebook seguit, en el codi següent es podrà apreciar la utilitat de la memorització amb `dp`."
   ]
  },
  {
   "cell_type": "code",
   "execution_count": 6,
   "metadata": {},
   "outputs": [
    {
     "name": "stdout",
     "output_type": "stream",
     "text": [
      "Elapsed: 0.00005984 s.\n"
     ]
    },
    {
     "data": {
      "image/png": "[encoded data removed]",
      "text/plain": [
       "<Figure size 432x288 with 1 Axes>"
      ]
     },
     "metadata": {},
     "output_type": "display_data"
    }
   ],
   "source": [
    "t_arr = []\n",
    "\n",
    "for d in range(0, max_it + 1):\n",
    "    t = time()\n",
    "    d_h = dynamic_hanoi(d)\n",
    "    t = time() - t\n",
    "    t_arr.append(t)\n",
    "\n",
    "print(f\"Elapsed: {sum(t_arr):4.8f} s.\")\n",
    "\n",
    "plt.plot(list(range(0, max_it + 1)), t_arr)\n",
    "\n",
    "plt.xlabel(\"Number of discs\")\n",
    "plt.ylabel(\"Time (s)\")\n",
    "plt.title(\"Hanoi memorized\")\n",
    "\n",
    "plt.show()"
   ]
  },
  {
   "cell_type": "markdown",
   "metadata": {},
   "source": [
    "<div class=\"alert alert-warning\" style=\"width:80%; margin:0 auto; padding\">\n",
    "<center><p><h3> Cuestiones</h3></p> </center> </div>"
   ]
  },
  {
   "cell_type": "markdown",
   "metadata": {},
   "source": [
    "### Analiza la complejidad del algoritmo\n",
    "\n",
    "Resoldre el problema de les torres de Hanoi té una complexitat de $O(2^n-1)$, on $n$ denota el nombre de discs. \n",
    "\n",
    "La implementació actual, però, té una complexitat molt menor.\n",
    "Degut a que les permutacions de tres elements són 6 i que s'utilitza la memorització d'operacions anteriors (la variable `dp`), es té que la complexitat es redueix a $O(n)$."
   ]
  }
 ],
 "metadata": {
  "kernelspec": {
   "display_name": "Python 3",
   "language": "python",
   "name": "python3"
  },
  "language_info": {
   "codemirror_mode": {
    "name": "ipython",
    "version": 3
   },
   "file_extension": ".py",
   "mimetype": "text/x-python",
   "name": "python",
   "nbconvert_exporter": "python",
   "pygments_lexer": "ipython3",
   "version": "3.6.8"
  }
 },
 "nbformat": 4,
 "nbformat_minor": 2
}
