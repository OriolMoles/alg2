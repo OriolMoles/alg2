{
 "cells": [
  {
   "cell_type": "markdown",
   "metadata": {},
   "source": [
    "<div style=\"padding:30px; color: white; background-color: #0071CD\">\n",
    "<center>\n",
    "<img src=\"img/logoub.jpeg\">\n",
    "<center>\n",
    "<p>\n",
    "<h1>Algorítmica Avanzada</h1>\n",
    "<h2>Problemas 2.A - Greedy </h2>\n",
    "</center>\n",
    "</p>\n",
    "</div>"
   ]
  },
  {
   "cell_type": "markdown",
   "metadata": {},
   "source": [
    "<div class=\"alert alert-info\">\n",
    "<center>\n",
    "  <h1>Introducción</h1>\n",
    "</center>"
   ]
  },
  {
   "cell_type": "markdown",
   "metadata": {},
   "source": [
    "<p>Un algoritmo Greedy es aquel que trata de resolver un problema con la heurística de escoger, a cada paso, la opción óptima con la intención de encontrar una solución óptima global al problema. En caso general, este tipo de algoritmos no son capaces de encontrar la solución óptima, sin embargo, sí pueden encontrar soluciones subóptimas suficientemente cercanas con una coste computacional significativamente menor.</p>\n",
    "\n",
    "<h3>Ejemplo</h3>\n",
    "<p>Supongamos que intentamos encontrar la suma más grande en este grafo en forma de árbol. Un algoritmo greedy no consiste en encontrar una estrategia óptima global al problema, sino que a cada paso, buscará entre sus siguientes opciones cuál lleva más cerca de la solución (óptimo local).</p>\n",
    "<img src=\"https://upload.wikimedia.org/wikipedia/commons/8/8c/Greedy-search-path-example.gif\">\n",
    "\n",
    "<h2>Estructura</h2>\n",
    "\n",
    "Todos los algoritmos greedy comparten ciertas características:\n",
    "<ol>\n",
    "    <li><b>Conjunto</b> de elementos a partir de los cuales formar una solución.</li>\n",
    "    <li>Criterio de <b>elección</b> del siguiente elemento candidato (Heurística).</li>\n",
    "    <li>Criterio de <b>validación</b> sobre los elementos candidatos.</li>\n",
    "    <li>Criterio de <b>terminación</b>, que indica cuando hemos alcanzado una solución completa.</li>\n",
    "    <li>Métrica de <b>evaluación</b> de una solución, total o parcial.</li>\n",
    "</ol>"
   ]
  },
  {
   "cell_type": "markdown",
   "metadata": {},
   "source": [
    "<div class=\"alert alert-info\">\n",
    "<center>\n",
    "  <h1>Contenido</h1>\n",
    "  </center><p>\n",
    "\n"
   ]
  },
  {
   "cell_type": "markdown",
   "metadata": {},
   "source": [
    "\n",
    "<div class=\"alert alert-success\" style=\"width:90%; margin:0 auto;\">\n",
    "  <h2><p>0 - Problema de selección de actividades</p></h2>\n",
    "  \n",
    "  <p>\n",
    "  El problema de selección de actividades nos plantea la tarea de escoger una combinación de actividades que no se solapen dado un intervalo de tiempo. El objetivo final es poder realizar el mayor número de actividades, asumiendo que sólo es posible realizar una actividad simultáneamente.\n",
    "  </p>\n",
    "  \n",
    "  <p>\n",
    "   Dadas N actividades, cada una de ellas representadas por un tiempo de inicio $s_i$ y un tiempo de fin $f_i$. Dos actividades no se solapan si se cumple que $s_i \\geq f_j$ o $s_j \\geq f_i$. El problema de selección de actividades consiste en encontrar el mayor conjunto de entre las posibles soluciones de actividades que no se solapen.\n",
    "  </p>\n"
   ]
  },
  {
   "cell_type": "markdown",
   "metadata": {},
   "source": [
    "<div class=\"alert alert-danger\" style=\"width:80%; margin:0 auto; padding\">\n",
    "<center><p><h3> Código </h3></p> </center> \n",
    "\n",
    "<p>\n",
    "<h3>INPUT</h3>\n",
    "<ul>\n",
    "<li>__A__: Lista de actividades en forma de tupla (_inicio_, _fin_).</li>\n",
    "</ul>\n",
    "<br>\n",
    "<h3>OUTPUT</h3>\n",
    "<ul>\n",
    "<li>__S__: Lista de actividades que forman la solución.</li>\n",
    "<ul>\n",
    "\n",
    "</p>\n",
    "\n",
    "</div>"
   ]
  },
  {
   "cell_type": "code",
   "execution_count": null,
   "metadata": {
    "collapsed": true
   },
   "outputs": [],
   "source": [
    "def activity_selection_problem(A):        \n",
    "    pass"
   ]
  },
  {
   "cell_type": "code",
   "execution_count": null,
   "metadata": {
    "collapsed": true
   },
   "outputs": [],
   "source": [
    "from util import randomActivities\n",
    "\n",
    "A = randomActivities(8, 20)\n",
    "activity_selection_problem(A)"
   ]
  },
  {
   "cell_type": "markdown",
   "metadata": {},
   "source": [
    "<div class=\"alert alert-warning\">\n",
    "<h1>Pregunta 1</h1>\n",
    "<p><strong>\n",
    "¿Las soluciones que encontremos con este algoritmo serán óptimas?\n",
    "</strong></p>\n",
    "</div>"
   ]
  },
  {
   "cell_type": "markdown",
   "metadata": {},
   "source": [
    "\n",
    "<div class=\"alert alert-success\" style=\"width:90%; margin:0 auto;\">\n",
    "  <h2><p>1 - Problema del cambio</p></h2>\n",
    "  \n",
    "  <p>\n",
    "  Dada una cantidad de dinero $V$ a devolver, cual debería ser el cambio si queremos que el número total de monedas y billetes a utilizar sea el mínimo posible. Asumimos que tenemos una cantidad ilimitada de monedas y billetes de cada tipo.\n",
    "  </p>\n"
   ]
  },
  {
   "cell_type": "markdown",
   "metadata": {},
   "source": [
    "<div class=\"alert alert-danger\" style=\"width:80%; margin:0 auto; padding\">\n",
    "<center><p><h3> Código </h3></p> </center> \n",
    "\n",
    "<p>\n",
    "<h3>INPUT</h3>\n",
    "<ul>\n",
    "<li>__V__: Cantidad de dinero a devolver.</li>\n",
    "</ul>\n",
    "<br>\n",
    "<h3>OUTPUT</h3>\n",
    "<ul>\n",
    "<li>__C__: Cambio devuelto. Debe ser una lista de tuplas de la forma (valor, cantidad)</li>\n",
    "<ul>\n",
    "\n",
    "</p>\n",
    "\n",
    "</div>"
   ]
  },
  {
   "cell_type": "code",
   "execution_count": null,
   "metadata": {
    "collapsed": true
   },
   "outputs": [],
   "source": [
    "def coin_change_problem(V):\n",
    "    pass"
   ]
  },
  {
   "cell_type": "code",
   "execution_count": null,
   "metadata": {},
   "outputs": [],
   "source": [
    "import random\n",
    "\n",
    "sistema = [0.01,0.02,0.05,0.1,0.2,0.5,1,2,5,10,20,50,100,200,500]\n",
    "monedero = {s:random.randint(0,5) for s in sistema}\n",
    "\n",
    "V = round(random.uniform(0.01, 1000),2)\n",
    "\n",
    "coin_change_problem(V)"
   ]
  },
  {
   "cell_type": "markdown",
   "metadata": {},
   "source": [
    "<div class=\"alert alert-warning\">\n",
    "<h1>Pregunta 2</h1>\n",
    "<p><strong>\n",
    "¿Qué cambios habría que realizar al algoritmo si no asumimos una cantidad ilimitada de cada tipo de moneda/billete?\n",
    "</strong></p>\n",
    "</div>"
   ]
  },
  {
   "cell_type": "code",
   "execution_count": null,
   "metadata": {
    "collapsed": true
   },
   "outputs": [],
   "source": [
    "def coin_change_problem2(V):\n",
    "    pass"
   ]
  },
  {
   "cell_type": "code",
   "execution_count": null,
   "metadata": {
    "collapsed": true
   },
   "outputs": [],
   "source": [
    "import random\n",
    "\n",
    "V = random.uniform(0.01, 1000)\n",
    "\n",
    "coin_change_problem2(V)"
   ]
  },
  {
   "cell_type": "markdown",
   "metadata": {},
   "source": [
    "\n",
    "<div class=\"alert alert-success\" style=\"width:90%; margin:0 auto;\">\n",
    "  <h2><p>2 - Problema del vendedor ambulante</p></h2>\n",
    "  \n",
    "  <p>\n",
    "  Dada una lista de ciudades y las distancias entre cada par de ellas, ¿cuál es la ruta más corta posible que visita cada ciudad exactamente una vez y al finalizar regresa a la ciudad origen?\n",
    "  </p>"
   ]
  },
  {
   "cell_type": "markdown",
   "metadata": {},
   "source": [
    "<div class=\"alert alert-danger\" style=\"width:80%; margin:0 auto; padding\">\n",
    "<center><p><h3> Código </h3></p> </center> \n",
    "\n",
    "<p>\n",
    "<h3>INPUT</h3>\n",
    "<ul>\n",
    "<li>__cities__: Lista de ciudades en forma de tuplas (ciudad, latitud, longitud).</li>\n",
    "</ul>\n",
    "<br>\n",
    "<h3>OUTPUT</h3>\n",
    "<ul>\n",
    "<li>__path__: Camino encontrado en forma de lista de ciudades</li>\n",
    "<ul>\n",
    "\n",
    "</p>\n",
    "\n",
    "</div>"
   ]
  },
  {
   "cell_type": "code",
   "execution_count": null,
   "metadata": {
    "collapsed": true
   },
   "outputs": [],
   "source": [
    "def travelling_salesman_problem(cities):\n",
    "    pass"
   ]
  },
  {
   "cell_type": "code",
   "execution_count": null,
   "metadata": {
    "collapsed": true
   },
   "outputs": [],
   "source": [
    "from random import uniform\n",
    "\n",
    "cities = [(_, uniform(-50, 50), uniform(-50, 50)) for _ in range(1000)]\n",
    "\n",
    "travelling_salesman_problem(cities)"
   ]
  },
  {
   "cell_type": "markdown",
   "metadata": {},
   "source": [
    "<div class=\"alert alert-warning\">\n",
    "<h1>Pregunta 3</h1>\n",
    "<p><strong>\n",
    "¿Los caminos que encontremos con este algoritmo serán óptimos?\n",
    "</strong></p>\n",
    "</div>"
   ]
  },
  {
   "cell_type": "markdown",
   "metadata": {},
   "source": [
    "\n",
    "<div class=\"alert alert-success\" style=\"width:90%; margin:0 auto;\">\n",
    "  <h2><p>3 - Fracciones Egipcias</p></h2>\n",
    "  \n",
    "  <p>\n",
    "  Toda fracción positiva puede ser expresada como la suma de fracciones unitarias. Una fracción unitaria es aquella cuyo numerador es $1$ y el denominador es un entero positivo. \n",
    "  </p>\n",
    "  \n",
    "  <p>\n",
    "   Ejemplos:\n",
    "    <ul>\n",
    "        <li>$2/3 = 1/2 + 1/6$</li>\n",
    "        <li>$6/14 = 1/3 + 1/11 + 1/231$</li>\n",
    "        <li>$12/13 = 1/2 + 1/3 + 1/12 + 1/156$</li>\n",
    "    </ul>\n",
    "  </p>"
   ]
  },
  {
   "cell_type": "markdown",
   "metadata": {},
   "source": [
    "<div class=\"alert alert-danger\" style=\"width:80%; margin:0 auto; padding\">\n",
    "<center><p><h3> Código </h3></p> </center> \n",
    "\n",
    "<p>\n",
    "<h3>INPUT</h3>\n",
    "<ul>\n",
    "<li>__numerator__: Numerador.</li>\n",
    "<li>__denominator__: Denominador.</li>\n",
    "</ul>\n",
    "<br>\n",
    "<h3>OUTPUT</h3>\n",
    "<ul>\n",
    "<li>Sin output. Debe mostrar en pantalla la solución de esta forma: '1/2 + 1/3 + ...'</li>\n",
    "<ul>\n",
    "\n",
    "</p>\n",
    "\n",
    "</div>"
   ]
  },
  {
   "cell_type": "code",
   "execution_count": 527,
   "metadata": {},
   "outputs": [],
   "source": [
    "from fractions import Fraction\n",
    "from math import ceil\n",
    "\n",
    "MAX_ITER = 100\n",
    "        \n",
    "def egyptian_fractions(n, d):\n",
    "    f = Fraction(n, d)\n",
    "    print(f\"{n}/{d} = \", end=\"\")\n",
    "    \n",
    "    if f.numerator == 1:\n",
    "        print(f\"1/{d}\")\n",
    "        return\n",
    "    \n",
    "    big, it = False, 0\n",
    "    \n",
    "    while f != 0 and it < MAX_ITER:\n",
    "        if big:\n",
    "            it += 1\n",
    "        \n",
    "        if f.numerator == 1:\n",
    "            print(f\"1/{f.denominator}\")\n",
    "            break\n",
    "        \n",
    "        i = int(i * 1.1) if big else ceil(f.denominator / f.numerator)\n",
    "        f_i = Fraction(1, i)\n",
    "        \n",
    "        if f_i <= f:\n",
    "            if f_i < f:\n",
    "                print(f\"1/{i} + \", end=\"\")\n",
    "            else:\n",
    "                print(f\"1/{i}\")\n",
    "                \n",
    "            f = f - f_i\n",
    "        \n",
    "        else:\n",
    "            big = True\n",
    "            \n",
    "    if it == MAX_ITER:\n",
    "        print(f\"error({f.numerator / f.denominator:2.12})\")"
   ]
  },
  {
   "cell_type": "code",
   "execution_count": 537,
   "metadata": {},
   "outputs": [
    {
     "name": "stdout",
     "output_type": "stream",
     "text": [
      "37408/73690 = 1/2 + 1/131 + 1/153229 + 1/39977818820 + 1/1971145397005875937280 + 1/32703671310286617808522083732836843520 + 1/1787896439378602451264178135445976355414700526082719744 + 1/19371332177898287930861955280656418461410648613508349952 + 1/253958052333862841295488956058005382832346368866269528064 + 1/2751560818993043697679869195241160620893317629041361027072 + error(7.88716383585e-60)\n"
     ]
    }
   ],
   "source": [
    "from random import randint\n",
    "\n",
    "n = randint(10**3, 10**5)\n",
    "d = randint(10**3, 10**5)\n",
    "\n",
    "egyptian_fractions(n, d)"
   ]
  }
 ],
 "metadata": {
  "kernelspec": {
   "display_name": "Python 3",
   "language": "python",
   "name": "python3"
  },
  "language_info": {
   "codemirror_mode": {
    "name": "ipython",
    "version": 3
   },
   "file_extension": ".py",
   "mimetype": "text/x-python",
   "name": "python",
   "nbconvert_exporter": "python",
   "pygments_lexer": "ipython3",
   "version": "3.7.4"
  }
 },
 "nbformat": 4,
 "nbformat_minor": 2
}
