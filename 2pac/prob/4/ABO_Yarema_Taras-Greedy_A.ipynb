{
 "cells": [
  {
   "cell_type": "markdown",
   "metadata": {},
   "source": [
    "<div style=\"padding:30px; color: white; background-color: #0071CD\">\n",
    "<center>\n",
    "<img src=\"img/logoub.jpeg\">\n",
    "<center>\n",
    "<p>\n",
    "<h1>Algorítmica Avanzada</h1>\n",
    "<h2>Problemas 2.A - Greedy </h2>\n",
    "</center>\n",
    "</p>\n",
    "</div>"
   ]
  },
  {
   "cell_type": "markdown",
   "metadata": {},
   "source": [
    "<div class=\"alert alert-info\">\n",
    "<center>\n",
    "  <h1>Introducción</h1>\n",
    "</center>"
   ]
  },
  {
   "cell_type": "markdown",
   "metadata": {},
   "source": [
    "<p>Un algoritmo Greedy es aquel que trata de resolver un problema con la heurística de escoger, a cada paso, la opción óptima con la intención de encontrar una solución óptima global al problema. En caso general, este tipo de algoritmos no son capaces de encontrar la solución óptima, sin embargo, sí pueden encontrar soluciones subóptimas suficientemente cercanas con una coste computacional significativamente menor.</p>\n",
    "\n",
    "<h3>Ejemplo</h3>\n",
    "<p>Supongamos que intentamos encontrar la suma más grande en este grafo en forma de árbol. Un algoritmo greedy no consiste en encontrar una estrategia óptima global al problema, sino que a cada paso, buscará entre sus siguientes opciones cuál lleva más cerca de la solución (óptimo local).</p>\n",
    "<img src=\"https://upload.wikimedia.org/wikipedia/commons/8/8c/Greedy-search-path-example.gif\">\n",
    "\n",
    "<h2>Estructura</h2>\n",
    "\n",
    "Todos los algoritmos greedy comparten ciertas características:\n",
    "<ol>\n",
    "    <li><b>Conjunto</b> de elementos a partir de los cuales formar una solución.</li>\n",
    "    <li>Criterio de <b>elección</b> del siguiente elemento candidato (Heurística).</li>\n",
    "    <li>Criterio de <b>validación</b> sobre los elementos candidatos.</li>\n",
    "    <li>Criterio de <b>terminación</b>, que indica cuando hemos alcanzado una solución completa.</li>\n",
    "    <li>Métrica de <b>evaluación</b> de una solución, total o parcial.</li>\n",
    "</ol>"
   ]
  },
  {
   "cell_type": "markdown",
   "metadata": {},
   "source": [
    "<div class=\"alert alert-info\">\n",
    "<center>\n",
    "  <h1>Contenido</h1>\n",
    "  </center><p>\n",
    "\n"
   ]
  },
  {
   "cell_type": "markdown",
   "metadata": {},
   "source": [
    "\n",
    "<div class=\"alert alert-success\" style=\"width:90%; margin:0 auto;\">\n",
    "  <h2><p>0 - Problema de selección de actividades</p></h2>\n",
    "  \n",
    "  <p>\n",
    "  El problema de selección de actividades nos plantea la tarea de escoger una combinación de actividades que no se solapen dado un intervalo de tiempo. El objetivo final es poder realizar el mayor número de actividades, asumiendo que sólo es posible realizar una actividad simultáneamente.\n",
    "  </p>\n",
    "  \n",
    "  <p>\n",
    "   Dadas N actividades, cada una de ellas representadas por un tiempo de inicio $s_i$ y un tiempo de fin $f_i$. Dos actividades no se solapan si se cumple que $s_i \\geq f_j$ o $s_j \\geq f_i$. El problema de selección de actividades consiste en encontrar el mayor conjunto de entre las posibles soluciones de actividades que no se solapen.\n",
    "  </p>\n"
   ]
  },
  {
   "cell_type": "markdown",
   "metadata": {},
   "source": [
    "<div class=\"alert alert-danger\" style=\"width:80%; margin:0 auto; padding\">\n",
    "<center><p><h3> Código </h3></p> </center> \n",
    "\n",
    "<p>\n",
    "<h3>INPUT</h3>\n",
    "<ul>\n",
    "<li>__A__: Lista de actividades en forma de tupla (_inicio_, _fin_).</li>\n",
    "</ul>\n",
    "<br>\n",
    "<h3>OUTPUT</h3>\n",
    "<ul>\n",
    "<li>__S__: Lista de actividades que forman la solución.</li>\n",
    "<ul>\n",
    "\n",
    "</p>\n",
    "\n",
    "</div>"
   ]
  },
  {
   "cell_type": "code",
   "execution_count": 1,
   "metadata": {},
   "outputs": [],
   "source": [
    "from datetime import datetime\n",
    "\n",
    "def parse_activities(A):\n",
    "    \"\"\"\n",
    "    Returns a ordered list containing\n",
    "    the activities timestamps duration tuples.\n",
    "    \n",
    "    Parameters\n",
    "    ----------\n",
    "        A, list[tuple]\n",
    "        \n",
    "    Returns\n",
    "    -------\n",
    "        list\n",
    "    \"\"\"\n",
    "    \n",
    "    pairs = []\n",
    "    \n",
    "    for b, e in A:\n",
    "        h, m = map(int, b.split(\":\"))\n",
    "        de = datetime(2019, 1, 1, h, m).timestamp()\n",
    "        \n",
    "        h, m = map(int, e.split(\":\"))\n",
    "        df = datetime(2019, 1, 1, h, m).timestamp()\n",
    "        \n",
    "        pairs.append((de, df, (b, e)))\n",
    "    \n",
    "    return sorted(pairs, key=lambda x: x[0])"
   ]
  },
  {
   "cell_type": "code",
   "execution_count": 2,
   "metadata": {},
   "outputs": [],
   "source": [
    "def activity_selection_problem(A): \n",
    "    \"\"\"\n",
    "    Returns a greedy activity selection.\n",
    "    \n",
    "    Parameters\n",
    "    ----------\n",
    "        A, list[tuple]\n",
    "        \n",
    "    Returns\n",
    "    -------\n",
    "        list\n",
    "            List with non \n",
    "            intersected activities\n",
    "    \"\"\"\n",
    "    # We parse the activyt list\n",
    "    # and init the selected list\n",
    "    # with the first activity\n",
    "    \n",
    "    act = parse_activities(A)\n",
    "    sel = [act[0]]\n",
    "    \n",
    "    for i in range(1, len(act)):\n",
    "        \n",
    "        # Heuristic:\n",
    "        # If the i-th activity begin\n",
    "        # is after the last selected activity\n",
    "        # we take it\n",
    "        \n",
    "        if act[i][0] >= sel[-1][1]:\n",
    "            sel.append(act[i])\n",
    "    \n",
    "    return [a for _,_,a in sel]"
   ]
  },
  {
   "cell_type": "code",
   "execution_count": 3,
   "metadata": {},
   "outputs": [
    {
     "data": {
      "text/plain": [
       "[('08:29', '09:26'),\n",
       " ('09:26', '11:39'),\n",
       " ('11:43', '13:24'),\n",
       " ('13:54', '16:22'),\n",
       " ('17:32', '18:35')]"
      ]
     },
     "execution_count": 3,
     "metadata": {},
     "output_type": "execute_result"
    }
   ],
   "source": [
    "from util import randomActivities\n",
    "\n",
    "A = randomActivities(8, 20)\n",
    "activity_selection_problem(A)"
   ]
  },
  {
   "cell_type": "markdown",
   "metadata": {},
   "source": [
    "<div class=\"alert alert-warning\">\n",
    "<h1>Pregunta 1</h1>\n",
    "<p><strong>\n",
    "¿Las soluciones que encontremos con este algoritmo serán óptimas?\n",
    "</strong></p>\n",
    "</div>"
   ]
  },
  {
   "cell_type": "markdown",
   "metadata": {},
   "source": [
    "**No**. Sempre se suposa que la següent activitat és la óptima."
   ]
  },
  {
   "cell_type": "markdown",
   "metadata": {},
   "source": [
    "\n",
    "<div class=\"alert alert-success\" style=\"width:90%; margin:0 auto;\">\n",
    "  <h2><p>1 - Problema del cambio</p></h2>\n",
    "  \n",
    "  <p>\n",
    "  Dada una cantidad de dinero $V$ a devolver, cual debería ser el cambio si queremos que el número total de monedas y billetes a utilizar sea el mínimo posible. Asumimos que tenemos una cantidad ilimitada de monedas y billetes de cada tipo.\n",
    "  </p>\n"
   ]
  },
  {
   "cell_type": "markdown",
   "metadata": {},
   "source": [
    "<div class=\"alert alert-danger\" style=\"width:80%; margin:0 auto; padding\">\n",
    "<center><p><h3> Código </h3></p> </center> \n",
    "\n",
    "<p>\n",
    "<h3>INPUT</h3>\n",
    "<ul>\n",
    "<li>__V__: Cantidad de dinero a devolver.</li>\n",
    "</ul>\n",
    "<br>\n",
    "<h3>OUTPUT</h3>\n",
    "<ul>\n",
    "<li>__C__: Cambio devuelto. Debe ser una lista de tuplas de la forma (valor, cantidad)</li>\n",
    "<ul>\n",
    "\n",
    "</p>\n",
    "\n",
    "</div>"
   ]
  },
  {
   "cell_type": "code",
   "execution_count": 4,
   "metadata": {},
   "outputs": [],
   "source": [
    "def coin_change_problem(V, m=None, s=[]):\n",
    "    \"\"\"\n",
    "    Computes the change in a greedy way.\n",
    "    \n",
    "    Parameters\n",
    "    ----------\n",
    "        V, float\n",
    "            Cash to return\n",
    "        m, object or None\n",
    "            Wallet\n",
    "        s, list\n",
    "            Currency system.\n",
    "    \n",
    "    Returns\n",
    "    -------\n",
    "        list[tuple]\n",
    "    \"\"\"\n",
    "    \n",
    "    # We may suppose it's already ordered...\n",
    "    ss = sorted(s, reverse=True)\n",
    "    r, c = V, []\n",
    "    \n",
    "    while len(ss) > 0:\n",
    "        # The pivot is the largest element \n",
    "        # left in the queue ss (first)\n",
    "        piv = ss[0]\n",
    "        \n",
    "        # The quantity of piv to\n",
    "        # sustract from the cash left\n",
    "        tmp = int(r // piv)\n",
    "        \n",
    "        if tmp > 0:\n",
    "            # Her we check if there's a wallet (m)\n",
    "            # If it's given, don't use cash you don't have\n",
    "            # If it's None, you have unlimited cash to give\n",
    "            if (m is None) or (m is not None and m[piv] >= tmp):\n",
    "                r -= piv * tmp\n",
    "                c.append((piv, tmp))\n",
    "                    \n",
    "        # Error handling\n",
    "        if r < 1e-6:\n",
    "            break\n",
    "        \n",
    "        # Pop the first element of ss,\n",
    "        # the pivot\n",
    "        ss = ss[1::]\n",
    "    \n",
    "    return c"
   ]
  },
  {
   "cell_type": "code",
   "execution_count": 5,
   "metadata": {},
   "outputs": [
    {
     "name": "stdout",
     "output_type": "stream",
     "text": [
      "Cash to return: 973.75\n",
      "\n",
      "With a limited wallet\n",
      "Returned: [(500, 1), (200, 2), (50, 1), (20, 1), (2, 1), (1, 1), (0.5, 1), (0.2, 1), (0.02, 2)]\n",
      "Error:    0.009999999999990905\n",
      "\n",
      "CaixaBank\n",
      "Returned: [(500, 1), (200, 2), (50, 1), (20, 1), (2, 1), (1, 1), (0.5, 1), (0.2, 1), (0.02, 2)]\n",
      "Error:    0.009999999999990905\n"
     ]
    }
   ],
   "source": [
    "import random\n",
    "\n",
    "sistema = [0.01, 0.02, 0.05, 0.1, 0.2, 0.5, 1, 2, 5, 10, 20, 50, 100, 200, 500]\n",
    "monedero = {s:random.randint(0,5) for s in sistema}\n",
    "V = round(random.uniform(0.01, 1000), 2)\n",
    "\n",
    "change = coin_change_problem(V, m=monedero, s=sistema)\n",
    "change2 = coin_change_problem(V, s=sistema)\n",
    "\n",
    "print(f\"Cash to return: {V}\\n\")\n",
    "print(\"With a limited wallet\")\n",
    "print(f\"Returned: {change}\")\n",
    "print(f\"Error:    {V - sum([v*q for v, q in change])}\\n\")\n",
    "print(f\"CaixaBank\")\n",
    "print(f\"Returned: {change2}\")\n",
    "print(f\"Error:    {V - sum([v*q for v, q in change2])}\")"
   ]
  },
  {
   "cell_type": "markdown",
   "metadata": {},
   "source": [
    "<div class=\"alert alert-warning\">\n",
    "<h1>Pregunta 2</h1>\n",
    "<p><strong>\n",
    "¿Qué cambios habría que realizar al algoritmo si no asumimos una cantidad ilimitada de cada tipo de moneda/billete?\n",
    "</strong></p>\n",
    "</div>"
   ]
  },
  {
   "cell_type": "markdown",
   "metadata": {},
   "source": [
    "Donat que la implementació inicial ja contempla aquest cas, podem cridar directament `coin_change_problem`. \n",
    "\n",
    "En el codi de la funció inicial està explicat com es contempla aquest cas."
   ]
  },
  {
   "cell_type": "code",
   "execution_count": 6,
   "metadata": {},
   "outputs": [],
   "source": [
    "def coin_change_problem2(V, m={}, s=[]):\n",
    "    return coin_change_problem(V, m=m, s=s)"
   ]
  },
  {
   "cell_type": "code",
   "execution_count": 7,
   "metadata": {},
   "outputs": [
    {
     "data": {
      "text/plain": [
       "[(200, 1), (100, 1), (10, 1), (5, 1), (2, 1)]"
      ]
     },
     "execution_count": 7,
     "metadata": {},
     "output_type": "execute_result"
    }
   ],
   "source": [
    "import random\n",
    "\n",
    "V = round(random.uniform(0.01, 1000), 2)\n",
    "\n",
    "coin_change_problem2(V, m=monedero, s=sistema)"
   ]
  },
  {
   "cell_type": "markdown",
   "metadata": {},
   "source": [
    "\n",
    "<div class=\"alert alert-success\" style=\"width:90%; margin:0 auto;\">\n",
    "  <h2><p>2 - Problema del vendedor ambulante</p></h2>\n",
    "  \n",
    "  <p>\n",
    "  Dada una lista de ciudades y las distancias entre cada par de ellas, ¿cuál es la ruta más corta posible que visita cada ciudad exactamente una vez y al finalizar regresa a la ciudad origen?\n",
    "  </p>"
   ]
  },
  {
   "cell_type": "markdown",
   "metadata": {},
   "source": [
    "<div class=\"alert alert-danger\" style=\"width:80%; margin:0 auto; padding\">\n",
    "<center><p><h3> Código </h3></p> </center> \n",
    "\n",
    "<p>\n",
    "<h3>INPUT</h3>\n",
    "<ul>\n",
    "<li>__cities__: Lista de ciudades en forma de tuplas (ciudad, latitud, longitud).</li>\n",
    "</ul>\n",
    "<br>\n",
    "<h3>OUTPUT</h3>\n",
    "<ul>\n",
    "<li>__path__: Camino encontrado en forma de lista de ciudades</li>\n",
    "<ul>\n",
    "\n",
    "</p>\n",
    "\n",
    "</div>"
   ]
  },
  {
   "cell_type": "code",
   "execution_count": 8,
   "metadata": {},
   "outputs": [],
   "source": [
    "def travelling_salesman_problem(cities):\n",
    "    \"\"\"\n",
    "    Returns a greedy solutions to the TSP problem.\n",
    "    \n",
    "    Parameters\n",
    "    ----------\n",
    "        cities, list[tuple]\n",
    "            The list of cities in the format\n",
    "            (city_id, latitude, longitude)\n",
    "    \n",
    "    Returns\n",
    "    -------\n",
    "        list\n",
    "            The trip\n",
    "    \"\"\"\n",
    "    \n",
    "    city = cities[0]\n",
    "    cities = cities[1::]\n",
    "    trip = [city[0]]    \n",
    "    \n",
    "    while len(cities) > 0:\n",
    "        min_d = 2**32 - 1\n",
    "        \n",
    "        # Loop over the non visited cities\n",
    "        for _city in cities:\n",
    "            \n",
    "            # Heuristic:\n",
    "            # We compute the euclidean distance\n",
    "            # and update the minimum distance\n",
    "            \n",
    "            tmp_min = ((_city[1]-city[1]) * (_city[1]-city[1])) + ((_city[2]-city[2]) * (_city[2]-city[2]))\n",
    "            \n",
    "            if tmp_min < min_d:\n",
    "                min_d = tmp_min\n",
    "                city = _city\n",
    "        \n",
    "        # Add the found city to the trip\n",
    "        trip += [city[0]]\n",
    "        cities.remove(city)\n",
    "    \n",
    "    # Make it cyclic\n",
    "    return trip + [trip[0]]"
   ]
  },
  {
   "cell_type": "code",
   "execution_count": 9,
   "metadata": {},
   "outputs": [
    {
     "name": "stdout",
     "output_type": "stream",
     "text": [
      "EPIC TRIP:\n",
      "0,476,619,133,770,653,841,273,580,323,613,670,691,880,562,707,240,867,511,446,539,606,531,875,473,428,405,142,300,954,751,899,720,908,410,901,632,630,812,831,971,819,960,823,740,787,795,687,176,603,232,843,736,673,998,197,265,224,425,945,217,196,497,979,847,780,842,750,420,610,386,128,881,939,873,914,854,71,260,301,685,913,628,594,97,138,579,992,916,278,668,395,415,756,754,466,760,403,902,739,665,775,655,774,786,793,719,713,304,906,790,616,186,505,715,264,853,849,614,185,243,216,397,805,820,321,891,117,955,433,557,287,771,940,239,824,990,642,974,937,429,981,712,919,333,772,672,808,970,895,454,896,757,336,815,226,705,18,882,482,987,758,845,154,400,1,235,698,509,439,213,39,241,67,833,718,918,696,250,103,144,155,629,553,140,930,390,813,717,590,325,327,567,282,354,857,318,302,348,207,115,766,868,977,801,949,957,953,863,776,686,83,612,898,479,544,900,932,675,409,582,523,773,704,799,947,485,510,973,533,671,592,972,785,499,535,909,437,710,727,516,861,402,422,382,15,211,307,810,263,288,884,892,706,351,903,451,194,711,946,305,517,844,994,460,846,993,923,811,742,883,876,654,709,667,925,834,649,643,728,927,730,814,878,791,964,699,664,472,975,725,735,380,764,830,615,680,731,461,371,597,617,481,407,602,678,682,676,781,769,956,716,631,745,518,450,343,206,666,231,856,457,804,618,967,721,962,912,507,959,768,404,118,169,359,558,570,536,431,337,137,550,486,470,746,483,490,700,635,498,648,546,555,976,543,350,440,660,652,442,933,951,893,538,383,702,332,331,203,35,75,59,149,593,871,605,576,694,571,141,365,456,835,584,890,836,931,872,859,837,564,761,541,335,17,591,714,514,192,255,373,164,277,340,121,253,212,520,611,370,146,600,388,445,276,233,608,534,477,274,493,294,324,330,317,279,385,267,214,319,312,208,552,929,928,289,55,9,261,88,129,248,999,484,997,767,942,860,968,87,424,865,744,697,625,427,19,2,922,589,684,423,634,995,889,320,577,934,917,708,765,349,573,49,545,54,695,996,246,346,985,966,984,471,637,599,556,920,794,690,722,458,683,627,399,986,969,905,862,826,374,661,308,421,586,449,747,190,219,311,426,372,295,161,339,379,322,838,961,749,157,663,574,724,474,434,225,106,38,79,70,167,62,851,36,3,42,152,283,989,524,636,832,221,480,508,792,778,363,549,529,290,116,127,145,188,347,723,650,688,595,894,980,689,991,662,624,296,210,72,95,462,236,528,527,563,657,958,888,585,983,840,988,788,789,280,674,581,110,360,182,620,358,125,180,178,748,941,963,540,796,681,782,525,123,515,504,943,268,292,132,56,494,143,306,102,822,452,656,669,465,879,512,755,432,522,220,69,269,752,924,447,547,762,866,503,500,242,548,885,551,679,936,950,387,741,406,414,459,441,821,436,651,783,952,938,848,869,753,444,982,392,381,41,81,50,488,828,726,491,978,565,798,506,877,247,293,419,464,729,334,596,572,519,907,376,153,329,475,368,256,139,677,411,130,377,609,738,779,777,763,948,501,818,126,800,179,658,858,521,375,89,32,170,201,259,114,418,393,408,150,108,51,12,173,315,195,342,487,328,299,309,48,93,166,109,222,159,223,230,171,177,344,733,622,356,160,244,496,391,298,229,202,266,338,626,806,850,703,430,205,165,100,20,148,94,80,84,76,22,965,647,926,737,601,944,537,52,174,275,66,921,416,345,513,326,389,598,285,291,99,183,34,438,743,435,218,47,640,112,227,807,502,839,469,341,693,352,468,417,303,394,316,272,587,367,92,198,270,200,40,25,215,284,249,181,45,74,113,120,53,23,46,27,98,14,104,147,816,803,151,262,24,68,136,135,30,366,353,91,37,156,910,825,621,131,65,60,542,21,897,864,357,759,588,641,251,568,4,7,809,797,281,314,817,607,583,852,935,784,829,701,887,559,646,560,578,802,633,904,886,638,732,870,575,623,569,237,398,467,566,874,401,530,645,489,554,526,396,827,532,412,209,101,31,77,11,5,33,29,162,286,310,361,258,313,734,692,604,915,639,453,495,659,478,855,644,911,455,257,364,362,413,443,448,271,245,252,73,184,78,63,82,107,189,204,134,193,175,96,90,124,168,122,355,378,199,492,163,111,191,463,85,234,119,64,61,297,369,561,238,187,228,384,254,172,26,10,13,6,58,105,8,44,43,16,158,86,57,28,0\n"
     ]
    }
   ],
   "source": [
    "from random import uniform\n",
    "\n",
    "cities = [(_, uniform(-50, 50), uniform(-50, 50)) for _ in range(1000)]\n",
    "trip = travelling_salesman_problem(cities)\n",
    "\n",
    "print(\"EPIC TRIP:\")\n",
    "print(\",\".join(map(str,trip)))"
   ]
  },
  {
   "cell_type": "markdown",
   "metadata": {},
   "source": [
    "<div class=\"alert alert-warning\">\n",
    "<h1>Pregunta 3</h1>\n",
    "<p><strong>\n",
    "¿Los caminos que encontremos con este algoritmo serán óptimos?\n",
    "</strong></p>\n",
    "</div>"
   ]
  },
  {
   "cell_type": "markdown",
   "metadata": {},
   "source": [
    "**No**. Obviament la heurísitca de la distància no assegura en cap moment que el viatge sigui óptim."
   ]
  },
  {
   "cell_type": "markdown",
   "metadata": {},
   "source": [
    "\n",
    "<div class=\"alert alert-success\" style=\"width:90%; margin:0 auto;\">\n",
    "  <h2><p>3 - Fracciones Egipcias</p></h2>\n",
    "  \n",
    "  <p>\n",
    "  Toda fracción positiva puede ser expresada como la suma de fracciones unitarias. Una fracción unitaria es aquella cuyo numerador es $1$ y el denominador es un entero positivo. \n",
    "  </p>\n",
    "  \n",
    "  <p>\n",
    "   Ejemplos:\n",
    "    <ul>\n",
    "        <li>$2/3 = 1/2 + 1/6$</li>\n",
    "        <li>$6/14 = 1/3 + 1/11 + 1/231$</li>\n",
    "        <li>$12/13 = 1/2 + 1/3 + 1/12 + 1/156$</li>\n",
    "    </ul>\n",
    "  </p>"
   ]
  },
  {
   "cell_type": "markdown",
   "metadata": {},
   "source": [
    "<div class=\"alert alert-danger\" style=\"width:80%; margin:0 auto; padding\">\n",
    "<center><p><h3> Código </h3></p> </center> \n",
    "\n",
    "<p>\n",
    "<h3>INPUT</h3>\n",
    "<ul>\n",
    "<li>__numerator__: Numerador.</li>\n",
    "<li>__denominator__: Denominador.</li>\n",
    "</ul>\n",
    "<br>\n",
    "<h3>OUTPUT</h3>\n",
    "<ul>\n",
    "<li>Sin output. Debe mostrar en pantalla la solución de esta forma: '1/2 + 1/3 + ...'</li>\n",
    "<ul>\n",
    "\n",
    "</p>\n",
    "\n",
    "</div>"
   ]
  },
  {
   "cell_type": "code",
   "execution_count": 10,
   "metadata": {},
   "outputs": [],
   "source": [
    "from fractions import Fraction\n",
    "from math import ceil\n",
    "\n",
    "MAX_ITER = 100\n",
    "        \n",
    "def egyptian_fractions(n, d):\n",
    "    \"\"\"\n",
    "    Prints the unitary fracton descomposition of a fraction.\n",
    "    \n",
    "    Parameters\n",
    "    ----------\n",
    "        n, int\n",
    "            Numerator\n",
    "        \n",
    "        d, int\n",
    "            Denominator\n",
    "        \n",
    "    Returns\n",
    "    -------\n",
    "        None\n",
    "    \"\"\"\n",
    "    \n",
    "    # We init the fraction\n",
    "    f = Fraction(n, d)\n",
    "    print(f\"{n}/{d} = \", end=\"\")\n",
    "    \n",
    "    # If fraction is already unitary, return\n",
    "    if f.numerator == 1:\n",
    "        print(f\"1/{d}\")\n",
    "        return\n",
    "    \n",
    "    # Flags to stop the execution\n",
    "    big, it = False, 0\n",
    "    \n",
    "    while f != 0 and it < MAX_ITER:\n",
    "        # If we arrived to a big fraction\n",
    "        # we will loop at max MAX_ITER times\n",
    "        if big:\n",
    "            it += 1\n",
    "        \n",
    "        # Same scenario as the base if\n",
    "        if f.numerator == 1:\n",
    "            print(f\"1/{f.denominator}\")\n",
    "            break\n",
    "        \n",
    "        # Compute the new denominator\n",
    "        i = int(i * 1.1) if big else ceil(f.denominator / f.numerator)\n",
    "        f_i = Fraction(1, i)\n",
    "        \n",
    "        if f_i <= f:\n",
    "            # We print dinamically\n",
    "            if f_i < f:\n",
    "                print(f\"1/{i} + \", end=\"\")\n",
    "            else:\n",
    "                print(f\"1/{i}\")\n",
    "                \n",
    "            f = f - f_i\n",
    "        \n",
    "        else:\n",
    "            big = True\n",
    "            \n",
    "    if it == MAX_ITER:\n",
    "        print(f\"error({f.numerator / f.denominator:2.12})\")"
   ]
  },
  {
   "cell_type": "code",
   "execution_count": 11,
   "metadata": {},
   "outputs": [
    {
     "name": "stdout",
     "output_type": "stream",
     "text": [
      "7719/49500 = 1/7 + 1/77 + 1/10500\n"
     ]
    }
   ],
   "source": [
    "from random import randint\n",
    "\n",
    "n = randint(10**3, 10**5)\n",
    "d = randint(10**3, 10**5)\n",
    "\n",
    "egyptian_fractions(n, d)"
   ]
  }
 ],
 "metadata": {
  "kernelspec": {
   "display_name": "Python 3",
   "language": "python",
   "name": "python3"
  },
  "language_info": {
   "codemirror_mode": {
    "name": "ipython",
    "version": 3
   },
   "file_extension": ".py",
   "mimetype": "text/x-python",
   "name": "python",
   "nbconvert_exporter": "python",
   "pygments_lexer": "ipython3",
   "version": "3.7.4"
  }
 },
 "nbformat": 4,
 "nbformat_minor": 2
}
