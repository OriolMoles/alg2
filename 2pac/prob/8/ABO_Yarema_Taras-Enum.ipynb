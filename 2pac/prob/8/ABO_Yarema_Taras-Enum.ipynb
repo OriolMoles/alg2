{
 "cells": [
  {
   "cell_type": "markdown",
   "metadata": {},
   "source": [
    "<div style=\"padding:30px; color: white; background-color: #0071CD\">\n",
    "<center>\n",
    "    <img src=\"img/logoub.jpeg\"></img>\n",
    "<p>\n",
    "<h1>Algorítmica Avanzada</h1>\n",
    "<h2>Problemas Enumerativos</h2>\n",
    "</center>\n",
    "</p>\n",
    "</div>"
   ]
  },
  {
   "cell_type": "markdown",
   "metadata": {},
   "source": [
    "<div class=\"alert alert-info\">\n",
    "<center>\n",
    "  <h1>Backtracking</h1>\n",
    "</center>\n",
    "</div>"
   ]
  },
  {
   "cell_type": "markdown",
   "metadata": {},
   "source": [
    "<div class=\"alert alert-success\" style=\"width:90%; margin:0 auto;\">\n",
    "<h2><p>0. Cartas</p></h2>\n",
    "<p>\n",
    "Supongamos que tenemos un conjunto de parejas de cartas del mismo valor. En particular, tenemos parejas de cartas hasta N. Por ejemplo, para $N=3$ tendríamos una pareja de 1s, una de 2s y una de 3s (un total de 6 cartas). Lo que queremos es encontrar la manera de ordenarlas para que entre las dos cartas de valor $n_i$ haya exactamente $n_i$ cartas. En el ejemplo con $N=3$ tendríamos la siguiente solución:\n",
    "</p>\n",
    "<center> <b>   3 - 1 - 2 - 1- 3 - 2 </b></center>\n",
    "<p>\n",
    "Podemos observar que entre los 3 hay tres cartas, entre los 2 hay dos y entre los 1 solo hay una. Dependiendo del tamaño de N el problema podría no tener solución. Por ejemplo $N=5$ o $N=6$. Se pide la implementación de un algoritmo que, mediante backtracking, devuelva una lista con la configuración encontrada dado un valor N. En caso de no haber solución, debe devolver una lista vacía.\n",
    "</p> <p>\n",
    "Es importante destacar que tendréis que prestar especial atención a la complejidad de vuestra solución, dado que el problema crece de forma no polinómica y para un valor $N>12$ podría tardar horas. Hay diferentes aproximaciones para resolverlo. Bien hecho, $N=12$ debería tardar escasos segundos. Si haces varias versiones, puedes entregarlas junto con la comparativa de complejidad correspondiente.</p>\n",
    "</div>"
   ]
  },
  {
   "cell_type": "code",
   "execution_count": 12,
   "metadata": {},
   "outputs": [
    {
     "data": {
      "text/plain": [
       "{3: [(0, 4), (1, 5)],\n",
       " 2: [(0, 3), (1, 4), (2, 5)],\n",
       " 1: [(0, 2), (1, 3), (2, 4), (3, 5)]}"
      ]
     },
     "execution_count": 12,
     "metadata": {},
     "output_type": "execute_result"
    }
   ],
   "source": [
    "def compute(n):\n",
    "    \"\"\"\n",
    "    Computes the possible combinations\n",
    "    of positions for every card.\n",
    "    \n",
    "    Parameters\n",
    "    ----------\n",
    "        n, int\n",
    "        \n",
    "    Returns\n",
    "    -------\n",
    "        dict\n",
    "            Possible combinations\n",
    "    \"\"\"\n",
    "    \n",
    "    sol = {}\n",
    "    \n",
    "    for i in range(n, 0, -1):\n",
    "        sol[i] = []\n",
    "        \n",
    "        for j in range((2 * n) - i - 1):\n",
    "            x, y = j, j + i + 1\n",
    "            \n",
    "            sol[i].append((x, y))  \n",
    "    \n",
    "    return sol\n",
    "\n",
    "compute(3)"
   ]
  },
  {
   "cell_type": "code",
   "execution_count": 13,
   "metadata": {},
   "outputs": [
    {
     "data": {
      "text/plain": [
       "[3, 1, 2, 1, 3, 2]"
      ]
     },
     "execution_count": 13,
     "metadata": {},
     "output_type": "execute_result"
    }
   ],
   "source": [
    "def naive_deck(n, solutions={}, selected=[]):\n",
    "    \"\"\"\n",
    "    Naive implementation.\n",
    "    Recursive and slow af.\n",
    "    For n > 12, if takes a while...\n",
    "    \n",
    "    Parameters\n",
    "    ----------\n",
    "        n, int\n",
    "        \n",
    "        solutions, dict \n",
    "            Rec. parameter\n",
    "        selected, list\n",
    "            Rec. parameter\n",
    "        \n",
    "    Returns\n",
    "    -------\n",
    "        list\n",
    "            Card ordering, or\n",
    "            empty if can not.\n",
    "    \"\"\"\n",
    "    \n",
    "    if n == 0:\n",
    "        return selected if all(selected) else []\n",
    "    \n",
    "    for x, y in solutions[n]:\n",
    "        ss = selected.copy()\n",
    "        \n",
    "        if not ss[x] and not ss[y] and n not in ss:            \n",
    "            ss[x], ss[y] = n, n\n",
    "            \n",
    "            # print(n, (x, y), ss)\n",
    "            _s = naive_deck(n - 1, solutions=solutions, selected=ss)\n",
    "            \n",
    "            if _s and len(_s) > 0:\n",
    "                return _s\n",
    "    \n",
    "    return selected if all(selected) else []\n",
    "\n",
    "n = 3\n",
    "naive_deck(n, solutions=compute(n), selected=[False for _ in range(2 * n)])"
   ]
  },
  {
   "cell_type": "code",
   "execution_count": 14,
   "metadata": {},
   "outputs": [
    {
     "name": "stdout",
     "output_type": "stream",
     "text": [
      "Requirement already satisfied: numpy in /home/taras/.local/lib/python3.8/site-packages (1.17.4)\r\n",
      "Requirement already satisfied: matplotlib in /home/taras/.local/lib/python3.8/site-packages (3.1.2)\r\n",
      "Requirement already satisfied: kiwisolver>=1.0.1 in /home/taras/.local/lib/python3.8/site-packages (from matplotlib) (1.1.0)\r\n",
      "Requirement already satisfied: cycler>=0.10 in /home/taras/.local/lib/python3.8/site-packages (from matplotlib) (0.10.0)\r\n",
      "Requirement already satisfied: pyparsing!=2.0.4,!=2.1.2,!=2.1.6,>=2.0.1 in /usr/lib/python3.8/site-packages (from matplotlib) (2.4.5)\r\n",
      "Requirement already satisfied: python-dateutil>=2.1 in /usr/lib/python3.8/site-packages (from matplotlib) (2.8.1)\r\n",
      "Requirement already satisfied: setuptools in /usr/lib/python3.8/site-packages (from kiwisolver>=1.0.1->matplotlib) (41.6.0)\r\n",
      "Requirement already satisfied: six in /usr/lib/python3.8/site-packages (from cycler>=0.10->matplotlib) (1.13.0)\r\n"
     ]
    }
   ],
   "source": [
    "import sys\n",
    "!{sys.executable} -m pip install --user numpy matplotlib\n",
    "\n",
    "import numpy as np"
   ]
  },
  {
   "cell_type": "code",
   "execution_count": 15,
   "metadata": {},
   "outputs": [],
   "source": [
    "def deck(n):\n",
    "    \"\"\"\n",
    "    Algorithm to compute the ordering\n",
    "    of n pairs of cards with the given\n",
    "    conditions.\n",
    "    \n",
    "    Parameters\n",
    "    ----------\n",
    "        n, int\n",
    "        \n",
    "    Returns\n",
    "    -------\n",
    "        list\n",
    "            Deck ordering or\n",
    "            empty list if do not exist\n",
    "    \"\"\"\n",
    "    \n",
    "    # Init the (2 * n) x n matrix \n",
    "    # with 0 values (initial states).\n",
    "    \n",
    "    m = np.array([[ 0 for _ in range(2 * n)] for _ in range(n) ], dtype=np.int)\n",
    "    i, error = 0, False\n",
    "    \n",
    "    while i < n:\n",
    "        p = n - i\n",
    "        \n",
    "        # Initial case\n",
    "        \n",
    "        if i == 0:\n",
    "            \n",
    "            # The _break variable will be\n",
    "            # used in this algorithm to check\n",
    "            # if we selected a pair or not.\n",
    "            \n",
    "            _break = False\n",
    "            \n",
    "            for j in range((2 * n) - p - 1):\n",
    "                \n",
    "                # Only select when the current \n",
    "                # position is a zero (initial state)\n",
    "                \n",
    "                if m[i][j] == 0:\n",
    "                    \n",
    "                    # Mark the selected column (j)\n",
    "                    # with the pivot, in this case n.\n",
    "                    # And set _break to True,\n",
    "                    # as we found a candidate, \n",
    "                    # and break the loop.\n",
    "                    \n",
    "                    m[i:,j], m[i:,j + p + 1] = p, p\n",
    "                    _break = True\n",
    "                    \n",
    "                    break\n",
    "            \n",
    "            # If we could not find a candidate\n",
    "            # we break the main while loop with\n",
    "            # an error code, as we could not find\n",
    "            # a valid position for the pair (n, n).\n",
    "            \n",
    "            if not _break:\n",
    "                error = True\n",
    "                break\n",
    "                \n",
    "            # If we could find a candidate\n",
    "            # continue in the next iteration\n",
    "                \n",
    "            i += 1\n",
    "            continue\n",
    "        \n",
    "        \n",
    "        # \"Normal\" case\n",
    "        \n",
    "        _break = False\n",
    "        \n",
    "        # Loop over all possible \n",
    "        # positions for the current pivot\n",
    "        \n",
    "        for j in range((2 * n) - p - 1):\n",
    "            \n",
    "            # If we find anything else from a zero\n",
    "            # (used states)\n",
    "            # then it's not a valid position,\n",
    "            # so we continue to the next candidate.\n",
    "            \n",
    "            if m[i][j] != 0 or m[i][j + p + 1] != 0:\n",
    "                continue\n",
    "            \n",
    "            # If we found a candidate, we mark\n",
    "            # the pair of columns with the pivot,\n",
    "            # but from the i-th row to the last.\n",
    "            # We set _break = True like before.\n",
    "            \n",
    "            m[i:,j], m[i:,j + p + 1] = p, p\n",
    "            _break = True\n",
    "            \n",
    "            break\n",
    "        \n",
    "        # If we could not find a valid candidate for p\n",
    "        # then some pivot in the upper rows is incorrect.\n",
    "        \n",
    "        if not _break:\n",
    "            \n",
    "            # We find the indices of the upper pivot\n",
    "            # and mark the FIRST one with a -1 (used state)\n",
    "            # and the other with a 0 (reset the state to initial).\n",
    "            # See that from the first candidate column\n",
    "            # we only mark the (i-1)-th row, so the\n",
    "            # next pivots are not affected by this change.\n",
    "            \n",
    "            _indexes = np.argwhere(m[i - 1] == p + 1)\n",
    "            \n",
    "            m[i - 1,_indexes[0]] = -1\n",
    "            m[i:,_indexes[0]] = 0\n",
    "            m[i - 1:,_indexes[1]] = 0\n",
    "            \n",
    "            # Go back to the upper row\n",
    "            \n",
    "            i -= 1\n",
    "            continue\n",
    "        \n",
    "        # If all OK, we continue to the following row\n",
    "        \n",
    "        i += 1\n",
    "    \n",
    "    # If there was an error, the order\n",
    "    # do not exist, so we return an empty list\n",
    "        \n",
    "    return list(m[-1]) if not error else list()"
   ]
  },
  {
   "cell_type": "code",
   "execution_count": 16,
   "metadata": {},
   "outputs": [],
   "source": [
    "def check_deck(n, d):\n",
    "    \"\"\"\n",
    "    Checks if a given deck\n",
    "    ordering is correct, i.e. it\n",
    "    satisfies the given conditions.\n",
    "    \n",
    "    Parameters\n",
    "    ----------\n",
    "        n, int\n",
    "        d, list\n",
    "        \n",
    "    Returns\n",
    "    -------\n",
    "        boolean\n",
    "    \"\"\"\n",
    "    \n",
    "    if len(d) == 0:\n",
    "        return None\n",
    "    \n",
    "    arr = np.array(d)\n",
    "    \n",
    "    for i in range(1, n + 1):\n",
    "        x, y = np.argwhere(arr == i).flatten()\n",
    "        \n",
    "        if x + i + 1 != y:\n",
    "            return False\n",
    "        \n",
    "    return True"
   ]
  },
  {
   "cell_type": "code",
   "execution_count": 10,
   "metadata": {},
   "outputs": [
    {
     "name": "stdout",
     "output_type": "stream",
     "text": [
      "deck( 3): OK!\n",
      "deck( 4): OK!\n",
      "deck( 7): OK!\n",
      "deck( 8): OK!\n",
      "deck(11): OK!\n",
      "deck(12): OK!\n",
      "deck(15): OK!\n",
      "deck(16): OK!\n",
      "deck(19): OK!\n",
      "deck(20): OK!\n",
      "deck(23): OK!\n",
      "deck(24): OK!\n",
      "deck(27): OK!\n",
      "deck(28): OK!\n",
      "deck(31): OK!\n",
      "deck(32): OK!\n",
      "deck(35): OK!\n",
      "deck(36): OK!\n",
      "deck(39): OK!\n",
      "deck(40): OK!\n"
     ]
    }
   ],
   "source": [
    "for n in range(1, 41):\n",
    "    sol = deck(n)\n",
    "        \n",
    "    if len(sol) > 0:\n",
    "        if check_deck(n, sol):\n",
    "            print(f\"deck({n:2d}): OK!\")"
   ]
  },
  {
   "cell_type": "code",
   "execution_count": 30,
   "metadata": {},
   "outputs": [
    {
     "name": "stdout",
     "output_type": "stream",
     "text": [
      "10 iterations done\n",
      "20 iterations done\n",
      "30 iterations done\n",
      "40 iterations done\n",
      "50 iterations done\n",
      "60 iterations done\n",
      "Done 60 iterations in 118.256324 s.\n"
     ]
    }
   ],
   "source": [
    "from time import time\n",
    "\n",
    "N = 60\n",
    "t_arr = []\n",
    "\n",
    "for n in range(1, N + 1):\n",
    "    t = time()\n",
    "    sol = deck(n)\n",
    "    t = time() - t\n",
    "    \n",
    "    t_arr.append(t)\n",
    "    \n",
    "    if n % 10 == 0:\n",
    "        print(f\"{n:2d} iterations done\")\n",
    "\n",
    "print(f\"Done {n} iterations in {sum(t_arr):4.6f} s.\")"
   ]
  },
  {
   "cell_type": "code",
   "execution_count": 31,
   "metadata": {},
   "outputs": [
    {
     "data": {
      "image/png": "[encoded data removed]",
      "text/plain": [
       "<Figure size 432x288 with 1 Axes>"
      ]
     },
     "metadata": {
      "needs_background": "light"
     },
     "output_type": "display_data"
    }
   ],
   "source": [
    "import matplotlib.pyplot as plt\n",
    "%matplotlib inline\n",
    "\n",
    "plt.plot(t_arr)\n",
    "\n",
    "plt.xlabel(\"Number of pairs (n)\")\n",
    "plt.ylabel(\"Execution time (s)\")\n",
    "plt.title(\"Time complexity test\")\n",
    "\n",
    "plt.show()"
   ]
  },
  {
   "cell_type": "markdown",
   "metadata": {},
   "source": [
    "## Analiza el coste de tu/s implementación/es:"
   ]
  },
  {
   "cell_type": "markdown",
   "metadata": {},
   "source": [
    "### `naive_deck`\n",
    "\n",
    "Algoritme gairebé directe. La complexitat és \n",
    "$$O(n) = (n-1) \\cdots (2n - 2) = \\frac{2(n - 1)!}{(n - 2)}$$\n",
    "\n",
    "### `deck`\n",
    "\n",
    "Versió optimitzada, inspirada en l'algoritme de backtracking utilitzat per resoldre el problema de les $N$ reines.\n",
    "\n",
    "La complexitat és molt menor que la de l'algoritme anterior, ja que es rejecten molts casos de manera prou eficient.\n",
    "\n",
    "$$O(n) = \\cdots$$\n"
   ]
  },
  {
   "cell_type": "markdown",
   "metadata": {},
   "source": [
    "<div class=\"alert alert-info\">\n",
    "<center>\n",
    "  <h1>Ramificación y poda</h1>\n",
    "</center>\n",
    "</div>"
   ]
  },
  {
   "cell_type": "markdown",
   "metadata": {},
   "source": [
    "\n",
    "<div class=\"alert alert-success\" style=\"width:90%; margin:0 auto;\">\n",
    "  <h2><p>1. Mochila</p></h2>\n",
    "  \n",
    "   <p> En esta primera sección trabajaremos con el problema de la mochila que ya vimos en problemas Greedy y PD. Refrequemos un poco (por si aún no lo tenéis claro):\n",
    "</p>\n",
    "    Nos encontramos en una habitación en la que hay $N$ objetos con pesos $w_1, w_2, w_3 ... w_N$ y tenemos una mochila que puede soportar una carga máxima de $W$. En este caso se pide que realicéis una implementación de Ramificación y Poda para resolver el problema de la mochila con valor:\n",
    "<br><br>\n",
    " **mochila_valor:** Cada objeto tendrá asignado un valor $v_1, v_2, v_3 ... v_N$. Buscamos llenar la mochila maximizando el valor total de la mochila pero sin superar la capacidad máxima. Es decir queremos encontrar la combinación de objetos $b$ tal que $\\arg_{b} \\max{\\sum_{i=0}^{N}{v_i · b_i}}$ con la condición de que $\\sum_{i=0}^{N}{(w_i · b_i)}\\leq W$.\n",
    "     <br><br>\n",
    "Trabajaremos únicamente con la versión de la mochila en la que tenemos una cantidad limitada $c_1, c_2, c_3 ... c_N$ de objetos.</div>\n"
   ]
  },
  {
   "cell_type": "code",
   "execution_count": 33,
   "metadata": {},
   "outputs": [],
   "source": [
    "import random as rd\n",
    "\n",
    "# Genera un conjunto de objetos de prueba en forma de una lista de listas, \n",
    "# cada una de las cuales representa un elemento [peso, valor, cantidad]\n",
    "\n",
    "def random_objects():\n",
    "    objects = [\n",
    "        [p,v,c] \n",
    "        for p,v,c in zip(\n",
    "            rd.sample(range(1, 50), k=10), \n",
    "            rd.sample(range(1, 100), k=10),\n",
    "            rd.sample(range(1, 15), k=10))\n",
    "    ]\n",
    "    \n",
    "    return objects"
   ]
  },
  {
   "cell_type": "code",
   "execution_count": 34,
   "metadata": {},
   "outputs": [],
   "source": [
    "def knapsack_branch(D, W):\n",
    "    \"\"\"\n",
    "    Kanpsack problem solutions using \n",
    "    a branch and bound approach.\n",
    "    \n",
    "    Parameters\n",
    "    ----------\n",
    "        D, list\n",
    "            List of the objects in the form\n",
    "                [ ... [ weight, value, quant. ] ... ]\n",
    "        W, int\n",
    "            Capacity of the backpack\n",
    "    \n",
    "    Returns\n",
    "    -------\n",
    "        list\n",
    "    \"\"\"\n",
    "    \n",
    "    \n",
    "    \n",
    "    return list()\n"
   ]
  },
  {
   "cell_type": "code",
   "execution_count": 35,
   "metadata": {},
   "outputs": [
    {
     "name": "stdout",
     "output_type": "stream",
     "text": [
      "[[25, 75, 12], [27, 28, 13], [3, 65, 10], [17, 18, 3], [33, 37, 5], [32, 97, 2], [26, 13, 9], [20, 80, 7], [31, 33, 6], [23, 69, 11]] 150\n",
      "[]\n"
     ]
    }
   ],
   "source": [
    "rd.seed(0) \n",
    "\n",
    "D, W = random_objects(), 150\n",
    "print(D, W)\n",
    "\n",
    "print(knapsack_branch(D, W))"
   ]
  },
  {
   "cell_type": "markdown",
   "metadata": {},
   "source": [
    "### Analiza el coste de tu implementación. Comparalo además con el coste de las implementaciones greedy y dinámica. Compara también la optimalidad de la solución en los tres casos."
   ]
  },
  {
   "cell_type": "markdown",
   "metadata": {},
   "source": [
    "bla"
   ]
  },
  {
   "cell_type": "markdown",
   "metadata": {},
   "source": [
    "\n",
    "<div class=\"alert alert-success\" style=\"width:90%; margin:0 auto;\">\n",
    "  <h2><p>2 - Orden de Ensamblaje</p></h2>\n",
    "  \n",
    "  <div class=\"row\">\n",
    "  <div>\n",
    "  <p style=\"text-align: justify; padding-right: 30px\">\n",
    "La construcción de un artefacto requiere ensamblar $M$ piezas que identiﬁcamos con números entre $1$ y $M$. El coste de ensamblar la pieza $i$ depende del número de piezas ya ensambladas. Los costes, que son valores positivos, se nos proporcionan en una matriz $C$. La celda $c_{ij}$ es el coste de ensamblar la pieza $i$ cuando ya se han ensamblado $j$ piezas. Deseamos calcular el orden de ensamblado de menor coste total, entendido éste como la suma del coste de ensamblaje de cada una de las piezas. \n",
    "  Implementa mediante ramificación y poda una solución a este problema con tal de encontrar el listado ordenado de piezas cuyo coste total de ensamblaje sea mínimo.\n",
    "  </p>\n",
    "  </div>\n",
    "    </div>\n"
   ]
  },
  {
   "cell_type": "markdown",
   "metadata": {},
   "source": [
    "<div class=\"alert alert-danger\" style=\"width:80%; margin:0 auto; padding\">\n",
    "<center><p><h3> Código </h3></p> </center> \n",
    "\n",
    "<p>\n",
    "<h3>INPUT</h3>\n",
    "<ul>\n",
    "<li>C: Matriz de costes de tamaño $M\\times M$, donde M es el número de piezas. El elemento $i,j$ de la matriz representa el coste de ensamblaje para la pieza $i$ tras haber colocado $j$ piezas. \n",
    "</li>\n",
    "</ul>\n",
    "<br>\n",
    "<h3>OUTPUT</h3>\n",
    "Lista de números de $1$ a $M$ ordenados de forma que el coste total de ensamblaje sea mínimo. Ej: [5, 3, 2, 4, 1]\n",
    "</p>\n",
    "\n",
    "</div>"
   ]
  },
  {
   "cell_type": "markdown",
   "metadata": {},
   "source": [
    "### Conceptualització\n",
    "\n",
    "Donada una matriu de cost $M$ ($m \\times m$) inicial, definim el cost de $M$ com\n",
    "\n",
    "$$C_M = \\sum_{i=0}^{m-1} c_{ii}.$$\n",
    "\n",
    "Ens demananen trobar una matriu $M'$ que sigui una permutació, per columnes, de $M$ tal que \n",
    "\n",
    "$$C_M' = min_{A \\in \\text{perm}(M)}\\{C_A\\}.$$\n",
    "\n",
    "\n",
    "### Algoritme *naive*\n",
    "\n",
    "La manera directa per a trobar-ne la solució és calculant-les totes, és a dir, les $m!$ possibilitats."
   ]
  },
  {
   "cell_type": "code",
   "execution_count": 135,
   "metadata": {},
   "outputs": [],
   "source": [
    "from itertools import permutations\n",
    "\n",
    "def naive_branch_ensemble(C):\n",
    "    \"\"\"\n",
    "    Naive algorithm\n",
    "    \n",
    "    Parameters\n",
    "    ----------\n",
    "        C\n",
    "            Matrix of costs\n",
    "        \n",
    "    Returns\n",
    "    -------\n",
    "        list\n",
    "            Optimal order of ensemble\n",
    "            \n",
    "        float\n",
    "            Minimum ensemble cost\n",
    "    \"\"\"\n",
    "    \n",
    "    m, target, min_cost = len(C), None, 1e+9\n",
    "    perms = list(permutations([i for i in range(m)]))\n",
    "    \n",
    "    # Loop over all possible \n",
    "    # permutations of columns\n",
    "    \n",
    "    for p in perms:\n",
    "        _sum = sum([C[p[i]][i] for i in range(m)])\n",
    "        \n",
    "        # Update the target and min. cost\n",
    "        # if it's less than the stored one\n",
    "        \n",
    "        if _sum < min_cost:\n",
    "            min_cost, target = _sum, p\n",
    "        \n",
    "    return list(target), min_cost"
   ]
  },
  {
   "cell_type": "code",
   "execution_count": 215,
   "metadata": {},
   "outputs": [],
   "source": [
    "def branch_ensemble(C):\n",
    "    \"\"\"\n",
    "    Función que obtiene el orden óptimo \n",
    "    de las piezas tal que el coste total es mínimo.\n",
    "    \n",
    "    Parameters\n",
    "    ----------\n",
    "        C\n",
    "            Matrix of costs\n",
    "        \n",
    "    Returns\n",
    "    -------\n",
    "        list\n",
    "            Optimal order of ensemble\n",
    "            \n",
    "        float\n",
    "            Minimum ensemble cost\n",
    "    \"\"\"\n",
    "    \n",
    "    m = len(C)\n",
    "    target = np.array([i for i in range(m)], dtype=np.int)\n",
    "    \n",
    "    i = 0\n",
    "    \n",
    "    while i < m:\n",
    "        \n",
    "        # We select the min. k-th row \n",
    "        # for k >= i, and swap these rows\n",
    "        \n",
    "        \"\"\"\n",
    "        k = i + np.argmin(C[i:,i])\n",
    "        \n",
    "        if k != i:\n",
    "            print(f\"({i}) - Swap {i, target[i]} {k, target[k]} {target}\")\n",
    "\n",
    "            C[[k, i]] = C[[i, k]]\n",
    "            target[[i, k]] = target[[k, i]]\n",
    "        \"\"\"\n",
    "        \n",
    "        # Now, we look if we can swap this row with a better\n",
    "        # one from the selected before, i.e.\n",
    "        # rows j < i\n",
    "        \n",
    "        \n",
    "        \n",
    "        for j in range(0, m):\n",
    "            if j == i:\n",
    "                continue\n",
    "            \n",
    "            _min_j = C[j][i] + C[i][j]\n",
    "            \n",
    "            if C[i][i] + C[j][j] > _min_j:\n",
    "                print(f\"({i}) s {i, target[i]} {j, target[j]}\")\n",
    "                target[[i, j]] = target[[j, i]]\n",
    "        \n",
    "        i += 1\n",
    "        \n",
    "    return list(target), sum(C[k][k] for k in range(m))"
   ]
  },
  {
   "cell_type": "code",
   "execution_count": 216,
   "metadata": {
    "scrolled": true
   },
   "outputs": [
    {
     "name": "stdout",
     "output_type": "stream",
     "text": [
      "([2, 4, 3, 1, 0, 5], 49.23324198660146)\n",
      "(0) s (0, 0) (2, 2)\n",
      "(0) s (0, 2) (3, 3)\n",
      "(0) s (0, 3) (4, 4)\n",
      "(1) s (1, 1) (4, 3)\n",
      "(2) s (2, 0) (0, 4)\n",
      "(2) s (2, 4) (3, 2)\n",
      "(2) s (2, 2) (4, 1)\n",
      "(3) s (3, 4) (0, 0)\n",
      "(3) s (3, 0) (2, 1)\n",
      "(3) s (3, 1) (4, 2)\n",
      "(4) s (4, 1) (0, 4)\n",
      "(4) s (4, 4) (1, 3)\n",
      "(4) s (4, 3) (2, 0)\n",
      "(4) s (4, 0) (3, 2)\n",
      "([1, 4, 3, 0, 2, 5], 88.15171382259248)\n"
     ]
    }
   ],
   "source": [
    "import random as rd\n",
    "import numpy as np\n",
    "\n",
    "from random import uniform\n",
    "\n",
    "rd.seed(0)\n",
    "M = 6\n",
    "\n",
    "C = {}\n",
    "\n",
    "for i in range(M):\n",
    "    C[i] = {}\n",
    "    \n",
    "    for j in range(M):\n",
    "        C[i][j] = uniform(1, 25)\n",
    "    \n",
    "M = np.array([list(C[k].values()) for k in C])\n",
    "\n",
    "print(naive_branch_ensemble(M))\n",
    "print(branch_ensemble(M))"
   ]
  },
  {
   "cell_type": "markdown",
   "metadata": {},
   "source": [
    "### En esta sección debéis responder a las preguntas siguientes:\n",
    "\n",
    "#### 1. Explica cómo has realizado tu implementación, enfatizando en la heurística empleada.\n",
    "\n",
    "asdf\n",
    "\n",
    "#### 2. Análisis de complejidad de la implementación\n",
    "\n",
    "asdf"
   ]
  }
 ],
 "metadata": {
  "kernelspec": {
   "display_name": "Python 3",
   "language": "python",
   "name": "python3"
  },
  "language_info": {
   "codemirror_mode": {
    "name": "ipython",
    "version": 3
   },
   "file_extension": ".py",
   "mimetype": "text/x-python",
   "name": "python",
   "nbconvert_exporter": "python",
   "pygments_lexer": "ipython3",
   "version": "3.6.8"
  }
 },
 "nbformat": 4,
 "nbformat_minor": 1
}
