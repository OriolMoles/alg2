{
 "cells": [
  {
   "cell_type": "markdown",
   "metadata": {},
   "source": [
    "<div style=\"padding:30px; color: white; background-color: #0071CD\">\n",
    "<center>\n",
    "<img src=\"img/logoub.jpeg\"></img>\n",
    "<center>\n",
    "<p>\n",
    "<h1>Algorítmica Avanzada</h1>\n",
    "<h2>Problemas 0 - Notación asintótica </h2>\n",
    "</center>\n",
    "</p>\n",
    "</div>"
   ]
  },
  {
   "cell_type": "markdown",
   "metadata": {},
   "source": [
    "## Notación"
   ]
  },
  {
   "cell_type": "markdown",
   "metadata": {},
   "source": [
    "A lo largo de este notebook veremos los conceptos básicos de notación asintótica que nos servirán para definir la complejidad de nuestros algoritmos.\n",
    "\n",
    "Para ello utilizaremos los siguientes símbolos\n",
    "\n",
    "- $\\Theta$ (Theta)\n",
    "- $O$, $o$ (Omicron)\n",
    "- $\\Omega$ (Omega)\n"
   ]
  },
  {
   "cell_type": "markdown",
   "metadata": {},
   "source": [
    "Pero, cómo definimos la complejidad de un algoritmo? Tienen los siguientes tres algoritmos la misma complejidad?"
   ]
  },
  {
   "cell_type": "code",
   "execution_count": 1,
   "metadata": {},
   "outputs": [],
   "source": [
    "def alga(i):\n",
    "    return i\n",
    "    \n",
    "def algb(i):     \n",
    "    total = 0    \n",
    "    for m in i:  \n",
    "        total+=m  \n",
    "    return total\n",
    "\n",
    "def algc(i):\n",
    "    total=0\n",
    "    for m in i:\n",
    "        for j in i:\n",
    "            total+=m+j\n",
    "    return total"
   ]
  },
  {
   "cell_type": "markdown",
   "metadata": {},
   "source": [
    "Comprobemos el tiempo de ejecución de cada uno de los algoritmos"
   ]
  },
  {
   "cell_type": "code",
   "execution_count": 2,
   "metadata": {},
   "outputs": [
    {
     "name": "stdout",
     "output_type": "stream",
     "text": [
      "The slowest run took 34.43 times longer than the fastest. This could mean that an intermediate result is being cached.\n",
      "10000000 loops, best of 3: 72.6 ns per loop\n",
      "The slowest run took 14.25 times longer than the fastest. This could mean that an intermediate result is being cached.\n",
      "10000000 loops, best of 3: 183 ns per loop\n",
      "The slowest run took 4.57 times longer than the fastest. This could mean that an intermediate result is being cached.\n",
      "1000000 loops, best of 3: 809 ns per loop\n"
     ]
    }
   ],
   "source": [
    "import random\n",
    "_list = random.sample(range(30), 4)\n",
    "\n",
    "%timeit alga(_list)\n",
    "%timeit algb(_list)\n",
    "%timeit algc(_list)"
   ]
  },
  {
   "cell_type": "markdown",
   "metadata": {},
   "source": [
    "<div class=\"alert alert-warning\">\n",
    "<h1>Pregunta 1</h1>\n",
    "<p><strong>\n",
    "Qué complejidad tienen las funciones _alga_, _algb_ y _algc_ notándolas como $\\Theta, O, \\Omega$?\n",
    "</strong></p>\n",
    "<p>\n",
    "Recordatorio:\n",
    "<ul>\n",
    "<li>$o(n)$: Crecimiento menor a $n$</li>\n",
    "<li>$O(n)$: Crecimiento menor o igual a $n$</li>\n",
    "<li>$\\Theta(n)$: Crecimiento igual a $n$</li>\n",
    "<li>$\\Omega(n)$: Crecimiento igual o superior a $n$</li>\n",
    "</ul>\n",
    "</p>\n",
    "</div>"
   ]
  },
  {
   "cell_type": "markdown",
   "metadata": {},
   "source": [
    "## Resposta\n",
    "### `alga`\n",
    "- $\\Theta (n) = 1$\n",
    "- $O (n) = 1$\n",
    "- $\\Omega (n) =1$\n",
    "\n",
    "### `algb`\n",
    "- $\\Theta (n) = n + 2$\n",
    "- $O (n) = n + 2$\n",
    "- $\\Omega (n) = n$\n",
    "\n",
    "### `algc`\n",
    "- $\\Theta (n) = n^2 + 2$\n",
    "- $O (n) = n^2 + 2$\n",
    "- $\\Omega (n) = n^2$"
   ]
  },
  {
   "cell_type": "code",
   "execution_count": 3,
   "metadata": {},
   "outputs": [
    {
     "data": {
      "text/plain": [
       "[5, 6, 7, 6, 7, 8, 7, 8, 9]"
      ]
     },
     "execution_count": 3,
     "metadata": {},
     "output_type": "execute_result"
    }
   ],
   "source": [
    "def sumapares(lista, listb):\n",
    "    listc = []\n",
    "    for x in lista:\n",
    "        for y in listb:\n",
    "            listc.append(x+y)\n",
    "    return listc\n",
    "\n",
    "sumapares([1,2,3],[4,5,6])"
   ]
  },
  {
   "cell_type": "markdown",
   "metadata": {},
   "source": [
    "<div class=\"alert alert-warning\">\n",
    "<h1>Pregunta 2</h1>\n",
    "<p><strong>\n",
    "Qué complejidad tiene la función $sumapares$?\n",
    "</strong></p>\n",
    "</div>"
   ]
  },
  {
   "cell_type": "markdown",
   "metadata": {},
   "source": [
    "### Resposta\n",
    "\n",
    "Si $N$ es `len(lista)` i $M$ es `len(listab)`, la complexitat de l'algoritme `sumapares` es de $2NM + 1$, i.e $O(NM)$. \n",
    "\n",
    "La funcio recorre els $N$ elements de `llista`, i per cada element d'aquests recorre tots els elements $M$ de `llistab` i realitza dues operacions: una suma i un `append`. Finalment realitza un return."
   ]
  },
  {
   "cell_type": "markdown",
   "metadata": {},
   "source": [
    "## Orden de magnitud\n",
    "\n",
    "Normalmente las operaciones de coste constante $O(1)$ las menospreciamos y analizamos la complejidad en base al orden de magnitud, por lo que una función cuya complejidad exacta fuere $O(3x^2+6)$ la denotarmemos como $O(3x^2)$."
   ]
  },
  {
   "cell_type": "markdown",
   "metadata": {},
   "source": [
    "<div class=\"alert alert-danger\">\n",
    "<h1>Problema 1</h1>\n",
    "<p><strong>\n",
    "Implementa algoritmos que tengan las complejidades siguientes: <ul><li>$O(1)$</li><li>$O(n)$</li><li>$O(n^2)$</li><li>$O(log(n))$</li><li>$O(2^n)$</li><li>$O(n!)$</li></ul>\n",
    "\n",
    "</strong></p>\n",
    "<p><b>Nota: </b> Puedes cambiar la declaración de las funciones si lo consideras necesario.</p>\n",
    "</div>"
   ]
  },
  {
   "cell_type": "code",
   "execution_count": 4,
   "metadata": {},
   "outputs": [],
   "source": [
    "N = 10**1"
   ]
  },
  {
   "cell_type": "code",
   "execution_count": 5,
   "metadata": {},
   "outputs": [
    {
     "name": "stdout",
     "output_type": "stream",
     "text": [
      "The slowest run took 30.21 times longer than the fastest. This could mean that an intermediate result is being cached.\n",
      "10000000 loops, best of 3: 59.6 ns per loop\n"
     ]
    }
   ],
   "source": [
    "def o(a):\n",
    "    return a\n",
    "\n",
    "%timeit o(N)"
   ]
  },
  {
   "cell_type": "code",
   "execution_count": 6,
   "metadata": {},
   "outputs": [
    {
     "name": "stdout",
     "output_type": "stream",
     "text": [
      "The slowest run took 6.44 times longer than the fastest. This could mean that an intermediate result is being cached.\n",
      "1000000 loops, best of 3: 559 ns per loop\n"
     ]
    }
   ],
   "source": [
    "def on(a):\n",
    "    return [i for i in range(a)]\n",
    "\n",
    "%timeit on(N)"
   ]
  },
  {
   "cell_type": "code",
   "execution_count": 7,
   "metadata": {},
   "outputs": [
    {
     "name": "stdout",
     "output_type": "stream",
     "text": [
      "100000 loops, best of 3: 4.23 µs per loop\n"
     ]
    }
   ],
   "source": [
    "def onsquare(a):\n",
    "    return [j for i in range(a) for j in range(a)]\n",
    "\n",
    "%timeit onsquare(N)"
   ]
  },
  {
   "cell_type": "code",
   "execution_count": 8,
   "metadata": {},
   "outputs": [],
   "source": [
    "from math import floor, ceil\n",
    "# Reference:\n",
    "# https://en.wikipedia.org/wiki/Binary_search_algorithm\n",
    "\n",
    "def ologn(a, t):\n",
    "    l = 0\n",
    "    r = len(a)-1\n",
    "    \n",
    "    while l <= r:\n",
    "        m = (l + r) // 2\n",
    "        \n",
    "        if a[m] < t:\n",
    "            l = m + 1\n",
    "        elif a[m] > t:\n",
    "            r = m - 1\n",
    "        else:\n",
    "            return m\n",
    "\n",
    "    return None"
   ]
  },
  {
   "cell_type": "code",
   "execution_count": 9,
   "metadata": {},
   "outputs": [
    {
     "name": "stdout",
     "output_type": "stream",
     "text": [
      "array[3] = 434\n",
      "The slowest run took 7.44 times longer than the fastest. This could mean that an intermediate result is being cached.\n",
      "1000000 loops, best of 3: 484 ns per loop\n"
     ]
    }
   ],
   "source": [
    "# Some tests\n",
    "\n",
    "from random import randint\n",
    "\n",
    "MAX = 10**3\n",
    "\n",
    "array = sorted([randint(0, MAX) for _ in range(N)])\n",
    "target_index = randint(0, len(array)-1)\n",
    "target = array[target_index]\n",
    "\n",
    "print(\"array[{}] = {}\".format(target_index, target))\n",
    "%timeit ologn(array, target)\n"
   ]
  },
  {
   "cell_type": "code",
   "execution_count": 10,
   "metadata": {},
   "outputs": [
    {
     "name": "stdout",
     "output_type": "stream",
     "text": [
      "100000 loops, best of 3: 14 µs per loop\n"
     ]
    }
   ],
   "source": [
    "# The Fibonacci algorithm create a binary tree recursion\n",
    "\n",
    "def oexpn(a):\n",
    "    if a <= 1:\n",
    "        return 1\n",
    "    \n",
    "    return oexpn(a-1) + oexpn(a-2)\n",
    "\n",
    "%timeit oexpn(N)"
   ]
  },
  {
   "cell_type": "code",
   "execution_count": 11,
   "metadata": {},
   "outputs": [
    {
     "name": "stdout",
     "output_type": "stream",
     "text": [
      "The slowest run took 8.29 times longer than the fastest. This could mean that an intermediate result is being cached.\n",
      "1000000 loops, best of 3: 519 ns per loop\n"
     ]
    }
   ],
   "source": [
    "def onfact(a):\n",
    "    if a == 0:\n",
    "        return\n",
    "    \n",
    "    (onfact(a-1) for i in range(a))    \n",
    "\n",
    "%timeit onfact(N)"
   ]
  },
  {
   "cell_type": "markdown",
   "metadata": {},
   "source": [
    "<div class=\"alert alert-warning\">\n",
    "<h1>Pregunta 3</h1>\n",
    "<p><strong>\n",
    "Evalua la complejidad exacta de cada uno de los algoritmos anteriores\n",
    "</strong></p>\n",
    "</div>"
   ]
  },
  {
   "cell_type": "markdown",
   "metadata": {},
   "source": [
    "### `o(a)`\n",
    "With `n=a` we have\n",
    "$\\Theta(n) = 1$.\n",
    "\n",
    "### `on(a)`\n",
    "With `n=a` we have\n",
    "$\\Theta(n) = n$.\n",
    "\n",
    "### `onsquare(a)`\n",
    "With `n=a` we have\n",
    "$\\Theta(n) = n^2$.\n",
    "\n",
    "### `ologn(a, t)`\n",
    "With `n=len(a)` and `t` an element of `a` we cannot know the exact complexity. At worst we will have\n",
    "$\\Theta(n) = \\log (n)$. In general, $O(n) = \\log (n)$.\n",
    "\n",
    "### `oexpn(a)`\n",
    "With `n=a` we have \n",
    "$\\Theta(n) = 2^n$.\n",
    "\n",
    "### `onfact(a)`\n",
    "With `n=a` we have\n",
    "$\\Theta(n) = n!$."
   ]
  },
  {
   "cell_type": "markdown",
   "metadata": {},
   "source": [
    "## Un ejemplo gráfico..."
   ]
  },
  {
   "cell_type": "code",
   "execution_count": 12,
   "metadata": {},
   "outputs": [],
   "source": [
    "# Install requirements for local notebook, if not satisfied\n",
    "# import sys\n",
    "# !{sys.executable} -m pip install matplotlib numpy"
   ]
  },
  {
   "cell_type": "code",
   "execution_count": 13,
   "metadata": {},
   "outputs": [
    {
     "data": {
      "image/png": "[encoded data removed]",
      "text/plain": [
       "<Figure size 720x432 with 1 Axes>"
      ]
     },
     "metadata": {},
     "output_type": "display_data"
    }
   ],
   "source": [
    "# En este apartado mostramos las gráficas de las diferentes funciones\n",
    "import matplotlib.pyplot as plt\n",
    "import numpy as np\n",
    "\n",
    "%matplotlib inline\n",
    "\n",
    "lin = np.linspace(0.1,10,100)\n",
    "plt.figure(figsize=(10,6))\n",
    "plt.title('Complejidades lineales y logaritmicas')\n",
    "plt.plot(np.log(lin),label='O(log(n))')\n",
    "plt.plot(lin*np.log(lin),label='O(n*log(n))')\n",
    "plt.plot(lin, linewidth=2, label='O(n)')\n",
    "plt.legend()\n",
    "plt.plot()\n",
    "plt.ylim(-1,10)\n",
    "plt.xticks([])\n",
    "plt.draw()"
   ]
  },
  {
   "cell_type": "code",
   "execution_count": 14,
   "metadata": {},
   "outputs": [
    {
     "data": {
      "image/png": "[encoded data removed]",
      "text/plain": [
       "<Figure size 720x432 with 1 Axes>"
      ]
     },
     "metadata": {},
     "output_type": "display_data"
    }
   ],
   "source": [
    "import matplotlib.pyplot as plt\n",
    "import numpy as np\n",
    "\n",
    "%matplotlib inline\n",
    "\n",
    "lin = np.linspace(0.1,20,500)\n",
    "plt.figure(figsize=(10,6))\n",
    "plt.title('Complejidades potenciales y exponenciales')\n",
    "plt.plot(lin**3,label='O(n^3)')\n",
    "plt.plot(lin**2,label='O(n^2)')\n",
    "plt.plot(2**lin, label='O(2^n)')\n",
    "plt.legend()\n",
    "plt.plot()\n",
    "plt.ylim(-1,5000)\n",
    "plt.xticks([])\n",
    "plt.draw()"
   ]
  },
  {
   "cell_type": "markdown",
   "metadata": {},
   "source": [
    "<div class=\"alert alert-danger\">\n",
    "<h1>Problema 2</h1>\n",
    "<p><strong>\n",
    "Implementa un algoritmo de ordenación que tenga complejidad $O(n^2)$\n",
    "</strong></p>\n",
    "</div>"
   ]
  },
  {
   "cell_type": "code",
   "execution_count": 15,
   "metadata": {},
   "outputs": [],
   "source": [
    "# Bubble sort\n",
    "\n",
    "def ordenacion1(a):\n",
    "    A = a.copy()\n",
    "    n = len(A)\n",
    "    \n",
    "    while True:\n",
    "        swapped = False\n",
    "        for i in range(1, n):\n",
    "            if A[i-1] > A[i]:\n",
    "                tmp = A[i]\n",
    "                A[i] = A[i-1]\n",
    "                A[i-1] = tmp\n",
    "                swapped = True\n",
    "                \n",
    "        if swapped is False:\n",
    "            break\n",
    "    \n",
    "    return A"
   ]
  },
  {
   "cell_type": "markdown",
   "metadata": {},
   "source": [
    "<div class=\"alert alert-danger\">\n",
    "<h1>Problema 3</h1>\n",
    "<p><strong>\n",
    "    Implementa un algoritmo de ordenación que tenga complejidad $O(n\\log(n))$\n",
    "</strong></p>\n",
    "</div>"
   ]
  },
  {
   "cell_type": "code",
   "execution_count": 16,
   "metadata": {},
   "outputs": [],
   "source": [
    "# Qsort\n",
    "\n",
    "def partition(A, lo, hi):\n",
    "    pivot = A[hi]\n",
    "    i = lo\n",
    "    \n",
    "    for j in range(lo, hi+1):\n",
    "        if A[j] < pivot:\n",
    "            tmp = A[i]\n",
    "            A[i] = A[j]\n",
    "            A[j] = tmp\n",
    "            i += 1\n",
    "    \n",
    "    tmp2 = A[i]\n",
    "    A[i] = A[hi]\n",
    "    A[hi] = tmp2\n",
    "\n",
    "    return i\n",
    "\n",
    "def ordenacion2(A, lo, hi):    \n",
    "    if lo < hi:\n",
    "        p = partition(A, lo, hi)\n",
    "        ordenacion2(A, lo, p - 1)\n",
    "        ordenacion2(A, p + 1, hi)\n",
    "    \n",
    "    return A"
   ]
  },
  {
   "cell_type": "markdown",
   "metadata": {},
   "source": [
    "<h3>Pon a prueba tus algoritmos</h3>\n",
    "<p>\n",
    "    El siguiente bloque de código ejecutará y medirá el coste de los dos algoritmos de ordenación que acabas de implementar. Las pruebas se harán para listas de tamaño creciente de longitud de 1 a #num_tests (por defecto 1000). Puede tardar un poco, si no termina puedes bajar la cantidad de tests. Si está todo bien deberías poder observar un coste creciente cuadrático en el caso $O(n^2)$ y un crecimiento logarítmico escaso en el caso de $O(n\\log(n))$.\n",
    "</p>"
   ]
  },
  {
   "cell_type": "code",
   "execution_count": 17,
   "metadata": {},
   "outputs": [
    {
     "name": "stdout",
     "output_type": "stream",
     "text": [
      "Elapsed time to compute tests: 3.428 s.\n"
     ]
    },
    {
     "data": {
      "image/png": "[encoded data removed]",
      "text/plain": [
       "<Figure size 720x432 with 1 Axes>"
      ]
     },
     "metadata": {},
     "output_type": "display_data"
    }
   ],
   "source": [
    "from utils import generate_corpus\n",
    "import time\n",
    "import matplotlib.pyplot as plt\n",
    "import numpy as np\n",
    "\n",
    "%matplotlib inline\n",
    "\n",
    "num_tests = 5*10**2\n",
    "\n",
    "all_lists = generate_corpus(num_tests)\n",
    "time_costs_ordenacion1 = [0] * num_tests\n",
    "time_costs_ordenacion2 = [0] * num_tests\n",
    "\n",
    "t0 = time.time()\n",
    "\n",
    "for test in range(num_tests):\n",
    "    # Test ordenacion1\n",
    "    start_time = time.time()\n",
    "    ordenacion1(all_lists[test])\n",
    "    time_costs_ordenacion1[test] = (time.time() - start_time)\n",
    "    \n",
    "    # Test ordenacion2\n",
    "    start_time = time.time()\n",
    "    ordenacion2(all_lists[test], 0, len(all_lists[test])-1)\n",
    "    time_costs_ordenacion2[test] = (time.time() - start_time) \n",
    "\n",
    "    \n",
    "print(\"Elapsed time to compute tests: {:2.4} s.\"\n",
    "      .format(time.time() - t0))\n",
    "\n",
    "plt.figure(figsize=(10,6))\n",
    "plt.title('Comparativa costes ordenacion')\n",
    "plt.plot(time_costs_ordenacion1,label='ord1: O(n^2)')\n",
    "plt.plot(time_costs_ordenacion2,label='ord2: O(nlog(n))')\n",
    "plt.legend()\n",
    "plt.plot()\n",
    "plt.draw()"
   ]
  },
  {
   "cell_type": "markdown",
   "metadata": {},
   "source": [
    "## Algoritmos recursivos: Master Theorem\n",
    "\n",
    "El teorema master ayuda a definir las complejidades de los algoritmos que utilizan estratégias Divide and Conquer. Dicho de otra forma, nos ayuda a analizar la complejidad para los algoritmos recursivos.\n",
    "\n",
    "Siendo $T(n)$ la complejidad del algoritmo, $f(n)$ la complejidad del caso base, $a$ el número de subproblemas a cada nivel de recursión y $b$ el factor por el que dividimos la entrada, denotamos la complejidad de un algoritmo recursivo como:\n",
    "\n",
    "$$\n",
    "T(n) = aT\\big(\\frac{n}{b}\\big)+f(n)\n",
    "$$\n",
    "\n",
    "Si notamos la función $f(x)$ en base a su complejidad de la forma $O(n^d)$ obtenemos:\n",
    "\n",
    "$$\n",
    "T(n) = aT\\big(\\frac{n}{b}\\big)+O(n)\n",
    "$$\n",
    "\n",
    "Y según el teorema masters podemos afirmar que:\n",
    "\n",
    "\\begin{equation*}\n",
    "T(n)=O(n^d) \\quad \\textrm{if}\\: d>log_b a\\\\\n",
    "T(n)=O(n^d\\log n) \\quad \\textrm{if}\\: d=log_b a\\\\\n",
    "T(n)=O(n^{\\log_b{a}}) \\quad \\textrm{if}\\: d<log_b a\n",
    "\\end{equation*}"
   ]
  },
  {
   "cell_type": "markdown",
   "metadata": {},
   "source": [
    "<div class=\"alert alert-warning\">\n",
    "<h1>Pregunta 4</h1>\n",
    "<p><strong>\n",
    "Analiza la complejidad en la siguiente función:\n",
    "</strong></p>\n",
    "</div>"
   ]
  },
  {
   "cell_type": "code",
   "execution_count": 18,
   "metadata": {},
   "outputs": [],
   "source": [
    "# NOTE:\n",
    "# If length of lista != 0 (mod 2) \n",
    "# the function raises a RecursionError\n",
    "# for max recursion depth\n",
    "\n",
    "def reverse2n(lista):\n",
    "    # Base case: 3 op.\n",
    "    if len(lista) == 2:\n",
    "        return [lista[1], lista[0]]\n",
    "    \n",
    "    # General case: 4 op. + binary partition\n",
    "    else:\n",
    "        p = int(len(lista)/2)\n",
    "        return reverse2n(lista[p:]) + reverse2n(lista[:p])"
   ]
  },
  {
   "cell_type": "markdown",
   "metadata": {},
   "source": [
    "### Resposta\n",
    "\n",
    "The formula says: \n",
    "$$T(n) = 2 \\cdot T\\left(\\frac{n}{2}\\right) + 4 = 2 \\cdot \\left(T\\left(\\frac{n}{2}\\right) + 1\\right)$$\n",
    "\n",
    "In our case we have that\n",
    "$f(n) = \\Theta (n^c \\log^k n)$ where $c = \\log_b a = \\log_2 2 = 1$ and $k=0$. We are in the second case [1], we have that\n",
    "$$T(n) = \\Theta (n^c \\log^{k+1} n) = \\Theta (n \\log n)$$\n",
    "\n",
    "[1] [Wikipedia: Master Theorem (analysis of algorithms)](https://en.wikipedia.org/wiki/Master_theorem_(analysis_of_algorithms)"
   ]
  },
  {
   "cell_type": "code",
   "execution_count": 19,
   "metadata": {},
   "outputs": [
    {
     "name": "stdout",
     "output_type": "stream",
     "text": [
      "108\n",
      "110.90354888959125\n"
     ]
    }
   ],
   "source": [
    "# Some tests\n",
    "\n",
    "# arr = [1,2,3,5,8,10,4,6]\n",
    "arr = [1,2,3,5,8,10,4,6,1,2,3,5,8,10,4,6,1,2,3,5,8,10,4,6,1,2,3,5,8,10,4,6]\n",
    "reverse2n(arr)\n",
    "\n",
    "def T(n):\n",
    "    a = 2\n",
    "    b = 2\n",
    "    fn = 4\n",
    "    \n",
    "    if n == 2:\n",
    "        return 3\n",
    "    \n",
    "    return a * T(n // b) + fn\n",
    "\n",
    "\n",
    "from math import log\n",
    "\n",
    "print(T(len(arr)))\n",
    "print(len(arr) * log(len(arr)))"
   ]
  },
  {
   "cell_type": "markdown",
   "metadata": {
    "collapsed": true
   },
   "source": [
    "<div class=\"alert alert-success\">\n",
    "<h1>Extra 1</h1>\n",
    "<p><strong>\n",
    "Implementa dos algoritmos que busquen un nombre concreto en un listín telefónico y devuelvan su número. Uno con coste $O(n)$ y otro con $O(\\log n)$. En caso de no encontrar el nombre, devolver -1.\n",
    "</strong></p>\n",
    "</div>"
   ]
  },
  {
   "cell_type": "code",
   "execution_count": 20,
   "metadata": {},
   "outputs": [],
   "source": [
    "def search(listin, name):\n",
    "    for n, num in listin:\n",
    "        if n == name:\n",
    "            return num\n",
    "    \n",
    "    return -1\n",
    "\n",
    "def search_log(a, t):\n",
    "    l = 0\n",
    "    r = len(a)-1\n",
    "    \n",
    "    while l <= r:\n",
    "        m = (l + r) // 2\n",
    "        \n",
    "        if a[m][0] < t:\n",
    "            l = m + 1\n",
    "        elif a[m][0] > t:\n",
    "            r = m - 1\n",
    "        else:\n",
    "            return a[m][1]\n",
    "\n",
    "    return -1"
   ]
  },
  {
   "cell_type": "code",
   "execution_count": 21,
   "metadata": {},
   "outputs": [
    {
     "name": "stdout",
     "output_type": "stream",
     "text": [
      "True\n",
      "True\n"
     ]
    }
   ],
   "source": [
    "listin = [('Abdon', 938906293), ('Alejo', 935198770), ('Anna', 931621906), ('Arturo', 938806195), ('Baldomero', 930964092), ('Benjamin', 934354128), ('Cayetano', 931005100), ('Clotilde', 932242962), ('Eduardo', 934005954), ('Eugenio', 931748905), ('Fabian', 938021389), ('Fermin', 939101910), ('Fernando', 940649340), ('Guillermo', 934387595), ('Jacobo', 934210458), ('Josep', 940820109), ('Leonor', 930434129), ('Lucrecia', 934411771), ('Manuel', 933697107), ('Marcelino', 936305412), ('Mohamed', 930600723), ('Nicolas', 936020020), ('Oscar', 940094360), ('Petronila', 936016855), ('Reinaldo', 939455199), ('Rodrigo', 937957205), ('Ruben', 938853772), ('Simeon', 938687016), ('Simeon', 931726372), ('Tarsicio', 934346208), ('Victorino', 939555230)]\n",
    "print(search(listin, 'Petronila')==936016855)\n",
    "print(search_log(listin, 'Baldomero')==930964092)"
   ]
  },
  {
   "cell_type": "markdown",
   "metadata": {},
   "source": [
    "<div class=\"alert alert-success\">\n",
    "<h1>Extra 2</h1>\n",
    "<p><strong>\n",
    "Implementa el calculo de la serie de fibonacci para un número en concreto de forma recursiva y analiza su complejidad.\n",
    "</strong></p>\n",
    "</div>"
   ]
  },
  {
   "cell_type": "code",
   "execution_count": 22,
   "metadata": {},
   "outputs": [],
   "source": [
    "def fiborec(n):\n",
    "    if n <= 2:\n",
    "        return 1\n",
    "    \n",
    "    return fiborec(n-1) + fiborec(n-2)"
   ]
  },
  {
   "cell_type": "code",
   "execution_count": 23,
   "metadata": {},
   "outputs": [
    {
     "name": "stdout",
     "output_type": "stream",
     "text": [
      "Total elapsed time: 4.144 s.\n"
     ]
    },
    {
     "data": {
      "image/png": "[encoded data removed]",
      "text/plain": [
       "<Figure size 720x432 with 1 Axes>"
      ]
     },
     "metadata": {},
     "output_type": "display_data"
    }
   ],
   "source": [
    "# Some tests\n",
    "\n",
    "from time import time\n",
    "import matplotlib.pyplot as plt\n",
    "\n",
    "%matplotlib inline\n",
    "\n",
    "N = 36\n",
    "_time = []\n",
    "for i in range(N):\n",
    "    t = time()\n",
    "    fiborec(i)\n",
    "    _tmp = time() - t\n",
    "    _time.append(_tmp)\n",
    "\n",
    "plt.figure(figsize=(10,6))\n",
    "plt.title('Fiborec')\n",
    "plt.plot(_time, label='xd')\n",
    "plt.legend()\n",
    "plt.plot()\n",
    "plt.draw()\n",
    "\n",
    "print(\"Total elapsed time: {:2.4} s.\".format(sum(_time)))"
   ]
  },
  {
   "cell_type": "code",
   "execution_count": null,
   "metadata": {},
   "outputs": [],
   "source": []
  }
 ],
 "metadata": {
  "kernelspec": {
   "display_name": "Python 3",
   "language": "python",
   "name": "python3"
  },
  "language_info": {
   "codemirror_mode": {
    "name": "ipython",
    "version": 3
   },
   "file_extension": ".py",
   "mimetype": "text/x-python",
   "name": "python",
   "nbconvert_exporter": "python",
   "pygments_lexer": "ipython3",
   "version": "3.6.8"
  }
 },
 "nbformat": 4,
 "nbformat_minor": 1
}
