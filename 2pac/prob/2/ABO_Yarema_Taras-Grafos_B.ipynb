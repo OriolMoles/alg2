{
 "cells": [
  {
   "cell_type": "markdown",
   "metadata": {},
   "source": [
    "<div style=\"padding:30px; color: white; background-color: #0071CD\">\n",
    "<center>\n",
    "<img src=\"img/logoub.jpeg\">\n",
    "<center>\n",
    "<p>\n",
    "<h1>Algorítmica Avanzada</h1>\n",
    "<h2>Problemas 1.B - Grafos </h2>\n",
    "</center>\n",
    "</p>\n",
    "</div>"
   ]
  },
  {
   "cell_type": "markdown",
   "metadata": {},
   "source": [
    "\n",
    "<div class=\"alert alert-success\" style=\"width:90%; margin:0 auto;\">\n",
    "  <h2><p>0 - Depth-First Search</p></h2>\n",
    "  \n",
    "  <p>\n",
    "  El objetivo de _Depth First Search_ (DFS) es el mismo que el de BFS, encontrar un camino entre dos puntos del grafo\n",
    "  </p>\n",
    "  \n",
    "  <p>\n",
    "  <a href=\"https://en.wikipedia.org/wiki/Depth-first_search\">Aquí</a> podeis encontrar mas detalles sobre la implementación y características de este algoritmo.\n",
    "  </p>\n"
   ]
  },
  {
   "cell_type": "markdown",
   "metadata": {},
   "source": [
    "<div class=\"alert alert-danger\" style=\"width:80%; margin:0 auto; padding\">\n",
    "<center><p><h3> Código </h3></p> </center> \n",
    "\n",
    "<p>\n",
    "<h3>INPUT</h3>\n",
    "<ul>\n",
    "<li>__G__: Grafo sobre el que buscar el camino.</li>\n",
    "<li>__origen__: Este parámetro corresponde al índice de un nodo. En este caso deberá ser un entero _(e.g. 231)_.</li>\n",
    "<li>__destino__: El índice del nodo al que queremos llegar.</li>\n",
    "</ul>\n",
    "<br>\n",
    "<h3>OUTPUT</h3>\n",
    "El output de una funcion es un diccionario que contiene los siguientes valores\n",
    "<ul>\n",
    "<li>__ _'path'_ __: Una lista de índices correspondientes al camino encontrado del nodo inicial al nodo final, __ambos nodos, inicio y final, han de estar incluidos en esta lista__.</li>\n",
    "<li>__ _'expanded'_ __: El número de nodos que se han visitado para encontrar la solución.</li>\n",
    "<ul>\n",
    "\n",
    "</p>\n",
    "\n",
    "</div>"
   ]
  },
  {
   "cell_type": "code",
   "execution_count": 1,
   "metadata": {},
   "outputs": [],
   "source": [
    "def dfs(G, origen, destino):    \n",
    "    s = [origen]\n",
    "    e = 1\n",
    "    seen = {n: False for n in G.nodes}\n",
    "    found = False \n",
    "    \n",
    "    for n in G.nodes:\n",
    "        G.node[n][\"from\"] = []\n",
    "    \n",
    "    # Algortime iteratiu DFS\n",
    "    while len(s) > 0 and found is False:\n",
    "        v = s.pop()\n",
    "        \n",
    "        if not seen[v]:\n",
    "            seen[v] = True\n",
    "            \n",
    "            for w in G.neighbors(v):\n",
    "                G.node[w][\"from\"].append(v)\n",
    "                s.append(w)\n",
    "                e += 1\n",
    "                \n",
    "                if w == destino:\n",
    "                    found = True\n",
    "                    break\n",
    "    \n",
    "    # Backtracking\n",
    "    path = []\n",
    "    parent = destino\n",
    "\n",
    "    while True:\n",
    "        path.insert(0, parent)\n",
    "        \n",
    "        if parent == origen:\n",
    "            break\n",
    "            \n",
    "        parent = G.node[parent][\"from\"][0]\n",
    "    \n",
    "    return {\"expanded\": e, \"path\": path}"
   ]
  },
  {
   "cell_type": "code",
   "execution_count": 2,
   "metadata": {},
   "outputs": [
    {
     "name": "stdout",
     "output_type": "stream",
     "text": [
      "{\n",
      "   \"expanded\": 9812,\n",
      "   \"path\": [\n",
      "      1,\n",
      "      9986,\n",
      "      8188,\n",
      "      9922,\n",
      "      9970,\n",
      "      4090,\n",
      "      9935,\n",
      "      9951,\n",
      "      6646,\n",
      "      7792,\n",
      "      9837,\n",
      "      3070,\n",
      "      9171,\n",
      "      9956,\n",
      "      8702,\n",
      "      9842,\n",
      "      1662,\n",
      "      8355,\n",
      "      9679,\n",
      "      1013,\n",
      "      9728,\n",
      "      9940,\n",
      "      252,\n",
      "      2172,\n",
      "      2031,\n",
      "      9897,\n",
      "      6397,\n",
      "      666\n",
      "   ]\n",
      "}\n"
     ]
    }
   ],
   "source": [
    "import networkx as nx\n",
    "from json import dumps\n",
    "\n",
    "G = nx.generators.barabasi_albert_graph(10001, 31)\n",
    "print(dumps(dfs(G, 1, 666), indent=3))"
   ]
  },
  {
   "cell_type": "markdown",
   "metadata": {},
   "source": [
    "<div class=\"alert alert-success\" style=\"width:90%; margin:0 auto;\">\n",
    "  <h2><p>1 - Componentes conexos</p></h2>\n",
    "  <p>\n",
    "    Para este ejercicio deberéis implementar una función que identifique los distintos componentes conexos de un grafo. Esto es, agrupar todos los nodos que estén conectados por un camino.\n",
    "  </p>"
   ]
  },
  {
   "cell_type": "markdown",
   "metadata": {},
   "source": [
    "<div class=\"alert alert-danger\" style=\"width:80%; margin:0 auto; padding\">\n",
    "<center><p><h3> Código </h3></p> </center> \n",
    "\n",
    "<p>\n",
    "<h3>INPUT</h3>\n",
    "<ul>\n",
    "<li>__G__: Objeto de tipo grafo sobre el cual buscaremos componentes conexos.</li>\n",
    "</ul>\n",
    "<br>\n",
    "<h3>OUTPUT</h3>\n",
    "<ul>\n",
    "<li>__ _'componentes'_ __: Una lista de listas. Cada sub-lista contendrá los índices de los nodos de uno de los componentes conexos.</li>\n",
    "<ul>\n",
    "\n",
    "</p>\n",
    "\n",
    "</div>"
   ]
  },
  {
   "cell_type": "markdown",
   "metadata": {},
   "source": [
    "En aquest cas definim la versió recursiva de DFS. Nesecitem recorrer tota una component conexe. \n",
    "\n",
    "No ens importa trobar cap camí, per aquesta raó la versió recursiva m'ha semblat més adient."
   ]
  },
  {
   "cell_type": "code",
   "execution_count": 3,
   "metadata": {},
   "outputs": [],
   "source": [
    "def dfs_rec(G, origen, visited=[]):\n",
    "    for w in G.neighbors(origen):\n",
    "        if w not in visited:\n",
    "            visited.append(w)\n",
    "            dfs_rec(G, w, visited)    \n",
    "    return visited"
   ]
  },
  {
   "cell_type": "code",
   "execution_count": 4,
   "metadata": {},
   "outputs": [],
   "source": [
    "from random import choice\n",
    "\n",
    "def cnx(G):\n",
    "    nodes_set = set(G.nodes)\n",
    "    components = []\n",
    "    visited = set()\n",
    "    \n",
    "    # Anem cridant def_rec sobre nodes random\n",
    "    # que no estan en visited i anirem trobant\n",
    "    # totes les components\n",
    "    \n",
    "    while visited != nodes_set:\n",
    "        begin = choice(list(nodes_set - visited))\n",
    "        c = dfs_rec(G, begin, [])\n",
    "        \n",
    "        if len(c) == 0:\n",
    "            c = [begin]\n",
    "        \n",
    "        components.append(c)\n",
    "        visited |= set(c)\n",
    "        \n",
    "    return components"
   ]
  },
  {
   "cell_type": "code",
   "execution_count": 5,
   "metadata": {
    "scrolled": true
   },
   "outputs": [
    {
     "data": {
      "image/png": "[encoded data removed]",
      "text/plain": [
       "<Figure size 432x288 with 1 Axes>"
      ]
     },
     "metadata": {},
     "output_type": "display_data"
    }
   ],
   "source": [
    "%matplotlib inline\n",
    "from utils import draw, random_multiple_component_graph\n",
    "\n",
    "G = random_multiple_component_graph(n=3, e=10, c=3)\n",
    "draw(G)"
   ]
  },
  {
   "cell_type": "code",
   "execution_count": 6,
   "metadata": {},
   "outputs": [
    {
     "name": "stdout",
     "output_type": "stream",
     "text": [
      "Component #01: [11, 12, 16, 13, 23, 17, 15, 22, 18, 19, 14, 21, 24, 25, 20]\n",
      "Component #02: [6, 10, 2, 4, 1, 8, 5, 7, 0, 9, 3]\n",
      "Component #03: [40, 39, 48, 41, 47, 42, 43, 50, 45, 44, 46, 49]\n",
      "Component #04: [26, 28, 27, 38, 31, 34, 32, 29, 35, 33, 37, 30, 36]\n"
     ]
    }
   ],
   "source": [
    "for i, c in enumerate(cnx(G)):\n",
    "    print(f\"Component #{i+1:02}: {c}\")"
   ]
  }
 ],
 "metadata": {
  "kernelspec": {
   "display_name": "Python 3",
   "language": "python",
   "name": "python3"
  },
  "language_info": {
   "codemirror_mode": {
    "name": "ipython",
    "version": 3
   },
   "file_extension": ".py",
   "mimetype": "text/x-python",
   "name": "python",
   "nbconvert_exporter": "python",
   "pygments_lexer": "ipython3",
   "version": "3.6.8"
  }
 },
 "nbformat": 4,
 "nbformat_minor": 2
}
