{
 "cells": [
  {
   "cell_type": "markdown",
   "metadata": {},
   "source": [
    "<div style=\"padding:30px; color: white; background-color: #0071CD\">\n",
    "<center>\n",
    "<img src=\"img/logoub.jpeg\">\n",
    "<center>\n",
    "<p>\n",
    "<h1>Algorítmica Avanzada</h1>\n",
    "<h2>Problemas 2 - Greedy </h2>\n",
    "</center>\n",
    "</p>\n",
    "</div>"
   ]
  },
  {
   "cell_type": "markdown",
   "metadata": {},
   "source": [
    "<div style=\"width:90%; margin:0 auto;\">\n",
    "  <h2><p>Minimum Spanning Tree</p></h2>\n",
    "  <p>\n",
    "Dado un grafo conexo y no dirigido, un spanning tree de ese grafo es un subgrafo que tiene que ser un árbol (sin ciclos) y contener todos los vértices del grafo inicial. Cada arista tiene asignado un peso, que es un número representativo de algún objeto, distancia, etc. y se usa para asignar un peso total al MST computando la suma de todos los pesos de las aristas del árbol en cuestión. Un MST o minimum spanning tree es un árbol recubridor que pesa menos o igual que caulquier otro árbol recubridor de ese grafo. Todo grafo tiene un bosque recubridor mínimo.\n",
    "  </p>\n",
    "<img width=\"300px\" src=\"img/mst.png\">\n",
    "  </div>\n"
   ]
  },
  {
   "cell_type": "markdown",
   "metadata": {},
   "source": [
    "\n",
    "<div class=\"alert alert-success\" style=\"width:90%; margin:0 auto;\">\n",
    "  <h2><p>1- Kruskal Algorithm</p></h2>\n",
    "  El algoritmo de Kruskal es un algoritmo voraz que calcula el MST de un grafo dado. Se basa en ir añadiendo a cada paso la arista más pequeña del grafo que conecte dos subárboles que no estaban previamente conectados.\n",
    "    \n",
    "   <center><img width=\"250px\" src=\"./img/KruskalDemo.gif\"></center>\n",
    "\n",
    "<p>\n",
    "En este apartado tendréis que implementar el algoritmo de Kruskal para obtener el Minimum Spanning Tree de cualquier grafo no dirigido. \n",
    "  </p>\n"
   ]
  },
  {
   "cell_type": "code",
   "execution_count": null,
   "metadata": {},
   "outputs": [],
   "source": [
    "# Imports\n",
    "import networkx as nx"
   ]
  },
  {
   "cell_type": "code",
   "execution_count": null,
   "metadata": {},
   "outputs": [],
   "source": [
    "def kruskal(G):\n",
    "    \"\"\" Implementación del algoritmo de Kruskal para obtener el MST de un grafo cualquiera.\n",
    "    Args:\n",
    "        G (nx.Graph): El grafo de tipo nx.Graph sobre el que queremos obtener el MST. \n",
    "                      Las aristas tienen el atributo 'weight' que indica su peso.\n",
    "    Returns:\n",
    "        tree (nx.Graph): El grafo de tipo nx.Graph que contiene el arbol de expansión mínima.\n",
    "        weight (float/int): El peso total del grafo tree.\n",
    "    \"\"\"\n",
    "    tree = nx.Graph()\n",
    "    total_weight = 0  \n",
    "    # Implement Kruskal algorithm here\n",
    "    return tree, total_weight"
   ]
  },
  {
   "cell_type": "markdown",
   "metadata": {},
   "source": [
    "\n",
    "<div class=\"alert alert-success\" style=\"width:90%; margin:0 auto;\">\n",
    "  <h2><p>2- Prim Algorithm</p></h2>\n",
    "  Igual que Kruskal, el algoritmo de Prim es un algoritmo voraz que calcula el MST de un grafo dado. La diferencia fundamental es en el orden en que se añaden aristas. Prim empieza en un nodo concreto y se basa en ir añadiendo a cada paso la arista más pequeña de entre las que conectan los nodos ya pertenecientes al árbol con sus vecinos.\n",
    "    \n",
    "   <center><img width=\"250px\" src=\"./img/PrimDemo.gif\"></center>\n",
    "\n",
    "<p>\n",
    "En este apartado tendréis que implementar el algoritmo de Prim para obtener el Minimum Spanning Tree de cualquier grafo no dirigido y conexo. \n",
    "  </p>\n"
   ]
  },
  {
   "cell_type": "code",
   "execution_count": null,
   "metadata": {},
   "outputs": [],
   "source": [
    "def prim(G,origen=None,infinity=float('inf')):\n",
    "    \"\"\" Implementación del algoritmo de Kruskal para obtener el MST de un grafo cualquiera.\n",
    "    Args:\n",
    "        G (nx.Graph): El grafo sobre el que queremos obtener el MST. \n",
    "                      Las aristas tienen el atributo 'weight' que indica su peso.\n",
    "        origin (node_id): Opcional, nodo por el cual comenzar la búsqueda.\n",
    "        infinity (float): Opcional, valor para inicializar las distancias.\n",
    "    Returns:\n",
    "        tree (nx.Graph): El grafo que contiene el arbol de expansión mínima.\n",
    "        weight (float/int): El peso total del grafo tree.\n",
    "    \"\"\"\n",
    "    tree = nx.Graph()\n",
    "    total_weight = 0\n",
    "    # Implement Prim algorithm here\n",
    "    return tree, total_weight"
   ]
  },
  {
   "cell_type": "markdown",
   "metadata": {},
   "source": [
    "<div class=\"alert alert-danger\" style=\"width:80%; margin:0 auto; padding\">\n",
    "<center><p><h3> Tests </h3></p> </center>\n",
    "<p>\n",
    "Realiza los tests pertinentes en las celdas dispuestas a continuación.\n",
    "</p>\n",
    "</div>\n"
   ]
  },
  {
   "cell_type": "code",
   "execution_count": null,
   "metadata": {},
   "outputs": [],
   "source": [
    "%matplotlib inline\n",
    "from utils import *\n",
    "\n",
    "# Create random Graph\n",
    "num_v = 5 # Num nodes\n",
    "num_e = 15 # Num edges\n",
    "G = generate_random_graph(num_v,num_e)\n",
    "\n",
    "# Run test\n",
    "test_algs(G,kruskal,prim,0) # 0 for both, 1 for kruskal only, 2 for prim only"
   ]
  },
  {
   "cell_type": "markdown",
   "metadata": {},
   "source": [
    "<div class=\"alert alert-warning\">\n",
    "<h1>Pregunta 1</h1>\n",
    "<p><strong>\n",
    "Explica las diferencias entre los algoritmos de Kruskal y Prim. ¿Para qué casos (características concretas de un grafo) es uno más eficiente que el otro?\n",
    "</strong></p>\n",
    "</div>"
   ]
  },
  {
   "cell_type": "markdown",
   "metadata": {},
   "source": []
  },
  {
   "cell_type": "markdown",
   "metadata": {},
   "source": [
    "<div class=\"alert alert-warning\">\n",
    "<h1>Pregunta 2</h1>\n",
    "<p><strong>\n",
    "Explica tu implementación y analiza la complejidad de ambos algoritmos.\n",
    "</strong></p>\n",
    "</div>"
   ]
  },
  {
   "cell_type": "markdown",
   "metadata": {},
   "source": []
  },
  {
   "cell_type": "markdown",
   "metadata": {},
   "source": [
    "<div class=\"alert alert-info\">\n",
    "<center>\n",
    "  <h1>Entrega</h1>\n",
    "</center>\n",
    "<p>\n",
    "La entrega de esta práctica se podrá realizar en el campus virtual hasta el día <b>17 de Noviembre a las 23:55</b>. En la tarea que se habilitará en el campus deberéis colgar <b>únicamente este notebook</b> con el nombre:\n",
    "</p>\n",
    "<p>\n",
    "```\n",
    "[grupo]_[apellido]_[nombre]_2-Greedy.ipynb\n",
    "```\n",
    "\n",
    "</p>\n",
    "<p>\n",
    "    Por ejemplo, para un alumno llamado <i>Nombre Genérico</i> perteneciente al <i>grupo Z</i> el nombre del archivo debería ser:\n",
    "</p>\n",
    "<p>\n",
    "```\n",
    "Z_Generico_Nombre_2-Greedy.ipynb\n",
    "```\n",
    "\n",
    "Y <b>NO</b>:\n",
    "<ul>\n",
    "<li>Z00_Generico_Nombre_2-Greedy.zip</li>\n",
    "    \n",
    "<li>ZX_Generico_Nombre_2-Greedy.ipynb</li>\n",
    "\n",
    "<li>Lab2_Generico_Nombre_2-Greedy.rar</li>\n",
    "\n",
    "<li>2-Greedy.ipynb</li>\n",
    "<li> ... literalmente cualquier otra cosa que no sea el nombre que sí hay que ponerle </li>\n",
    "</ul>\n",
    "</p>\n",
    "<p>\n",
    "\n",
    "Es muy importante que en el notebook exista <b> una sola función </b> con el nombre <i>kruskal</i> y <i>prim</i> ya que emplearemos un corrector automático para agilizar el proceso. Podéis tener tantas funciones auxiliares como queráis, pero no puede haber dos funciones con el mismo nombre. No os preocupéis si no os funciona del todo, el no pasar los tests no significa necesariamente que tengáis un 0 en la práctica; también revisaremos manualmente el código así como los comentarios del final del notebook y vuestro análisis de complejidad.\n",
    "\n",
    "\n",
    "Es fundamental que el código esté bién comentado y con un análisis de complejidad exhaustivo del algoritmo. La importancia de poner nombre correcto al archivo debería ser directamente proporcional a lo contentos que queráis que los profesores de prácticas corrijan.<b> No adherirse al formato en el nombre del archivo así como entregar otro tipo de archivo o varios archivos, conllevará a la no corrección de vuestra práctica.</b>\n",
    "</p>\n",
    "</div>"
   ]
  }
 ],
 "metadata": {
  "kernelspec": {
   "display_name": "Python 3",
   "language": "python",
   "name": "python3"
  },
  "language_info": {
   "codemirror_mode": {
    "name": "ipython",
    "version": 3
   },
   "file_extension": ".py",
   "mimetype": "text/x-python",
   "name": "python",
   "nbconvert_exporter": "python",
   "pygments_lexer": "ipython3",
   "version": "3.7.4"
  }
 },
 "nbformat": 4,
 "nbformat_minor": 2
}
