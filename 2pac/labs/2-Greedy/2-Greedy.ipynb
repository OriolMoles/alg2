{
 "cells": [
  {
   "cell_type": "markdown",
   "metadata": {},
   "source": [
    "<div style=\"padding:30px; color: white; background-color: #0071CD\">\n",
    "<center>\n",
    "<img src=\"img/logoub.jpeg\">\n",
    "<center>\n",
    "<p>\n",
    "<h1>Algorítmica Avanzada</h1>\n",
    "<h2>Problemas 2 - Greedy </h2>\n",
    "</center>\n",
    "</p>\n",
    "</div>"
   ]
  },
  {
   "cell_type": "markdown",
   "metadata": {},
   "source": [
    "<div style=\"width:90%; margin:0 auto;\">\n",
    "  <h2><p>Minimum Spanning Tree</p></h2>\n",
    "  <p>\n",
    "Dado un grafo conexo y no dirigido, un spanning tree de ese grafo es un subgrafo que tiene que ser un árbol (sin ciclos) y contener todos los vértices del grafo inicial. Cada arista tiene asignado un peso, que es un número representativo de algún objeto, distancia, etc. y se usa para asignar un peso total al MST computando la suma de todos los pesos de las aristas del árbol en cuestión. Un MST o minimum spanning tree es un árbol recubridor que pesa menos o igual que caulquier otro árbol recubridor de ese grafo. Todo grafo tiene un bosque recubridor mínimo.\n",
    "  </p>\n",
    "<img width=\"300px\" src=\"img/mst.png\">\n",
    "  </div>\n"
   ]
  },
  {
   "cell_type": "markdown",
   "metadata": {},
   "source": [
    "\n",
    "<div class=\"alert alert-success\" style=\"width:90%; margin:0 auto;\">\n",
    "  <h2><p>1- Kruskal Algorithm</p></h2>\n",
    "  El algoritmo de Kruskal es un algoritmo voraz que calcula el MST de un grafo dado. Se basa en ir añadiendo a cada paso la arista más pequeña del grafo que conecte dos subárboles que no estaban previamente conectados.\n",
    "    \n",
    "   <center><img width=\"250px\" src=\"./img/KruskalDemo.gif\"></center>\n",
    "\n",
    "<p>\n",
    "En este apartado tendréis que implementar el algoritmo de Kruskal para obtener el Minimum Spanning Tree de cualquier grafo no dirigido. \n",
    "  </p>\n"
   ]
  },
  {
   "cell_type": "code",
   "execution_count": 1,
   "metadata": {},
   "outputs": [],
   "source": [
    "# Imports\n",
    "import networkx as nx"
   ]
  },
  {
   "cell_type": "code",
   "execution_count": 2,
   "metadata": {},
   "outputs": [],
   "source": [
    "def kruskal(G):\n",
    "    \"\"\" \n",
    "    Implementación del algoritmo de Kruskal para obtener el MST de un grafo cualquiera.\n",
    "    \n",
    "    Parameters\n",
    "    ----------\n",
    "        G, nx.Graph\n",
    "            El grafo de tipo nx.Graph sobre el que queremos obtener el MST. \n",
    "            Las aristas tienen el atributo 'weight' que indica su peso.\n",
    "    \n",
    "    Returns\n",
    "    -------\n",
    "        tree, nx.Graph\n",
    "            El grafo de tipo nx.Graph que contiene el arbol de expansión mínima.\n",
    "        weight, float or int \n",
    "            El peso total del grafo tree.\n",
    "    \"\"\"\n",
    "    \n",
    "    tree_edges = [] \n",
    "    \n",
    "    # We init the singelton list of the nodes\n",
    "    # and the ordered edge list (ascending)\n",
    "    nodes = list({e} for e in G.nodes)\n",
    "    edges = sorted(G.edges.items(), key=lambda e: e[1][\"weight\"])\n",
    "    \n",
    "    # Loop over all the edges\n",
    "    # in ascending weight order\n",
    "    for (u, v), w in edges:\n",
    "        # Find the sets containing u and v\n",
    "        set_u = set_v = None\n",
    "        u_i = v_i = None\n",
    "        \n",
    "        for i, n in enumerate(nodes):\n",
    "            if (set_u is not None) and (set_v is not None):\n",
    "                break\n",
    "            \n",
    "            if u in n:\n",
    "                set_u = n\n",
    "                u_i = i\n",
    "                \n",
    "            if v in n:\n",
    "                set_v = n\n",
    "                v_i = i\n",
    "        \n",
    "        # Check if the two sets are different\n",
    "        # if so, we add the edge to the MST edge\n",
    "        # list, update the total \n",
    "        if set_u is not set_v:\n",
    "            tree_edges.append((u, v, {\"weight\": w[\"weight\"]}))\n",
    "            \n",
    "            nodes[u_i] |= nodes[v_i]\n",
    "            del nodes[v_i]\n",
    "    \n",
    "    mst = nx.Graph(tree_edges)\n",
    "    return mst, sum([w[\"weight\"] for _,w in mst.edges.items()])"
   ]
  },
  {
   "cell_type": "markdown",
   "metadata": {},
   "source": [
    "### Testing"
   ]
  },
  {
   "cell_type": "code",
   "execution_count": 3,
   "metadata": {},
   "outputs": [
    {
     "name": "stdout",
     "output_type": "stream",
     "text": [
      "MST weight: 19\n"
     ]
    }
   ],
   "source": [
    "from utils import draw_graph\n",
    "\n",
    "edges = [\n",
    "    (1, 2, {\"weight\": 1}), \n",
    "    (2, 3, {\"weight\": 2}), \n",
    "    (3, 4, {\"weight\": 1}),\n",
    "    (1, 5, {\"weight\": 3}),\n",
    "    (6, 8, {\"weight\": 9}), \n",
    "    (7, 8, {\"weight\": 3})]\n",
    "\n",
    "g = nx.Graph(edges)\n",
    "t, total = kruskal(g)\n",
    "print(f\"MST weight: {total}\")\n",
    "\n",
    "edges_t = t.edges()\n",
    "edges_o = [x for x in g.edges() if x not in edges_t]\n",
    "draw_graph(g, edges_t, edges_o, nx.spring_layout(g))"
   ]
  },
  {
   "cell_type": "markdown",
   "metadata": {},
   "source": [
    "\n",
    "<div class=\"alert alert-success\" style=\"width:90%; margin:0 auto;\">\n",
    "  <h2><p>2- Prim Algorithm</p></h2>\n",
    "  Igual que Kruskal, el algoritmo de Prim es un algoritmo voraz que calcula el MST de un grafo dado. La diferencia fundamental es en el orden en que se añaden aristas. Prim empieza en un nodo concreto y se basa en ir añadiendo a cada paso la arista más pequeña de entre las que conectan los nodos ya pertenecientes al árbol con sus vecinos.\n",
    "    \n",
    "   <center><img width=\"250px\" src=\"./img/PrimDemo.gif\"></center>\n",
    "\n",
    "<p>\n",
    "En este apartado tendréis que implementar el algoritmo de Prim para obtener el Minimum Spanning Tree de cualquier grafo no dirigido y conexo. \n",
    "  </p>\n"
   ]
  },
  {
   "cell_type": "code",
   "execution_count": 4,
   "metadata": {},
   "outputs": [],
   "source": [
    "def prim(G, origen=None, infinity=float('inf')):\n",
    "    \"\"\" \n",
    "    Implementación del algoritmo de Kruskal para obtener el MST de un grafo cualquiera.\n",
    "    \n",
    "    Parameters\n",
    "    ----------\n",
    "        G, nx.Graph \n",
    "            El grafo sobre el que queremos obtener el MST. \n",
    "            Las aristas tienen el atributo 'weight' que indica su peso.\n",
    "        origin (optional), node_id\n",
    "            nodo por el cual comenzar la búsqueda.\n",
    "        infinity (optional), float\n",
    "            valor para inicializar las distancias.\n",
    "    \n",
    "    Returns\n",
    "    -------\n",
    "        tree, nx.Graph\n",
    "            El grafo que contiene el arbol de expansión mínima.\n",
    "        weight, float or int\n",
    "            El peso total del grafo tree.\n",
    "    \"\"\"\n",
    "    \n",
    "    tree_edges, tree_nodes, nodes = [], [], list(G.nodes)\n",
    "    \n",
    "    # If origen is None we take the first node\n",
    "    if origen is None:\n",
    "        origen = list(G.nodes)[0]\n",
    "    \n",
    "    # This will be the boundary edges list\n",
    "    boundary = sorted(\n",
    "        [\n",
    "            (origen, w, G.edges[(origen, w)]) \n",
    "            for w in G.neighbors(origen) \n",
    "            if w is not origen\n",
    "        ], key=lambda x: x[2][\"weight\"]\n",
    "    )\n",
    "    \n",
    "    tree_nodes.append(origen)\n",
    "    nodes.remove(origen)\n",
    "        \n",
    "    while len(nodes) > 0:\n",
    "        # We take the boundary edges\n",
    "        # with minimum weight\n",
    "        _e = boundary[0]\n",
    "        _w = _e[1]\n",
    "        \n",
    "        # Check if the end of the edge\n",
    "        # is in the nodes list\n",
    "        if _w not in nodes:\n",
    "            boundary = boundary[1::]\n",
    "            continue\n",
    "        \n",
    "        # Update the tree lists\n",
    "        # and remove the adjacent from nodes\n",
    "        tree_edges.append(_e)\n",
    "        tree_nodes.append(_w)\n",
    "        nodes.remove(_w)\n",
    "                \n",
    "        # Update the boundary edge list\n",
    "        # and sort it \n",
    "        boundary = boundary[1::] + [\n",
    "            (_w, _v, G.edges[(_w, _v)]) \n",
    "            for _v in G.neighbors(_w) \n",
    "            if (_v not in tree_nodes)\n",
    "        ]\n",
    "        boundary = sorted(boundary, key=lambda x: x[2][\"weight\"])\n",
    "    \n",
    "    mst = nx.Graph(tree_edges)\n",
    "    return mst, sum([w[\"weight\"] for _,w in mst.edges.items()])"
   ]
  },
  {
   "cell_type": "markdown",
   "metadata": {},
   "source": [
    "### Testing"
   ]
  },
  {
   "cell_type": "code",
   "execution_count": 5,
   "metadata": {},
   "outputs": [
    {
     "name": "stdout",
     "output_type": "stream",
     "text": [
      "MST weight: 7\n"
     ]
    },
    {
     "data": {
      "image/png": "[encoded data removed]",
      "text/plain": [
       "<Figure size 432x288 with 1 Axes>"
      ]
     },
     "metadata": {},
     "output_type": "display_data"
    }
   ],
   "source": [
    "from utils import draw_graph\n",
    "\n",
    "edges = [\n",
    "    (1, 2, {\"weight\": 1}), \n",
    "    (2, 3, {\"weight\": 2}), \n",
    "    (3, 4, {\"weight\": 1}), \n",
    "    (4, 5, {\"weight\": 9}), \n",
    "    (4, 1, {\"weight\": 7}),\n",
    "    (1, 5, {\"weight\": 3})]\n",
    "\n",
    "g = nx.Graph(edges)\n",
    "t, total = prim(g)\n",
    "print(f\"MST weight: {total}\")\n",
    "\n",
    "edges_t = t.edges()\n",
    "edges_o = [x for x in g.edges() if x not in edges_t]\n",
    "draw_graph(g, edges_t, edges_o, nx.spring_layout(g))"
   ]
  },
  {
   "cell_type": "markdown",
   "metadata": {},
   "source": [
    "<div class=\"alert alert-danger\" style=\"width:80%; margin:0 auto; padding\">\n",
    "<center><p><h3> Tests </h3></p> </center>\n",
    "<p>\n",
    "Realiza los tests pertinentes en las celdas dispuestas a continuación.\n",
    "</p>\n",
    "</div>\n"
   ]
  },
  {
   "cell_type": "code",
   "execution_count": null,
   "metadata": {},
   "outputs": [],
   "source": [
    "%matplotlib inline\n",
    "from utils import *\n",
    "\n",
    "# Create random Graph\n",
    "num_v = 5 # Num nodes\n",
    "num_e = 15 # Num edges\n",
    "G = generate_random_graph(num_v, num_e)\n",
    "\n",
    "# Run test\n",
    "test_algs(G, kruskal, prim, 0) # 0 for both, 1 for kruskal only, 2 for prim only"
   ]
  },
  {
   "cell_type": "markdown",
   "metadata": {},
   "source": [
    "<div class=\"alert alert-warning\">\n",
    "<h1>Pregunta 1</h1>\n",
    "<p><strong>\n",
    "Explica las diferencias entre los algoritmos de Kruskal y Prim. ¿Para qué casos (características concretas de un grafo) es uno más eficiente que el otro?\n",
    "</strong></p>\n",
    "</div>"
   ]
  },
  {
   "cell_type": "markdown",
   "metadata": {},
   "source": [
    "### Diferencies\n",
    "asd\n",
    "\n",
    "### Use cases\n",
    "\n",
    "En el cas de que tinguem un graf disconex, l'algoritme de Prim no funciona correctament. Per tant, en casos de grafs amb diverses components disconnexes, s'utilitza Kruskal.\n",
    "\n",
    "Tot i així, en casos en que el graf és dens, l'lagoritme de Prim serà molt més ràpid (en quan a complexitat de temps) que Kruskal."
   ]
  },
  {
   "cell_type": "markdown",
   "metadata": {},
   "source": [
    "<div class=\"alert alert-warning\">\n",
    "<h1>Pregunta 2</h1>\n",
    "<p><strong>\n",
    "Explica tu implementación y analiza la complejidad de ambos algoritmos.\n",
    "</strong></p>\n",
    "</div>"
   ]
  },
  {
   "cell_type": "markdown",
   "metadata": {},
   "source": [
    "### Implementació\n",
    "#### Kruskal\n",
    "Sigui `G` el graf inicial i `o`, el node inicial per el qual volem trobar el MST.\n",
    "\n",
    "1. Definim `n` com el conjunt de singletons amb els nodes de `G`.\n",
    "1. Iterem sobre la llista d'arestes de `G` ordenades decreixentment respecte el pes.\n",
    "    1. Trobem els cojunts `u` i `v` de `n` contenint els nodes de l'aresta.\n",
    "    1. Si `u` i `v` són diferents\n",
    "        1. Afagim l'aresta a `T`\n",
    "        1. Unim `u` i `v` en `n`\n",
    "1. `T` és el MST de `G`.\n",
    "\n",
    "#### Prim\n",
    "Sigui `G` el graf inicial i `o`, el node inicial per el qual volem trobar el MST.\n",
    "\n",
    "1. Guardem els nodes de `G` en un conjunt `n`. \n",
    "1. Afagim el node origen a un graf `T`.\n",
    "1. Computem la llista s'arestes `b` des de `o` en `G`, i la ordenem de manera creixent respecte el pes d'aquestes.\n",
    "1. Mentre el conjunt `n` tingui algun element:\n",
    "    1. Prenem l'aresta `e` amb pes més petit de `b`.\n",
    "    1. Comporvem si el final d'`e` està en `n`, si ho està la treiem. Sinó, tornem a 4.\n",
    "    1. Afagim `e` a `T`.\n",
    "    1. Tornem a computar `b` amb els nodes extrems de `T` i ordenem.\n",
    "1. `T` és el MST de `G`.\n",
    "\n",
    "### Complexitats\n",
    "#### Kruskal\n",
    "$\n",
    "O(E \\log E)\n",
    "$\n",
    "\n",
    "#### Prim\n",
    "$\n",
    "O(E \\log V)\n",
    "$"
   ]
  },
  {
   "cell_type": "markdown",
   "metadata": {},
   "source": [
    "<div class=\"alert alert-info\">\n",
    "<center>\n",
    "  <h1>Entrega</h1>\n",
    "</center>\n",
    "<p>\n",
    "La entrega de esta práctica se podrá realizar en el campus virtual hasta el día <b>17 de Noviembre a las 23:55</b>. En la tarea que se habilitará en el campus deberéis colgar <b>únicamente este notebook</b> con el nombre:\n",
    "</p>\n",
    "<p>\n",
    "```\n",
    "[grupo]_[apellido]_[nombre]_2-Greedy.ipynb\n",
    "```\n",
    "\n",
    "</p>\n",
    "<p>\n",
    "    Por ejemplo, para un alumno llamado <i>Nombre Genérico</i> perteneciente al <i>grupo Z</i> el nombre del archivo debería ser:\n",
    "</p>\n",
    "<p>\n",
    "```\n",
    "Z_Generico_Nombre_2-Greedy.ipynb\n",
    "```\n",
    "\n",
    "Y <b>NO</b>:\n",
    "<ul>\n",
    "<li>Z00_Generico_Nombre_2-Greedy.zip</li>\n",
    "    \n",
    "<li>ZX_Generico_Nombre_2-Greedy.ipynb</li>\n",
    "\n",
    "<li>Lab2_Generico_Nombre_2-Greedy.rar</li>\n",
    "\n",
    "<li>2-Greedy.ipynb</li>\n",
    "<li> ... literalmente cualquier otra cosa que no sea el nombre que sí hay que ponerle </li>\n",
    "</ul>\n",
    "</p>\n",
    "<p>\n",
    "\n",
    "Es muy importante que en el notebook exista <b> una sola función </b> con el nombre <i>kruskal</i> y <i>prim</i> ya que emplearemos un corrector automático para agilizar el proceso. Podéis tener tantas funciones auxiliares como queráis, pero no puede haber dos funciones con el mismo nombre. No os preocupéis si no os funciona del todo, el no pasar los tests no significa necesariamente que tengáis un 0 en la práctica; también revisaremos manualmente el código así como los comentarios del final del notebook y vuestro análisis de complejidad.\n",
    "\n",
    "\n",
    "Es fundamental que el código esté bién comentado y con un análisis de complejidad exhaustivo del algoritmo. La importancia de poner nombre correcto al archivo debería ser directamente proporcional a lo contentos que queráis que los profesores de prácticas corrijan.<b> No adherirse al formato en el nombre del archivo así como entregar otro tipo de archivo o varios archivos, conllevará a la no corrección de vuestra práctica.</b>\n",
    "</p>\n",
    "</div>"
   ]
  }
 ],
 "metadata": {
  "kernelspec": {
   "display_name": "Python 3",
   "language": "python",
   "name": "python3"
  },
  "language_info": {
   "codemirror_mode": {
    "name": "ipython",
    "version": 3
   },
   "file_extension": ".py",
   "mimetype": "text/x-python",
   "name": "python",
   "nbconvert_exporter": "python",
   "pygments_lexer": "ipython3",
   "version": "3.7.4"
  }
 },
 "nbformat": 4,
 "nbformat_minor": 2
}
