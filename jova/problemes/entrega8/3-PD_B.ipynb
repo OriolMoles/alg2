{
 "cells": [
  {
   "cell_type": "markdown",
   "metadata": {},
   "source": [
    "<div style=\"padding:30px; color: white; background-color: #0071CD\">\n",
    "<center>\n",
    "<img src=\"img/logoub.jpeg\">\n",
    "<center>\n",
    "<p>\n",
    "<h1>Algorítmica Avanzada</h1>\n",
    "<h2>Problemas 3.B - Programación Dinámica </h2>\n",
    "</center>\n",
    "</p>\n",
    "</div>"
   ]
  },
  {
   "cell_type": "markdown",
   "metadata": {},
   "source": [
    "<div class=\"alert alert-danger\" style=\"width:95%; margin:0 auto; padding\">\n",
    "A la hora de crear las matrices de programación dinámica podéis emplear diversas estructuras de datos. La lista de listas puede ser una buena opción, pero existen librerías como NumPy que hacen una mejor gestión de las matrices.\n",
    "\n",
    "Podéis consultar aquí la documentación: https://docs.scipy.org/doc/numpy/reference/"
   ]
  },
  {
   "cell_type": "markdown",
   "metadata": {},
   "source": [
    "<div class=\"alert alert-success\" style=\"width:90%; margin:0 auto;\">\n",
    "\n",
    "  <h2><p>3 - Distancia de edición</p></h2>\n",
    "  \n",
    "  <p> Dadas dos cadenas S1 y S2, este algoritmo trata de encontrar la \"distancia\" entre ellas. Basamos la distancia en el número de transformaciones necesarias para convertir la cadena S1 en la cadena S2 (o viceversa). Se consideran tres transformaciones distintas: inserción, eliminación y sustitución. Los costes de cada operación serán parámetros de la función.</p>\n",
    "  \n",
    "  <img src='img/min_Edit_Distance_DP_Table.png' width=\"50%\">\n",
    "  \n",
    "Además, se os pide que reconstruyáis el conjunto de operaciones que realizar sobre la primera palabra (<i>relevant</i>) para convertirla en la segunda (<i>elephant</i>). En el ejemplo de la imagen (donde los costes de las operaciones es 1 para todas):\n",
    "<ul>\n",
    "    <li> Eliminar 'R' en la posición 0.           $('D','R',0)$</li>\n",
    "    <li> Insertar 'P' en la posición 4.           $('I','P',4)$</li>\n",
    "    <li> Substituir 'V' por 'H' en la posición 5.            $('R',('V', 'H'),4)$ </li>\n",
    "    <li> ........ El coste total de edición es: 3 </li>\n",
    "</ul>\n",
    "\n",
    "** Nota: Vuestro algoritmo podría encontrar otro conjunto de operaciones distinto a este pero con el mismo coste de edición."
   ]
  },
  {
   "cell_type": "code",
   "execution_count": null,
   "metadata": {},
   "outputs": [],
   "source": [
    "'''\n",
    "Implementa aquí el algoritmo de distancia de edición\n",
    "'''\n",
    "def distancia_edicion(s1,s2,ci=2,cd=2,cr=1):\n",
    "    pass"
   ]
  },
  {
   "cell_type": "code",
   "execution_count": null,
   "metadata": {},
   "outputs": [],
   "source": [
    "print(distancia_edicion('relevant','elephant'))\n",
    "print(distancia_edicion('surgery', 'survey'))\n",
    "print(distancia_edicion('abcde', 'vwxyz'))"
   ]
  },
  {
   "cell_type": "markdown",
   "metadata": {},
   "source": [
    "<div class=\"alert alert-warning\" style=\"width:80%; margin:0 auto; padding\">\n",
    "<center><p><h3> Cuestiones</h3></p> </center> </div>"
   ]
  },
  {
   "cell_type": "markdown",
   "metadata": {},
   "source": [
    "<ul>\n",
    "    <li>Analiza la complejidad del algoritmo.</li>\n",
    "</ul>"
   ]
  },
  {
   "cell_type": "markdown",
   "metadata": {},
   "source": [
    "<div class=\"alert alert-success\" style=\"width:90%; margin:0 auto;\">\n",
    "\n",
    "  <h2><p>4 - Torres de Hanoi</p></h2>\n",
    "  \n",
    "  <p>Se plantea un escenario con 3 torres y una serie de discos de diferentes tamaños. Buscamos mover todos los discos de una torre origen a otra destino empleando la torre intermedia como soporte. Siempre deberán cumplirse las siguientes condiciones:\n",
    "<ul>\n",
    "    <li> Solo podemos mover un disco a cada vez. </li>\n",
    "    <li> Un movimiento de disco consiste en coger el disco superior de una de las torres y colocarlo en la cima de otra de las torres. </li>\n",
    "    <li> Un disco nunca podrá estar sobre otro disco de menor tamaño. </li>\n",
    "</ul>\n",
    "\n",
    "Podéis ver aquí un ejemplo animado de Hanoi con 4 discos en la que queremos mover todos los discos desde la torre izquierda a la derecha.\n",
    "<center><img src=\"img/hanoi.gif\"></center>\n",
    "\n",
    "Para más ejemplos y experimentación, tenéis disponible el juego online: https://www.mathsisfun.com/games/towerofhanoi.html\n",
    "    \n",
    "Se os pide que implementéis la solución de Programación Dinámica al problema de las torres de Hanoi para calcular el número mínimo de movimientos necesarios para mover $D$ discos de la torre $t_o$ a la torre $t_d$.\n",
    "\n",
    "Además, se os pide que devolváis una lista de tuplas con la forma $(t_i,t_j)$ que simboliza mover el disco que se encuentra más arriba de la torre $i$ a la cima de la torre $j$.\n",
    "Por ejemplo, para 3 discos, los movimientos serían:\n",
    "[(0, 2), (0, 1), (2, 1), (0, 2), (1, 0), (1, 2), (0, 2)]\n",
    "</p>\n",
    "  "
   ]
  },
  {
   "cell_type": "code",
   "execution_count": 81,
   "metadata": {},
   "outputs": [],
   "source": [
    "def dynamic_hanoi(D, t0=0, t1=2, taux=1, moves = []):\n",
    "    if D == 1:\n",
    "        moves.append((t0,t1))\n",
    "        return\n",
    "    else:\n",
    "        dynamic_hanoi(D-1, t0, taux, t1, moves)\n",
    "        moves.append((t0,t1))\n",
    "        dynamic_hanoi(D-1, taux, t1, t0, moves)\n",
    "    return moves"
   ]
  },
  {
   "cell_type": "code",
   "execution_count": 80,
   "metadata": {},
   "outputs": [
    {
     "ename": "IndentationError",
     "evalue": "expected an indented block (<ipython-input-80-20d2ee9f8e26>, line 7)",
     "output_type": "error",
     "traceback": [
      "\u001b[0;36m  File \u001b[0;32m\"<ipython-input-80-20d2ee9f8e26>\"\u001b[0;36m, line \u001b[0;32m7\u001b[0m\n\u001b[0;31m    dynamic_hanoi(D-1, t0, taux, t1, moves)\u001b[0m\n\u001b[0m                ^\u001b[0m\n\u001b[0;31mIndentationError\u001b[0m\u001b[0;31m:\u001b[0m expected an indented block\n"
     ]
    }
   ],
   "source": [
    "def dynamic_hanoi2(D, t0=0, t1=2, taux=1, moves = [], H = []):\n",
    "    if D == 1:\n",
    "        moves.append((t0,t1))\n",
    "        return\n",
    "    else:\n",
    "        if len(H) >= D-1:\n",
    "            \n",
    "        dynamic_hanoi2(D-1, t0, taux, t1, moves)\n",
    "        moves.append((t0,t1))\n",
    "        new_moves = dynamic_hanoi2(D-1, taux, t1, t0, moves)\n",
    "    return moves"
   ]
  },
  {
   "cell_type": "code",
   "execution_count": 84,
   "metadata": {},
   "outputs": [
    {
     "name": "stdout",
     "output_type": "stream",
     "text": [
      "7\n",
      "15\n",
      "31\n",
      "63\n",
      "127\n"
     ]
    }
   ],
   "source": [
    "# Prueba tu algoritmo\n",
    "# Mover n discos debería resultar en (2^n -1) movimientos\n",
    "\n",
    "print(len(dynamic_hanoi(3, moves = [])))\n",
    "print(len(dynamic_hanoi(4, moves = [])))\n",
    "print(len(dynamic_hanoi(5, moves = [])))\n",
    "print(len(dynamic_hanoi(6, moves = [])))\n",
    "print(len(dynamic_hanoi(7, moves = [])))"
   ]
  },
  {
   "cell_type": "code",
   "execution_count": 11,
   "metadata": {},
   "outputs": [
    {
     "name": "stdout",
     "output_type": "stream",
     "text": [
      "[(0, 1)]\n",
      "[(0, 1), (0, 1)]\n"
     ]
    }
   ],
   "source": [
    "def fun():\n",
    "    return [(0,1)]\n",
    "\n",
    "m = fun()\n",
    "print(m)\n",
    "b = fun()\n",
    "m.append(b[0])\n",
    "print(m)"
   ]
  },
  {
   "cell_type": "markdown",
   "metadata": {},
   "source": [
    "<div class=\"alert alert-warning\" style=\"width:80%; margin:0 auto; padding\">\n",
    "<center><p><h3> Cuestiones</h3></p> </center> </div>"
   ]
  },
  {
   "cell_type": "markdown",
   "metadata": {},
   "source": [
    "<ul>\n",
    "    <li>Analiza la complejidad del algoritmo.</li>\n",
    "</ul>"
   ]
  }
 ],
 "metadata": {
  "kernelspec": {
   "display_name": "Python 3",
   "language": "python",
   "name": "python3"
  },
  "language_info": {
   "codemirror_mode": {
    "name": "ipython",
    "version": 3
   },
   "file_extension": ".py",
   "mimetype": "text/x-python",
   "name": "python",
   "nbconvert_exporter": "python",
   "pygments_lexer": "ipython3",
   "version": "3.6.8"
  }
 },
 "nbformat": 4,
 "nbformat_minor": 2
}
