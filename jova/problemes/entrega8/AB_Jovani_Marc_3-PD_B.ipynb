{
 "cells": [
  {
   "cell_type": "markdown",
   "metadata": {},
   "source": [
    "<div style=\"padding:30px; color: white; background-color: #0071CD\">\n",
    "<center>\n",
    "<img src=\"img/logoub.jpeg\">\n",
    "<center>\n",
    "<p>\n",
    "<h1>Algorítmica Avanzada</h1>\n",
    "<h2>Problemas 3.B - Programación Dinámica </h2>\n",
    "</center>\n",
    "</p>\n",
    "</div>"
   ]
  },
  {
   "cell_type": "markdown",
   "metadata": {},
   "source": [
    "<div class=\"alert alert-danger\" style=\"width:95%; margin:0 auto; padding\">\n",
    "A la hora de crear las matrices de programación dinámica podéis emplear diversas estructuras de datos. La lista de listas puede ser una buena opción, pero existen librerías como NumPy que hacen una mejor gestión de las matrices.\n",
    "\n",
    "Podéis consultar aquí la documentación: https://docs.scipy.org/doc/numpy/reference/"
   ]
  },
  {
   "cell_type": "markdown",
   "metadata": {},
   "source": [
    "<div class=\"alert alert-success\" style=\"width:90%; margin:0 auto;\">\n",
    "\n",
    "  <h2><p>3 - Distancia de edición</p></h2>\n",
    "  \n",
    "  <p> Dadas dos cadenas S1 y S2, este algoritmo trata de encontrar la \"distancia\" entre ellas. Basamos la distancia en el número de transformaciones necesarias para convertir la cadena S1 en la cadena S2 (o viceversa). Se consideran tres transformaciones distintas: inserción, eliminación y sustitución. Los costes de cada operación serán parámetros de la función.</p>\n",
    "  \n",
    "  <img src='img/min_Edit_Distance_DP_Table.png' width=\"50%\">\n",
    "  \n",
    "Además, se os pide que reconstruyáis el conjunto de operaciones que realizar sobre la primera palabra (<i>relevant</i>) para convertirla en la segunda (<i>elephant</i>). En el ejemplo de la imagen (donde los costes de las operaciones es 1 para todas):\n",
    "<ul>\n",
    "    <li> Eliminar 'R' en la posición 0.           $('D','R',0)$</li>\n",
    "    <li> Insertar 'P' en la posición 4.           $('I','P',4)$</li>\n",
    "    <li> Substituir 'V' por 'H' en la posición 5.            $('R',('V', 'H'),4)$ </li>\n",
    "    <li> ........ El coste total de edición es: 3 </li>\n",
    "</ul>\n",
    "\n",
    "** Nota: Vuestro algoritmo podría encontrar otro conjunto de operaciones distinto a este pero con el mismo coste de edición."
   ]
  },
  {
   "cell_type": "code",
   "execution_count": 65,
   "metadata": {},
   "outputs": [],
   "source": [
    "'''\n",
    "Implementa aquí el algoritmo de distancia de edición\n",
    "Usare l'algoritme de Wagner-Fischer veure Wikipedia: https://en.wikipedia.org/wiki/Wagner%E2%80%93Fischer_algorithm\n",
    "'''\n",
    "def distancia_edicion(s1,s2,ci=2,cd=2,cr=1):\n",
    "    m = len(s1)\n",
    "    n = len(s2)\n",
    "    d = np.array([[0. for x in range(n+1)] for x in range(m+1)])\n",
    "    \n",
    "    for i in range(1, m+1):\n",
    "        d[i,0] = i\n",
    "    \n",
    "    for j in range(1, n+1):\n",
    "        d[0,j] = j\n",
    "    \n",
    "    for j in range(1, n+1):\n",
    "        for i in range(1, m+1):\n",
    "            if s1[i-1] == s2[j-1]:\n",
    "                substitutionCost = 0\n",
    "            else:\n",
    "                substitutionCost = 1\n",
    "            \n",
    "            d[i,j] = min(d[i-1,j] + 1, d[i, j-1] + 1, d[i-1, j-1] + substitutionCost)\n",
    "    \n",
    "    pos = (m,n)\n",
    "    changes = []\n",
    "    while pos[0]>=0 and pos[1]>=0:\n",
    "        if pos[0] == 0:\n",
    "            pos_min = (pos[0], pos[1]-1, 'I')\n",
    "            if(d[pos_min[0]][pos_min[1]] != d [pos[0]][pos[1]]) and pos[1]>0:\n",
    "                changes.append((pos_min[2],s2[pos_min[1]],pos_min[0]))\n",
    "                \n",
    "        elif pos[1] == 0:\n",
    "            pos_min = (pos[0]-1, pos[1], 'D')\n",
    "            if(d[pos_min[0]][pos_min[1]] != d [pos[0]][pos[1]]) and pos[0]>0:\n",
    "                changes.append((pos_min[2],s2[pos_min[1]],pos_min[0]))\n",
    "                \n",
    "        else:\n",
    "            pos_min = (pos[0]-1, pos[1]-1, 'R')\n",
    "            if d[pos_min[0]][pos_min[1]] > d[pos[0]-1][pos[1]]:\n",
    "                pos_min = (pos[0]-1, pos[1], 'D')\n",
    "            if d[pos_min[0]][pos_min[1]] > d[pos[0]][pos[1]-1]:\n",
    "                pos_min = (pos[0], pos[1]-1, 'I')\n",
    "\n",
    "            if(d[pos_min[0]][pos_min[1]] != d [pos[0]][pos[1]]) and (pos[0]>0 and pos[1]>0):\n",
    "                if pos_min[2] == 'R':\n",
    "                    changes.append((pos_min[2],(s1[pos_min[0]],s2[pos_min[1]]),pos_min[0]))\n",
    "                else:\n",
    "                    changes.append((pos_min[2],s2[pos_min[1]],pos_min[0]))\n",
    "\n",
    "        pos = pos_min\n",
    "    \n",
    "    return (d[m,n], changes)"
   ]
  },
  {
   "cell_type": "code",
   "execution_count": 66,
   "metadata": {},
   "outputs": [
    {
     "name": "stdout",
     "output_type": "stream",
     "text": [
      "(3.0, [('R', ('v', 'h'), 4), ('I', 'p', 4), ('D', 'e', 0)])\n",
      "(2.0, [('D', 'y', 5), ('R', ('g', 'v'), 3)])\n",
      "(5.0, [('R', ('e', 'z'), 4), ('R', ('d', 'y'), 3), ('R', ('c', 'x'), 2), ('R', ('b', 'w'), 1), ('R', ('a', 'v'), 0)])\n"
     ]
    }
   ],
   "source": [
    "print(distancia_edicion('relevant','elephant'))\n",
    "print(distancia_edicion('surgery', 'survey'))\n",
    "print(distancia_edicion('abcde', 'vwxyz'))"
   ]
  },
  {
   "cell_type": "markdown",
   "metadata": {},
   "source": [
    "<div class=\"alert alert-warning\" style=\"width:80%; margin:0 auto; padding\">\n",
    "<center><p><h3> Cuestiones</h3></p> </center> </div>"
   ]
  },
  {
   "cell_type": "markdown",
   "metadata": {},
   "source": [
    "<ul>\n",
    "    <li>Analiza la complejidad del algoritmo.</li>\n",
    "</ul>\n",
    "\n",
    "Como lo maximo que hay son dos bucles uno dentro del otro que se ejecutan tantas veces como elementos en s2 i s1 resp. tenemos que la complegidad es $O(nm)$ donde $n$ es el numero de letras de s2 i $m$ el de s1"
   ]
  },
  {
   "cell_type": "markdown",
   "metadata": {},
   "source": [
    "<div class=\"alert alert-success\" style=\"width:90%; margin:0 auto;\">\n",
    "\n",
    "  <h2><p>4 - Torres de Hanoi</p></h2>\n",
    "  \n",
    "  <p>Se plantea un escenario con 3 torres y una serie de discos de diferentes tamaños. Buscamos mover todos los discos de una torre origen a otra destino empleando la torre intermedia como soporte. Siempre deberán cumplirse las siguientes condiciones:\n",
    "<ul>\n",
    "    <li> Solo podemos mover un disco a cada vez. </li>\n",
    "    <li> Un movimiento de disco consiste en coger el disco superior de una de las torres y colocarlo en la cima de otra de las torres. </li>\n",
    "    <li> Un disco nunca podrá estar sobre otro disco de menor tamaño. </li>\n",
    "</ul>\n",
    "\n",
    "Podéis ver aquí un ejemplo animado de Hanoi con 4 discos en la que queremos mover todos los discos desde la torre izquierda a la derecha.\n",
    "<center><img src=\"img/hanoi.gif\"></center>\n",
    "\n",
    "Para más ejemplos y experimentación, tenéis disponible el juego online: https://www.mathsisfun.com/games/towerofhanoi.html\n",
    "    \n",
    "Se os pide que implementéis la solución de Programación Dinámica al problema de las torres de Hanoi para calcular el número mínimo de movimientos necesarios para mover $D$ discos de la torre $t_o$ a la torre $t_d$.\n",
    "\n",
    "Además, se os pide que devolváis una lista de tuplas con la forma $(t_i,t_j)$ que simboliza mover el disco que se encuentra más arriba de la torre $i$ a la cima de la torre $j$.\n",
    "Por ejemplo, para 3 discos, los movimientos serían:\n",
    "[(0, 2), (0, 1), (2, 1), (0, 2), (1, 0), (1, 2), (0, 2)]\n",
    "</p>\n",
    "  "
   ]
  },
  {
   "cell_type": "code",
   "execution_count": 74,
   "metadata": {},
   "outputs": [],
   "source": [
    "'''\n",
    "Funcion recursiva para resolver el puzle con el minimo numero de pasos\n",
    "'''\n",
    "def dynamic_hanoi(D, t0=0, t1=2, taux=1, moves = []):\n",
    "    if D == 1:\n",
    "        moves.append((t0,t1))\n",
    "        return\n",
    "    else:\n",
    "        dynamic_hanoi(D-1, t0, taux, t1, moves)\n",
    "        moves.append((t0,t1))\n",
    "        dynamic_hanoi(D-1, taux, t1, t0, moves)\n",
    "    return moves"
   ]
  },
  {
   "cell_type": "code",
   "execution_count": 93,
   "metadata": {},
   "outputs": [],
   "source": [
    "'''\n",
    "Para resolverlo de manera dinamica guardamos los pasos que ya hemos calculado excepto los triviales (D=1)\n",
    "en una matriz teniendo en cuenta la permutacion de (source, target, auxiliar) en la que estamos de manera\n",
    "que reducimos los caluculos significativamente a cambio de ocupar mas memoria\n",
    "'''\n",
    "def dynamic_hanoi2(D, t0=0, t1=2, taux=1, H = np.array([[None for x in range(6)] for y in range(6)])):\n",
    "    if D == 1:\n",
    "        return [(t0,t1)]\n",
    "    else:\n",
    "        indx = list(permutations([0,1,2])).index((t0,t1,taux))\n",
    "        if H[D-2][indx] == None:\n",
    "            H[D-2][indx] = []\n",
    "            H[D-2][indx] += dynamic_hanoi2(D-1, t0, taux, t1, H)\n",
    "            H[D-2][indx].append((t0,t1))\n",
    "            H[D-2][indx] += dynamic_hanoi2(D-1, taux, t1, t0, H)\n",
    "    \n",
    "    return H[D-2][list(permutations([0,1,2])).index((t0,t1,taux))]"
   ]
  },
  {
   "cell_type": "code",
   "execution_count": 115,
   "metadata": {},
   "outputs": [
    {
     "name": "stdout",
     "output_type": "stream",
     "text": [
      "7\n",
      "15\n",
      "31\n",
      "63\n",
      "[(0, 2), (0, 1), (2, 1), (0, 2), (1, 0), (1, 2), (0, 2), (0, 1), (2, 1), (2, 0), (1, 0), (2, 1), (0, 2), (0, 1), (2, 1), (0, 2), (1, 0), (1, 2), (0, 2), (1, 0), (2, 1), (2, 0), (1, 0), (1, 2), (0, 2), (0, 1), (2, 1), (0, 2), (1, 0), (1, 2), (0, 2), (0, 1), (2, 1), (2, 0), (1, 0), (2, 1), (0, 2), (0, 1), (2, 1), (2, 0), (1, 0), (1, 2), (0, 2), (1, 0), (2, 1), (2, 0), (1, 0), (2, 1), (0, 2), (0, 1), (2, 1), (0, 2), (1, 0), (1, 2), (0, 2), (0, 1), (2, 1), (2, 0), (1, 0), (2, 1), (0, 2), (0, 1), (2, 1), (0, 2), (1, 0), (1, 2), (0, 2), (1, 0), (2, 1), (2, 0), (1, 0), (1, 2), (0, 2), (0, 1), (2, 1), (0, 2), (1, 0), (1, 2), (0, 2), (1, 0), (2, 1), (2, 0), (1, 0), (2, 1), (0, 2), (0, 1), (2, 1), (2, 0), (1, 0), (1, 2), (0, 2), (1, 0), (2, 1), (2, 0), (1, 0), (1, 2), (0, 2), (0, 1), (2, 1), (0, 2), (1, 0), (1, 2), (0, 2), (0, 1), (2, 1), (2, 0), (1, 0), (2, 1), (0, 2), (0, 1), (2, 1), (0, 2), (1, 0), (1, 2), (0, 2), (1, 0), (2, 1), (2, 0), (1, 0), (1, 2), (0, 2), (0, 1), (2, 1), (0, 2), (1, 0), (1, 2), (0, 2)]\n",
      "8388607\n"
     ]
    }
   ],
   "source": [
    "# Prueba tu algoritmo\n",
    "# Mover n discos debería resultar en (2^n -1) movimientos\n",
    "\n",
    "print(len(dynamic_hanoi(3, moves = [])))\n",
    "print(len(dynamic_hanoi(4, moves = [])))\n",
    "print(len(dynamic_hanoi(5, moves = [])))\n",
    "print(len(dynamic_hanoi(6, moves = [])))\n",
    "print(dynamic_hanoi(7, moves = []))\n",
    "print(len(dynamic_hanoi(23, moves = [])))"
   ]
  },
  {
   "cell_type": "code",
   "execution_count": 116,
   "metadata": {},
   "outputs": [
    {
     "name": "stdout",
     "output_type": "stream",
     "text": [
      "7\n",
      "15\n",
      "31\n",
      "63\n",
      "127\n",
      "[(0, 2), (0, 1), (2, 1), (0, 2), (1, 0), (1, 2), (0, 2), (0, 1), (2, 1), (2, 0), (1, 0), (2, 1), (0, 2), (0, 1), (2, 1), (0, 2), (1, 0), (1, 2), (0, 2), (1, 0), (2, 1), (2, 0), (1, 0), (1, 2), (0, 2), (0, 1), (2, 1), (0, 2), (1, 0), (1, 2), (0, 2), (0, 1), (2, 1), (2, 0), (1, 0), (2, 1), (0, 2), (0, 1), (2, 1), (2, 0), (1, 0), (1, 2), (0, 2), (1, 0), (2, 1), (2, 0), (1, 0), (2, 1), (0, 2), (0, 1), (2, 1), (0, 2), (1, 0), (1, 2), (0, 2), (0, 1), (2, 1), (2, 0), (1, 0), (2, 1), (0, 2), (0, 1), (2, 1), (0, 2), (1, 0), (1, 2), (0, 2), (1, 0), (2, 1), (2, 0), (1, 0), (1, 2), (0, 2), (0, 1), (2, 1), (0, 2), (1, 0), (1, 2), (0, 2), (1, 0), (2, 1), (2, 0), (1, 0), (2, 1), (0, 2), (0, 1), (2, 1), (2, 0), (1, 0), (1, 2), (0, 2), (1, 0), (2, 1), (2, 0), (1, 0), (1, 2), (0, 2), (0, 1), (2, 1), (0, 2), (1, 0), (1, 2), (0, 2), (0, 1), (2, 1), (2, 0), (1, 0), (2, 1), (0, 2), (0, 1), (2, 1), (0, 2), (1, 0), (1, 2), (0, 2), (1, 0), (2, 1), (2, 0), (1, 0), (1, 2), (0, 2), (0, 1), (2, 1), (0, 2), (1, 0), (1, 2), (0, 2)]\n",
      "8388607\n"
     ]
    }
   ],
   "source": [
    "# Prueba tu algoritmo\n",
    "# Mover n discos debería resultar en (2^n -1) movimientos\n",
    "import numpy as np\n",
    "from itertools import permutations\n",
    "\n",
    "m=30 #maximo D possible, si se quiere un D mas grande se debe augmentar la m\n",
    "h = np.array([[None for x in range(6)] for y in range(m)])\n",
    "\n",
    "print(len(dynamic_hanoi2(3, H = h)))\n",
    "print(len(dynamic_hanoi2(4, H = h)))\n",
    "print(len(dynamic_hanoi2(5, H = h)))\n",
    "print(len(dynamic_hanoi2(6, H = h)))\n",
    "print(len(dynamic_hanoi2(7, H = h)))\n",
    "print(dynamic_hanoi2(7, H = h))\n",
    "print(len(dynamic_hanoi2(23, H =h)))"
   ]
  },
  {
   "cell_type": "markdown",
   "metadata": {},
   "source": [
    "<div class=\"alert alert-warning\" style=\"width:80%; margin:0 auto; padding\">\n",
    "<center><p><h3> Cuestiones</h3></p> </center> </div>"
   ]
  },
  {
   "cell_type": "markdown",
   "metadata": {},
   "source": [
    "<ul>\n",
    "    <li>Analiza la complejidad del algoritmo.</li>\n",
    "</ul>\n",
    "\n",
    "En el algoritmo recusivo calculamos todos los movimientos asi que su complejidad es de $O(2^n-1)$.\n",
    "Por otro lado con el algoritmo de programacion dinamica al guardar las operaciones realizadas y al\n",
    "haber 6 diferentes permutaciones de (0,1,2) para cada D tenemos que la complejidad es de $O(D-1)=O(D)$."
   ]
  }
 ],
 "metadata": {
  "kernelspec": {
   "display_name": "Python 3",
   "language": "python",
   "name": "python3"
  },
  "language_info": {
   "codemirror_mode": {
    "name": "ipython",
    "version": 3
   },
   "file_extension": ".py",
   "mimetype": "text/x-python",
   "name": "python",
   "nbconvert_exporter": "python",
   "pygments_lexer": "ipython3",
   "version": "3.6.8"
  }
 },
 "nbformat": 4,
 "nbformat_minor": 2
}
