{
 "cells": [
  {
   "cell_type": "markdown",
   "metadata": {},
   "source": [
    "<div style=\"padding:30px; color: white; background-color: #0071CD\">\n",
    "<center>\n",
    "<img src=\"img/logoub.jpeg\"></img>\n",
    "<center>\n",
    "<p>\n",
    "<h1>Algorítmica Avanzada</h1>\n",
    "<h2>Problemas 0 - Notación asintótica </h2>\n",
    "</center>\n",
    "</p>\n",
    "</div>"
   ]
  },
  {
   "cell_type": "markdown",
   "metadata": {},
   "source": [
    "## Notación"
   ]
  },
  {
   "cell_type": "markdown",
   "metadata": {},
   "source": [
    "A lo largo de este notebook veremos los conceptos básicos de notación asintótica que nos servirán para definir la complejidad de nuestros algoritmos.\n",
    "\n",
    "Para ello utilizaremos los siguientes símbolos\n",
    "\n",
    "- $\\Theta$ (Theta)\n",
    "- $O$, $o$ (Omicron)\n",
    "- $\\Omega$ (Omega)\n"
   ]
  },
  {
   "cell_type": "markdown",
   "metadata": {},
   "source": [
    "Pero, cómo definimos la complejidad de un algoritmo? Tienen los siguientes tres algoritmos la misma complejidad?"
   ]
  },
  {
   "cell_type": "code",
   "execution_count": 4,
   "metadata": {},
   "outputs": [
    {
     "name": "stdout",
     "output_type": "stream",
     "text": [
      "[29, 24, 25, 11]\n",
      "89\n",
      "712\n"
     ]
    }
   ],
   "source": [
    "def alga(i):\n",
    "    return i\n",
    "    \n",
    "def algb(i):     \n",
    "    total = 0    \n",
    "    for m in i:  \n",
    "        total+=m  \n",
    "    return total\n",
    "\n",
    "def algc(i):\n",
    "    total=0\n",
    "    for m in i:\n",
    "        for j in i:\n",
    "            total+=m+j\n",
    "    return total\n",
    "            \n",
    "            \n",
    "import random\n",
    "\n",
    "# Crea una lista de valores aleatorios\n",
    "_list = random.sample(range(30), 4)\n",
    "\n",
    "\n",
    "print(alga(_list))\n",
    "print(algb(_list))\n",
    "print(algc(_list))"
   ]
  },
  {
   "cell_type": "markdown",
   "metadata": {},
   "source": [
    "Comprobemos el tiempo de ejecución de cada uno de los algoritmos"
   ]
  },
  {
   "cell_type": "code",
   "execution_count": 6,
   "metadata": {},
   "outputs": [
    {
     "name": "stdout",
     "output_type": "stream",
     "text": [
      "79.5 ns ± 2.84 ns per loop (mean ± std. dev. of 7 runs, 10000000 loops each)\n",
      "222 ns ± 2.03 ns per loop (mean ± std. dev. of 7 runs, 1000000 loops each)\n",
      "1.04 µs ± 9.57 ns per loop (mean ± std. dev. of 7 runs, 1000000 loops each)\n"
     ]
    }
   ],
   "source": [
    "%timeit alga(_list)\n",
    "%timeit algb(_list)\n",
    "%timeit algc(_list)"
   ]
  },
  {
   "cell_type": "markdown",
   "metadata": {},
   "source": [
    "<div class=\"alert alert-warning\">\n",
    "<h1>Pregunta 1</h1>\n",
    "<p><strong>\n",
    "Qué complejidad tienen las funciones _alga_, _algb_ y _algc_ notándolas como $\\Theta, O, \\Omega$?\n",
    "</strong></p>\n",
    "<p>\n",
    "Recordatorio:\n",
    "<ul>\n",
    "<li>$o(n)$: Crecimiento menor a $n$</li>\n",
    "<li>$O(n)$: Crecimiento menor o igual a $n$</li>\n",
    "<li>$\\Theta(n)$: Crecimiento igual a $n$</li>\n",
    "<li>$\\Omega(n)$: Crecimiento igual o superior a $n$</li>\n",
    "</ul>\n",
    "</p>\n",
    "</div>"
   ]
  },
  {
   "cell_type": "markdown",
   "metadata": {},
   "source": [
    "#### 'alga'\n",
    "- $\\Theta(n)=1$\n",
    "- $O(n)=1$\n",
    "- $\\Omega(n)=1$\n",
    "\n",
    "#### 'algb'\n",
    "- $\\Theta(n)=n+2$\n",
    "- $O(n)=n$\n",
    "- $\\Omega(n)=n$\n",
    "\n",
    "#### 'algc'\n",
    "- $\\Theta(n)=n^2+2$\n",
    "- $O(n)=n^2$\n",
    "- $\\Omega(n)=n^2$"
   ]
  },
  {
   "cell_type": "code",
   "execution_count": 8,
   "metadata": {},
   "outputs": [
    {
     "data": {
      "text/plain": [
       "[5, 6, 7, 6, 7, 8, 7, 8, 9]"
      ]
     },
     "execution_count": 8,
     "metadata": {},
     "output_type": "execute_result"
    }
   ],
   "source": [
    "def sumapares(lista, listb):\n",
    "    listc = []\n",
    "    for x in lista:\n",
    "        for y in listb:\n",
    "            listc.append(x+y)\n",
    "    return listc\n",
    "\n",
    "sumapares([1,2,3],[4,5,6])"
   ]
  },
  {
   "cell_type": "markdown",
   "metadata": {},
   "source": [
    "<div class=\"alert alert-warning\">\n",
    "<h1>Pregunta 2</h1>\n",
    "<p><strong>\n",
    "Qué complejidad tiene la función $sumapares$?\n",
    "</strong></p>\n",
    "</div>"
   ]
  },
  {
   "cell_type": "markdown",
   "metadata": {},
   "source": [
    "$O(n,m)=n·m$"
   ]
  },
  {
   "cell_type": "markdown",
   "metadata": {},
   "source": [
    "## Orden de magnitud\n",
    "\n",
    "Normalmente las operaciones de coste constante $O(1)$ las menospreciamos y analizamos la complejidad en base al orden de magnitud, por lo que una función cuya complejidad exacta fuere $O(3x^2+6)$ la denotarmemos como $O(3x^2)$."
   ]
  },
  {
   "cell_type": "markdown",
   "metadata": {},
   "source": [
    "<div class=\"alert alert-danger\">\n",
    "<h1>Problema 1</h1>\n",
    "<p><strong>\n",
    "Implementa algoritmos que tengan las complejidades siguientes: <ul><li>$O(1)$</li><li>$O(n)$</li><li>$O(n^2)$</li><li>$O(log(n))$</li><li>$O(2^n)$</li><li>$O(n!)$</li></ul>\n",
    "\n",
    "</strong></p>\n",
    "<p><b>Nota: </b> Puedes cambiar la declaración de las funciones si lo consideras necesario.</p>\n",
    "</div>"
   ]
  },
  {
   "cell_type": "code",
   "execution_count": 18,
   "metadata": {},
   "outputs": [],
   "source": [
    "a=1000"
   ]
  },
  {
   "cell_type": "code",
   "execution_count": null,
   "metadata": {},
   "outputs": [],
   "source": [
    "def o(a):\n",
    "    return a"
   ]
  },
  {
   "cell_type": "code",
   "execution_count": null,
   "metadata": {},
   "outputs": [],
   "source": [
    "def on(a):\n",
    "    x=0\n",
    "    i for i in range(a):\n",
    "        x+=x\n",
    "    return x"
   ]
  },
  {
   "cell_type": "code",
   "execution_count": null,
   "metadata": {},
   "outputs": [],
   "source": [
    "def onsquare(a):\n",
    "    x=0\n",
    "    for i in range(a):\n",
    "        for j in range(a):\n",
    "            x+=x\n",
    "    return x"
   ]
  },
  {
   "cell_type": "code",
   "execution_count": 15,
   "metadata": {},
   "outputs": [
    {
     "data": {
      "text/plain": [
       "365"
      ]
     },
     "execution_count": 15,
     "metadata": {},
     "output_type": "execute_result"
    }
   ],
   "source": [
    "import random\n",
    "from math import floor\n",
    "\n",
    "def ologn(A,T):\n",
    "    L = 0\n",
    "    R = len(A) - 1\n",
    "    while L <= R:\n",
    "        m = floor((L + R) / 2)\n",
    "        if A[m] < T:\n",
    "            L = m + 1\n",
    "        elif A[m]>T:\n",
    "            R = m - 1\n",
    "        else:\n",
    "            return m\n",
    "    return unsuccessful\n",
    "\n",
    "A = [i for i in range(a)]\n",
    "\n",
    "ologn(A, random.randint(0, a))"
   ]
  },
  {
   "cell_type": "code",
   "execution_count": 4,
   "metadata": {},
   "outputs": [
    {
     "data": {
      "text/plain": [
       "[3, 3, 17, 15287, 22307, 17093399]"
      ]
     },
     "execution_count": 4,
     "metadata": {},
     "output_type": "execute_result"
    }
   ],
   "source": [
    "def oexpn(a):\n",
    "    i = 2\n",
    "    factors = []\n",
    "    while i * i <= a:\n",
    "        if a % i:\n",
    "            i += 1\n",
    "        else:\n",
    "            a //= i\n",
    "            factors.append(i)\n",
    "    if a > 1:\n",
    "        factors.append(a)\n",
    "    return factors\n",
    "\n",
    "oexpn(891832498123944123)"
   ]
  },
  {
   "cell_type": "code",
   "execution_count": 5,
   "metadata": {},
   "outputs": [
    {
     "name": "stdout",
     "output_type": "stream",
     "text": [
      "3.95 µs ± 122 ns per loop (mean ± std. dev. of 7 runs, 100000 loops each)\n",
      "16 µs ± 103 ns per loop (mean ± std. dev. of 7 runs, 100000 loops each)\n"
     ]
    }
   ],
   "source": [
    "def onfact(a):\n",
    "    if a==0:\n",
    "        return\n",
    "    else:\n",
    "        for i in range(a):\n",
    "            onfact(a-1)\n",
    "    return a\n",
    "\n",
    "%timeit onfact(3)\n",
    "%timeit onfact(4)"
   ]
  },
  {
   "cell_type": "markdown",
   "metadata": {},
   "source": [
    "<div class=\"alert alert-warning\">\n",
    "<h1>Pregunta 3</h1>\n",
    "<p><strong>\n",
    "Evalua la complejidad exacta de cada uno de los algoritmos anteriores\n",
    "</strong></p>\n",
    "</div>"
   ]
  },
  {
   "cell_type": "markdown",
   "metadata": {},
   "source": [
    "#### 'o(a)':\n",
    "- $\\Theta(n)=1$\n",
    "\n",
    "#### 'on(a)':\n",
    "- $\\Theta(n)=n+2$\n",
    "\n",
    "#### 'osquare(a)':\n",
    "- $\\Theta(n)=n^2+2$\n",
    "\n",
    "#### 'ologn(a)':\n",
    "- No podemos determinar la complejidad exactamente\n",
    "\n",
    "#### 'oexp(a)':\n",
    "- No podemos determinar su complejidad exacta porque esta depende del entero dado, por ejemplo $239812014798221=15485863*15485867$ es mucho mas costoso de factorizar que $2^{64}=18446744073709551616$ aunque el segundo sea mucho mas grande. Pero para un $n\\in\\mathbb{N}$ arbitrario la complejidad augmenta exponencialmente.\n",
    "\n",
    "#### 'onfact(a)':\n",
    "- $\\Theta(n)=n!$"
   ]
  },
  {
   "cell_type": "markdown",
   "metadata": {},
   "source": [
    "## Un ejemplo gráfico..."
   ]
  },
  {
   "cell_type": "code",
   "execution_count": 6,
   "metadata": {},
   "outputs": [
    {
     "data": {
      "image/png": "[encoded data removed]",
      "text/plain": [
       "<Figure size 720x432 with 1 Axes>"
      ]
     },
     "metadata": {
      "needs_background": "light"
     },
     "output_type": "display_data"
    }
   ],
   "source": [
    "# En este apartado mostramos las gráficas de las diferentes funciones\n",
    "import matplotlib.pyplot as plt\n",
    "import numpy as np\n",
    "\n",
    "%matplotlib inline\n",
    "\n",
    "lin = np.linspace(0.1,10,100)\n",
    "plt.figure(figsize=(10,6))\n",
    "plt.title('Complejidades lineales y logaritmicas')\n",
    "plt.plot(np.log(lin),label='O(log(n))')\n",
    "plt.plot(lin*np.log(lin),label='O(n*log(n))')\n",
    "plt.plot(lin, linewidth=2, label='O(n)')\n",
    "plt.legend()\n",
    "plt.plot()\n",
    "plt.ylim(-1,10)\n",
    "plt.xticks([])\n",
    "plt.draw()"
   ]
  },
  {
   "cell_type": "code",
   "execution_count": 7,
   "metadata": {},
   "outputs": [
    {
     "data": {
      "image/png": "[encoded data removed]",
      "text/plain": [
       "<Figure size 720x432 with 1 Axes>"
      ]
     },
     "metadata": {
      "needs_background": "light"
     },
     "output_type": "display_data"
    }
   ],
   "source": [
    "import matplotlib.pyplot as plt\n",
    "import numpy as np\n",
    "\n",
    "%matplotlib inline\n",
    "\n",
    "lin = np.linspace(0.1,20,500)\n",
    "plt.figure(figsize=(10,6))\n",
    "plt.title('Complejidades potenciales y exponenciales')\n",
    "plt.plot(lin**3,label='O(n^3)')\n",
    "plt.plot(lin**2,label='O(n^2)')\n",
    "plt.plot(2**lin, label='O(2^n)')\n",
    "plt.legend()\n",
    "plt.plot()\n",
    "plt.ylim(-1,5000)\n",
    "plt.xticks([])\n",
    "plt.draw()"
   ]
  },
  {
   "cell_type": "markdown",
   "metadata": {},
   "source": [
    "<div class=\"alert alert-danger\">\n",
    "<h1>Problema 2</h1>\n",
    "<p><strong>\n",
    "Implementa un algoritmo de ordenación que tenga complejidad $O(n^2)$\n",
    "</strong></p>\n",
    "</div>"
   ]
  },
  {
   "cell_type": "code",
   "execution_count": 6,
   "metadata": {},
   "outputs": [],
   "source": [
    "import random\n",
    "\n",
    "def ordenacion1(arr):\n",
    "    for i in range(1, len(arr)): \n",
    "  \n",
    "        key = arr[i]\n",
    "\n",
    "        j = i-1\n",
    "        while j >=0 and key < arr[j] : \n",
    "                arr[j+1] = arr[j] \n",
    "                j -= 1\n",
    "        arr[j+1] = key\n"
   ]
  },
  {
   "cell_type": "markdown",
   "metadata": {},
   "source": [
    "<div class=\"alert alert-danger\">\n",
    "<h1>Problema 3</h1>\n",
    "<p><strong>\n",
    "    Implementa un algoritmo de ordenación que tenga complejidad $O(n\\log(n))$\n",
    "</strong></p>\n",
    "</div>"
   ]
  },
  {
   "cell_type": "code",
   "execution_count": 7,
   "metadata": {
    "scrolled": true
   },
   "outputs": [],
   "source": [
    "def ordenacion2(arr,low,high):\n",
    "    \n",
    "    if low < high: \n",
    "        pi = partition(arr,low,high) \n",
    "        ordenacion2(arr, low, pi-1) \n",
    "        ordenacion2(arr, pi+1, high)\n",
    "        \n",
    "    return arr\n",
    "\n",
    "def partition(arr,low,high):\n",
    "    i = low        \n",
    "    pivot = arr[high]     \n",
    "  \n",
    "    for j in range(low , high+1): \n",
    "        if arr[j] < pivot:\n",
    "            aux = arr[i]\n",
    "            arr[i] = arr[j]\n",
    "            arr[j] = aux\n",
    "            i += 1\n",
    "  \n",
    "    _aux = arr[i]\n",
    "    arr[i] = arr[high]\n",
    "    arr[high] = _aux \n",
    "    \n",
    "    return i\n",
    "\n",
    "arr = random.sample(range(10000), 100)\n",
    "n = len(arr)-1 "
   ]
  },
  {
   "cell_type": "markdown",
   "metadata": {},
   "source": [
    "<h3>Pon a prueba tus algoritmos</h3>\n",
    "<p>\n",
    "    El siguiente bloque de código ejecutará y medirá el coste de los dos algoritmos de ordenación que acabas de implementar. Las pruebas se harán para listas de tamaño creciente de longitud de 1 a #num_tests (por defecto 1000). Puede tardar un poco, si no termina puedes bajar la cantidad de tests. Si está todo bien deberías poder observar un coste creciente cuadrático en el caso $O(n^2)$ y un crecimiento logarítmico escaso en el caso de $O(n\\log(n))$.\n",
    "</p>"
   ]
  },
  {
   "cell_type": "code",
   "execution_count": 10,
   "metadata": {},
   "outputs": [
    {
     "data": {
      "image/png": "[encoded data removed]",
      "text/plain": [
       "<Figure size 720x432 with 1 Axes>"
      ]
     },
     "metadata": {
      "needs_background": "light"
     },
     "output_type": "display_data"
    }
   ],
   "source": [
    "from utils import generate_corpus\n",
    "import time\n",
    "import matplotlib.pyplot as plt\n",
    "import numpy as np\n",
    "\n",
    "%matplotlib inline\n",
    "\n",
    "num_tests = 1000\n",
    "\n",
    "all_lists = generate_corpus(num_tests)\n",
    "time_costs_ordenacion1 = [0]*num_tests\n",
    "time_costs_ordenacion2 = [0]*num_tests\n",
    "\n",
    "for test in range(num_tests):\n",
    "    # Test ordenacion1\n",
    "    start_time = time.time()\n",
    "    ordenacion1(all_lists[test])\n",
    "    time_costs_ordenacion1[test] = (time.time() - start_time)\n",
    "    \n",
    "    # Test ordenacion2\n",
    "    start_time = time.time()\n",
    "    ordenacion2(all_lists[test], 0, len(all_lists[test])-1)\n",
    "    time_costs_ordenacion2[test] = (time.time() - start_time) \n",
    "\n",
    "plt.figure(figsize=(10,6))\n",
    "plt.title('Comparativa costes ordenacion')\n",
    "plt.plot(time_costs_ordenacion1,label='O(n^2)')\n",
    "plt.plot(time_costs_ordenacion2,label='O(nlog(n))')\n",
    "plt.legend()\n",
    "plt.plot()\n",
    "plt.draw()"
   ]
  },
  {
   "cell_type": "markdown",
   "metadata": {},
   "source": [
    "## Algoritmos recursivos: Master Theorem\n",
    "\n",
    "El teorema master ayuda a definir las complejidades de los algoritmos que utilizan estratégias Divide and Conquer. Dicho de otra forma, nos ayuda a analizar la complejidad para los algoritmos recursivos.\n",
    "\n",
    "Siendo $T(n)$ la complejidad del algoritmo, $f(n)$ la complejidad del caso base, $a$ el número de subproblemas a cada nivel de recursión y $b$ el factor por el que dividimos la entrada, denotamos la complejidad de un algoritmo recursivo como:\n",
    "\n",
    "$$\n",
    "T(n) = aT\\big(\\frac{n}{b}\\big)+f(n)\n",
    "$$\n",
    "\n",
    "Si notamos la función $f(x)$ en base a su complejidad de la forma $O(n^d)$ obtenemos:\n",
    "\n",
    "$$\n",
    "T(n) = aT\\big(\\frac{n}{b}\\big)+O(n)\n",
    "$$\n",
    "\n",
    "Y según el teorema masters podemos afirmar que:\n",
    "\n",
    "\\begin{equation*}\n",
    "T(n)=O(n^d) \\quad \\textrm{if}\\: d>log_b a\\\\\n",
    "T(n)=O(n^d\\log n) \\quad \\textrm{if}\\: d=log_b a\\\\\n",
    "T(n)=O(n^{\\log_b{a}}) \\quad \\textrm{if}\\: d<log_b a\n",
    "\\end{equation*}"
   ]
  },
  {
   "cell_type": "markdown",
   "metadata": {},
   "source": [
    "<div class=\"alert alert-warning\">\n",
    "<h1>Pregunta 4</h1>\n",
    "<p><strong>\n",
    "Analiza la complejidad en la siguiente función:\n",
    "</strong></p>\n",
    "</div>"
   ]
  },
  {
   "cell_type": "code",
   "execution_count": 20,
   "metadata": {},
   "outputs": [
    {
     "data": {
      "text/plain": [
       "[6, 4, 10, 8, 5, 3, 2, 1]"
      ]
     },
     "execution_count": 20,
     "metadata": {},
     "output_type": "execute_result"
    }
   ],
   "source": [
    "def reverse2n(lista):\n",
    "    if len(lista)%2!=0:\n",
    "        return \"jaja salu2\"\n",
    "    \n",
    "    if len(lista) == 2:\n",
    "        return [lista[1], lista[0]]\n",
    "    else:\n",
    "        p = int(len(lista)/2)\n",
    "        return reverse2n(lista[p:]) + reverse2n(lista[:p])\n",
    "\n",
    "reverse2n([1,2,3,5,8,10,4,6])"
   ]
  },
  {
   "cell_type": "markdown",
   "metadata": {},
   "source": [
    "En este caso tenemos que $a=2$, dado que reducimos nustro problema de girar toda la lista, a dos subproblemas de giar la segunda mitad de la lista i despues la primera. I como dividimos la lista entre dos en cada subproblema tenemos que $b=2$. ($\\log_2 2 =1$)\n",
    "\n",
    "El caso base es dados dos elementos girarlos, que es de orden de complejidad $f(n)=O(1)$ por tanto $d=0<\\log_2(2)=1$, por tanto nos queda que $T(n)=O(n^{\\log_b a})=O(n)$"
   ]
  },
  {
   "cell_type": "markdown",
   "metadata": {
    "collapsed": true
   },
   "source": [
    "<div class=\"alert alert-success\">\n",
    "<h1>Extra 1</h1>\n",
    "<p><strong>\n",
    "Implementa dos algoritmos que busquen un nombre concreto en un listín telefónico y devuelvan su número. Uno con coste $O(n)$ y otro con $O(\\log n)$. En caso de no encontrar el nombre, devolver -1.\n",
    "</strong></p>\n",
    "</div>"
   ]
  },
  {
   "cell_type": "code",
   "execution_count": 47,
   "metadata": {},
   "outputs": [],
   "source": [
    "def search(listin,name):\n",
    "    for i in listin:\n",
    "        if i[0]==name:\n",
    "            return i[1]\n",
    "        \n",
    "from math import floor\n",
    "\n",
    "def search_log(lista,num):\n",
    "    n = len(lista)\n",
    "    L = 0\n",
    "    R = n-1\n",
    "    while L <= R:\n",
    "        m = floor((L+R)/2)\n",
    "        if lista[m][0] < num:\n",
    "            L = m+1\n",
    "        elif lista[m][0] > num:\n",
    "            R= m-1\n",
    "        else:\n",
    "            return lista[m][1]\n",
    "    return unsuccesfull"
   ]
  },
  {
   "cell_type": "code",
   "execution_count": 48,
   "metadata": {},
   "outputs": [
    {
     "name": "stdout",
     "output_type": "stream",
     "text": [
      "True\n",
      "True\n"
     ]
    }
   ],
   "source": [
    "listin = [('Abdon', 938906293), ('Alejo', 935198770), ('Anna', 931621906), ('Arturo', 938806195), ('Baldomero', 930964092), ('Benjamin', 934354128), ('Cayetano', 931005100), ('Clotilde', 932242962), ('Eduardo', 934005954), ('Eugenio', 931748905), ('Fabian', 938021389), ('Fermin', 939101910), ('Fernando', 940649340), ('Guillermo', 934387595), ('Jacobo', 934210458), ('Josep', 940820109), ('Leonor', 930434129), ('Lucrecia', 934411771), ('Manuel', 933697107), ('Marcelino', 936305412), ('Mohamed', 930600723), ('Nicolas', 936020020), ('Oscar', 940094360), ('Petronila', 936016855), ('Reinaldo', 939455199), ('Rodrigo', 937957205), ('Ruben', 938853772), ('Simeon', 938687016), ('Simeon', 931726372), ('Tarsicio', 934346208), ('Victorino', 939555230)]\n",
    "print(search(listin,'Petronila')==936016855)\n",
    "print(search_log(listin,'Jacobo')==934210458)"
   ]
  },
  {
   "cell_type": "markdown",
   "metadata": {},
   "source": [
    "<div class=\"alert alert-success\">\n",
    "<h1>Extra 2</h1>\n",
    "<p><strong>\n",
    "Implementa el calculo de la serie de fibonacci para un número en concreto de forma recursiva y analiza su complejidad.\n",
    "</strong></p>\n",
    "</div>"
   ]
  },
  {
   "cell_type": "code",
   "execution_count": 61,
   "metadata": {},
   "outputs": [
    {
     "data": {
      "text/plain": [
       "55"
      ]
     },
     "execution_count": 61,
     "metadata": {},
     "output_type": "execute_result"
    }
   ],
   "source": [
    "def fiborec(n):\n",
    "    if n < 1:\n",
    "        return \"Natrual number pls\"\n",
    "    if n <= 2:\n",
    "        return 1\n",
    "    else:\n",
    "        return fiborec(n-1)+fiborec(n-2)\n",
    "\n",
    "fiborec(10)"
   ]
  },
  {
   "cell_type": "markdown",
   "metadata": {},
   "source": [
    "La complejidad de este algoritmo es $O(2^n)$"
   ]
  }
 ],
 "metadata": {
  "kernelspec": {
   "display_name": "Python 3",
   "language": "python",
   "name": "python3"
  },
  "language_info": {
   "codemirror_mode": {
    "name": "ipython",
    "version": 3
   },
   "file_extension": ".py",
   "mimetype": "text/x-python",
   "name": "python",
   "nbconvert_exporter": "python",
   "pygments_lexer": "ipython3",
   "version": "3.6.8"
  }
 },
 "nbformat": 4,
 "nbformat_minor": 1
}
