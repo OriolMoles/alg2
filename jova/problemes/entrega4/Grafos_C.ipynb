{
 "cells": [
  {
   "cell_type": "markdown",
   "metadata": {},
   "source": [
    "<div style=\"padding:30px; color: white; background-color: #0071CD\">\n",
    "<center>\n",
    "<img src=\"img/logoub.jpeg\">\n",
    "<center>\n",
    "<p>\n",
    "<h1>Algorítmica Avanzada</h1>\n",
    "<h2>Problemas 1.C - Grafos </h2>\n",
    "</center>\n",
    "</p>\n",
    "</div>"
   ]
  },
  {
   "cell_type": "markdown",
   "metadata": {},
   "source": [
    "\n",
    "<div class=\"alert alert-success\" style=\"width:90%; margin:0 auto;\">\n",
    "  <h2><p>0 - Detección de ciclos</p></h2>\n",
    "  \n",
    "  <p>\n",
    "  En este ejercicio deberéis implementar un algoritmo capaz de detectar si un grafo cualquiera contiene ciclos.\n",
    "  </p>\n"
   ]
  },
  {
   "cell_type": "markdown",
   "metadata": {},
   "source": [
    "<div class=\"alert alert-danger\" style=\"width:80%; margin:0 auto; padding\">\n",
    "<center><p><h3> Código </h3></p> </center> \n",
    "\n",
    "<p>\n",
    "<h3>INPUT</h3>\n",
    "<ul>\n",
    "<li>__G__: Este es el grafo que utilizaremos para buscar ciclos.</li>\n",
    "</ul>\n",
    "<br>\n",
    "<h3>OUTPUT</h3>\n",
    "<ul>\n",
    "<li>__ _'TF'_ __: Booleano indicando si el grafo de entrada contiene algún ciclo.</li>\n",
    "<ul>\n",
    "\n",
    "</p>\n",
    "\n",
    "</div>"
   ]
  },
  {
   "cell_type": "code",
   "execution_count": 123,
   "metadata": {},
   "outputs": [],
   "source": [
    "import networkx as nx\n",
    "\n",
    "def cycles(G):\n",
    "    \n",
    "    discovered= set()\n",
    "    S=list()\n",
    "    S.append(0)\n",
    "    \n",
    "    G.node[0]['parents']=[]\n",
    "    \n",
    "    while len(S)!=0:\n",
    "        actual_node=S.pop()\n",
    "        \n",
    "        if actual_node not in discovered:\n",
    "            discovered.add(actual_node)\n",
    "            for neighbor_node in list(G.adj[actual_node]):\n",
    "                if neighbor_node in G.node[actual_node]['parents'] and neighbor_node!=G.node[actual_node]['parents'][len(G.node[actual_node]['parents'])-1]:\n",
    "                    return True\n",
    "                \n",
    "                S.append(neighbor_node)                \n",
    "                if [x for x in G.node[neighbor_node] if x=='parents']!=['parents']:\n",
    "                    G.node[neighbor_node]['parents']=G.node[actual_node]['parents'].copy()\n",
    "                G.node[neighbor_node]['parents'].append(actual_node)\n",
    "                \n",
    "    return False"
   ]
  },
  {
   "cell_type": "code",
   "execution_count": 124,
   "metadata": {},
   "outputs": [
    {
     "name": "stdout",
     "output_type": "stream",
     "text": [
      "0 49\n"
     ]
    },
    {
     "data": {
      "text/plain": [
       "True"
      ]
     },
     "execution_count": 124,
     "metadata": {},
     "output_type": "execute_result"
    }
   ],
   "source": [
    "%matplotlib inline\n",
    "from utils import draw\n",
    "G = nx.generators.barabasi_albert_graph(100, 2)\n",
    "cycles(G)"
   ]
  },
  {
   "cell_type": "markdown",
   "metadata": {},
   "source": [
    "<div class=\"alert alert-success\" style=\"width:90%; margin:0 auto;\">\n",
    "  <h2><p>1 - Circuito Euleriano</p></h2>\n",
    "  <p>\n",
    "  Se define como circuito euleriano aquel que pasa por todas las aristas de un grafo una única vez y que acaba en el mismo lugar en el que empieza. El problema de los caminos eulerianos fué la base de toda la teoría de grafos y fué postulado por Lehonard Euler en el famoso problema de __los siete puentes de Königsberg__. En este problema Euler se preguntaba si podía acabar en el mismo sitio tras cruzar todos los puentes una sola vez.\n",
    "  </p>\n",
    "  <img src=\"img/konigsberg.jpg\"></img>\n",
    "  <p>\n",
    "  En este ejercicio se os propone implementar un algoritmo que, dado un grafo _G_ encuentre un camino euleriano.\n",
    "  </p>"
   ]
  },
  {
   "cell_type": "markdown",
   "metadata": {},
   "source": [
    "<div class=\"alert alert-danger\" style=\"width:80%; margin:0 auto; padding\">\n",
    "<center><p><h3> Código </h3></p> </center> \n",
    "\n",
    "<p>\n",
    "<h3>INPUT</h3>\n",
    "<ul>\n",
    "<li>__G__: Objeto de tipo grafo sobre el cual queremos encontrar el circuito Euleriano.</li>\n",
    "</ul>\n",
    "<br>\n",
    "<h3>OUTPUT</h3>\n",
    "<ul>\n",
    "<li>__ _nodelist_ __: Una lista de nodos ordenados que formarían el circuito.</li>\n",
    "<ul>\n",
    "\n",
    "</p>\n",
    "\n",
    "</div>"
   ]
  },
  {
   "cell_type": "code",
   "execution_count": 157,
   "metadata": {},
   "outputs": [],
   "source": [
    "def cycle(G, v, discovered, path, i):\n",
    "    S_v=list()\n",
    "    S_v.append(v)\n",
    "    \n",
    "    count=0\n",
    "    \n",
    "    while len(S_v)!=0:\n",
    "        actual_node=S_v.pop()\n",
    "        path.insert(i+count, actual_node)\n",
    "        count+=1\n",
    "        \n",
    "        #Check that the vertex have even degree,\n",
    "        #because that all of them have it it's a\n",
    "        #necessary and sufucient condition to ensure\n",
    "        #that the graph has an Eureler cycle\n",
    "        if G.degree[actual_node]%2==1:\n",
    "            return 1\n",
    "        \n",
    "        if actual_node not in discovered:\n",
    "            discovered.add(actual_node)\n",
    "            \n",
    "            for neighbor_node in list(G.adj[actual_node]):\n",
    "                if neighbor_node == v:\n",
    "                    if v!=G.node[actual_node]['parent']:\n",
    "                        return 0\n",
    "                    \n",
    "                if neighbor_node not in discovered:\n",
    "                    S_v.append(neighbor_node)\n",
    "                    G.node[neighbor_node]['parent']=actual_node\n",
    "    \n",
    "    return 2\n",
    "\n",
    "def euler(G):\n",
    "    discovered=set()\n",
    "    path=[]\n",
    "    \n",
    "    ctrl=cycle(G,0,discovered, path, 0)\n",
    "    if ctrl!=0:\n",
    "        print(0)\n",
    "        return 'Error'\n",
    "    \n",
    "    while len(discovered)!=len(list(G.nodes)):\n",
    "        for node in path:\n",
    "            for new_node in list(G.adj[node]):\n",
    "                if new_node not in discovered:\n",
    "                    ctrl=cycle(G,new_node,discovered, path, path.index(node)+1)\n",
    "                    if ctrl!=0:\n",
    "                        print(node)\n",
    "                        return 'Error'\n",
    "    \n",
    "    return path\n",
    "                    \n",
    "                    \n",
    "    \n",
    "    "
   ]
  },
  {
   "cell_type": "code",
   "execution_count": 168,
   "metadata": {},
   "outputs": [
    {
     "name": "stdout",
     "output_type": "stream",
     "text": [
      "[]\n",
      "[0, 3, 1, 2]\n"
     ]
    },
    {
     "name": "stderr",
     "output_type": "stream",
     "text": [
      "/home/m315/.local/lib/python3.6/site-packages/networkx/drawing/nx_pylab.py:579: MatplotlibDeprecationWarning: \n",
      "The iterable function was deprecated in Matplotlib 3.1 and will be removed in 3.3. Use np.iterable instead.\n",
      "  if not cb.iterable(width):\n"
     ]
    },
    {
     "data": {
      "text/plain": [
       "[0, 3, 1, 2]"
      ]
     },
     "execution_count": 168,
     "metadata": {},
     "output_type": "execute_result"
    },
    {
     "data": {
      "image/png": "[encoded data removed]",
      "text/plain": [
       "<Figure size 504x504 with 1 Axes>"
      ]
     },
     "metadata": {},
     "output_type": "display_data"
    }
   ],
   "source": [
    "%matplotlib inline\n",
    "from utils import draw\n",
    "G = nx.generators.barabasi_albert_graph(4, 2)\n",
    "draw(G)\n",
    "euler(G)"
   ]
  },
  {
   "cell_type": "markdown",
   "metadata": {},
   "source": [
    "<div class=\"alert alert-warning\">\n",
    "<h1>Pregunta</h1>\n",
    "<p><strong>\n",
    "¿Qué condiciones se deben de cumplir para que un grafo cualquiera contenga un camino euleriano? Demuéstralo.\n",
    "</strong></p>\n",
    "</div>"
   ]
  },
  {
   "cell_type": "markdown",
   "metadata": {},
   "source": [
    "Un grafo no dirigido $G$ tiene un camino Euclidiano si i solo si contiene exactamente zero o dos nodos con grado impar, i todos los nodos con grado no nulo percenecen a la misma componente conexa.\n",
    "\n",
    "$\\textit{Demostracion:}$\n",
    "    $\\Rightarrow ]$asdf"
   ]
  },
  {
   "cell_type": "markdown",
   "metadata": {},
   "source": [
    "<div class=\"alert alert-warning\">\n",
    "<h1>Extra</h1>\n",
    "<p><strong>\n",
    "Además de circuitos Eulerianos, definimos caminos Eulerianos aquellos que recorren todas las aristas de un grafo sin repetirlas, pero no termina en el mismo nodo que empieza. Modifica el algoritmo anterior para que sea capaz de detectar si el grafo contiene un ciclo o un camino Euleriano, y devuelva la lista de nodos ordenados que componen dicho ciclo o camino. Tened en cuenta que son casos excluyentes.\n",
    "</strong></p>\n",
    "</div>"
   ]
  }
 ],
 "metadata": {
  "kernelspec": {
   "display_name": "Python 3",
   "language": "python",
   "name": "python3"
  },
  "language_info": {
   "codemirror_mode": {
    "name": "ipython",
    "version": 3
   },
   "file_extension": ".py",
   "mimetype": "text/x-python",
   "name": "python",
   "nbconvert_exporter": "python",
   "pygments_lexer": "ipython3",
   "version": "3.6.8"
  }
 },
 "nbformat": 4,
 "nbformat_minor": 2
}
