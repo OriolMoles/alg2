{
 "cells": [
  {
   "cell_type": "markdown",
   "metadata": {},
   "source": [
    "<div style=\"padding:30px; color: white; background-color: #0071CD\">\n",
    "<center>\n",
    "<img src=\"img/logoub.jpeg\">\n",
    "<center>\n",
    "<p>\n",
    "<h1>Algorítmica Avanzada</h1>\n",
    "<h2>Problemas 1.C - Grafos </h2>\n",
    "</center>\n",
    "</p>\n",
    "</div>"
   ]
  },
  {
   "cell_type": "markdown",
   "metadata": {},
   "source": [
    "\n",
    "<div class=\"alert alert-success\" style=\"width:90%; margin:0 auto;\">\n",
    "  <h2><p>0 - Detección de ciclos</p></h2>\n",
    "  \n",
    "  <p>\n",
    "  En este ejercicio deberéis implementar un algoritmo capaz de detectar si un grafo cualquiera contiene ciclos.\n",
    "  </p>\n"
   ]
  },
  {
   "cell_type": "markdown",
   "metadata": {},
   "source": [
    "<div class=\"alert alert-danger\" style=\"width:80%; margin:0 auto; padding\">\n",
    "<center><p><h3> Código </h3></p> </center> \n",
    "\n",
    "<p>\n",
    "<h3>INPUT</h3>\n",
    "<ul>\n",
    "<li>__G__: Este es el grafo que utilizaremos para buscar ciclos.</li>\n",
    "</ul>\n",
    "<br>\n",
    "<h3>OUTPUT</h3>\n",
    "<ul>\n",
    "<li>__ _'TF'_ __: Booleano indicando si el grafo de entrada contiene algún ciclo.</li>\n",
    "<ul>\n",
    "\n",
    "</p>\n",
    "\n",
    "</div>"
   ]
  },
  {
   "cell_type": "code",
   "execution_count": 6,
   "metadata": {},
   "outputs": [],
   "source": [
    "import networkx as nx\n",
    "\n",
    "def cycles(G):\n",
    "    \n",
    "    discovered= set()\n",
    "    S=list()\n",
    "    S.append(0)\n",
    "    \n",
    "    G.node[0]['parents']=[]\n",
    "    \n",
    "    while len(S)!=0:\n",
    "        actual_node=S.pop()\n",
    "        \n",
    "        if actual_node not in discovered:\n",
    "            discovered.add(actual_node)\n",
    "            for neighbor_node in list(G.adj[actual_node]):\n",
    "                if neighbor_node in G.node[actual_node]['parents'] and neighbor_node!=G.node[actual_node]['parents'][len(G.node[actual_node]['parents'])-1]:\n",
    "                    return True\n",
    "                \n",
    "                S.append(neighbor_node)                \n",
    "                if [x for x in G.node[neighbor_node] if x=='parents']!=['parents']:\n",
    "                    G.node[neighbor_node]['parents']=G.node[actual_node]['parents'].copy()\n",
    "                G.node[neighbor_node]['parents'].append(actual_node)\n",
    "                \n",
    "    return False"
   ]
  },
  {
   "cell_type": "code",
   "execution_count": 7,
   "metadata": {},
   "outputs": [
    {
     "data": {
      "text/plain": [
       "True"
      ]
     },
     "execution_count": 7,
     "metadata": {},
     "output_type": "execute_result"
    }
   ],
   "source": [
    "%matplotlib inline\n",
    "from utils import draw\n",
    "G = nx.generators.barabasi_albert_graph(100, 2)\n",
    "cycles(G)"
   ]
  },
  {
   "cell_type": "markdown",
   "metadata": {},
   "source": [
    "<div class=\"alert alert-success\" style=\"width:90%; margin:0 auto;\">\n",
    "  <h2><p>1 - Circuito Euleriano</p></h2>\n",
    "  <p>\n",
    "  Se define como circuito euleriano aquel que pasa por todas las aristas de un grafo una única vez y que acaba en el mismo lugar en el que empieza. El problema de los caminos eulerianos fué la base de toda la teoría de grafos y fué postulado por Lehonard Euler en el famoso problema de __los siete puentes de Königsberg__. En este problema Euler se preguntaba si podía acabar en el mismo sitio tras cruzar todos los puentes una sola vez.\n",
    "  </p>\n",
    "  <img src=\"img/konigsberg.jpg\"></img>\n",
    "  <p>\n",
    "  En este ejercicio se os propone implementar un algoritmo que, dado un grafo _G_ encuentre un camino euleriano.\n",
    "  </p>"
   ]
  },
  {
   "cell_type": "markdown",
   "metadata": {},
   "source": [
    "<div class=\"alert alert-danger\" style=\"width:80%; margin:0 auto; padding\">\n",
    "<center><p><h3> Código </h3></p> </center> \n",
    "\n",
    "<p>\n",
    "<h3>INPUT</h3>\n",
    "<ul>\n",
    "<li>__G__: Objeto de tipo grafo sobre el cual queremos encontrar el circuito Euleriano.</li>\n",
    "</ul>\n",
    "<br>\n",
    "<h3>OUTPUT</h3>\n",
    "<ul>\n",
    "<li>__ _nodelist_ __: Una lista de nodos ordenados que formarían el circuito.</li>\n",
    "<ul>\n",
    "\n",
    "</p>\n",
    "\n",
    "</div>"
   ]
  },
  {
   "cell_type": "code",
   "execution_count": 70,
   "metadata": {},
   "outputs": [],
   "source": [
    "def cycle(G, v, discovered, path, i):\n",
    "    S_v=list()\n",
    "    S_v.append(v)\n",
    "    \n",
    "    count=0\n",
    "    \n",
    "    while len(S_v)!=0:\n",
    "        actual_node=S_v.pop()\n",
    "        path.insert(i+count, actual_node)\n",
    "        count+=1\n",
    "        \n",
    "        #Check that the vertex have even degree,\n",
    "        #because that all of them have it it's a\n",
    "        #necessary and sufucient condition to ensure\n",
    "        #that the graph has an Eureler cycle\n",
    "        if G.degree[actual_node]%2==1:\n",
    "            return 1\n",
    "        \n",
    "        if actual_node not in discovered or actual_node==v:\n",
    "            discovered.add(actual_node)\n",
    "            \n",
    "            for neighbor_node in list(G.adj[actual_node]):\n",
    "                if neighbor_node == v:\n",
    "                    if v!=G.node[actual_node]['parent']:\n",
    "                        return 0\n",
    "                    \n",
    "                if neighbor_node not in discovered:\n",
    "                    S_v.append(neighbor_node)\n",
    "                    G.node[neighbor_node]['parent']=actual_node\n",
    "    \n",
    "    return 2\n",
    "\n",
    "def euler(G):\n",
    "    discovered=set()\n",
    "    path=[]\n",
    "    \n",
    "    ctrl=cycle(G,0,discovered, path, 0)\n",
    "    if ctrl!=0:\n",
    "        print(0)\n",
    "        return 'Error: Not an Eulerian graph'\n",
    "    \n",
    "    while len(discovered)!=len(list(G.nodes)):\n",
    "        for node in path:\n",
    "            for new_node in list(G.adj[node]):\n",
    "                if new_node not in discovered:\n",
    "                    ctrl=cycle(G,node,discovered, path, path.index(node))\n",
    "                    if ctrl!=0:\n",
    "                        return 'Error: Not an Eulerian graph'\n",
    "    \n",
    "    return path\n",
    "                    \n",
    "                    \n",
    "    \n",
    "    "
   ]
  },
  {
   "cell_type": "code",
   "execution_count": 71,
   "metadata": {},
   "outputs": [
    {
     "name": "stderr",
     "output_type": "stream",
     "text": [
      "/home/m315/.local/lib/python3.6/site-packages/networkx/drawing/nx_pylab.py:579: MatplotlibDeprecationWarning: \n",
      "The iterable function was deprecated in Matplotlib 3.1 and will be removed in 3.3. Use np.iterable instead.\n",
      "  if not cb.iterable(width):\n"
     ]
    },
    {
     "data": {
      "text/plain": [
       "[0, 3, 2, 1, 0, 5, 4]"
      ]
     },
     "execution_count": 71,
     "metadata": {},
     "output_type": "execute_result"
    },
    {
     "data": {
      "image/png": "[encoded data removed]",
      "text/plain": [
       "<Figure size 504x504 with 1 Axes>"
      ]
     },
     "metadata": {},
     "output_type": "display_data"
    }
   ],
   "source": [
    "%matplotlib inline\n",
    "from utils import draw\n",
    "G=nx.Graph()\n",
    "G.add_edges_from([(0,1),(1,2),(2,3),(0,3),(0,4),(4,5),(0,5)])\n",
    "draw(G)\n",
    "euler(G)"
   ]
  },
  {
   "cell_type": "markdown",
   "metadata": {},
   "source": [
    "<div class=\"alert alert-warning\">\n",
    "<h1>Pregunta</h1>\n",
    "<p><strong>\n",
    "¿Qué condiciones se deben de cumplir para que un grafo cualquiera contenga un camino euleriano? Demuéstralo.\n",
    "</strong></p>\n",
    "</div>"
   ]
  },
  {
   "cell_type": "markdown",
   "metadata": {},
   "source": [
    "$\\textbf{Teorema: }$Un grafo no dirigido $G$ tiene un ciclo euleriano si y solo si todos los nodos son de grado par y los nodos con grado no nulo percenecen a la misma componente conexa.\n",
    "\n",
    "$\\textit{Demostracion:}$\n",
    "\n",
    "$\\Rightarrow ]$ Si $G$ es un grafo Euleriano, contiene un camino euleriano, entonces $\\forall v\\in V$ el numero de vertices adyacentes a $v$ es el doble de veces que pasa el camino por $v$, por tanto $d(v)$ es par.\n",
    "    \n",
    "$\\Leftarrow ]$ Supongamos que todos los nodos de $G$ tiene grado par pero $G$ no es euleriano. De todos los subgrafos posibles elegimos $H$ el que tenga menor numero de vertices y cumpla que es conexo, todos sus nodos son de grado par y no es euleriano, que existe dado que $G$ lo es y existen un numero finito de subgrafos. $H$ contiene un ciclo, y por lo tanto un camino cerrado. De todos los caminos cerrados de $H$ elegimos el que mas aristas tenga $C$.\n",
    "\n",
    "Sea $H'$ un componente conexa de $H\\setminus{E(C)}$ ($H$ sin las aristas de $C$), tal que $H'$ tenga almenos una arista. Ahora notamos que todo nodo $v$ de $H'$ tiene grado $d_{H'}(v)=d_{H}(v)-d_{C}(v)$ que es par, por lo tanto $H'$ debe ser un grafo euleriano. Y notamos que $C$ y $H'$ comparten almenos un vertice.\n",
    "\n",
    "Finalmente, si juntamos $C$ y $H'$ obtenemos un camino cerrado en $H$, con mas aristas que el camino $C$, lo qual es una contradiccion porque $C$ era el camino cerrado de $H$ con mas aristas. Por lo tanto, $G$ es un grafo euleriano.\n",
    "$\\qed$\n",
    "\n",
    "$\\textbf{Corolario: }$Un grafo no dirigido $G$ tiene un camino euleriano si y solo si tiene exactamentes dos nodos de grado impar, i los nodos con grado no nulo percenecen a la misma componente conexa. En este caso el camino euleriano empieza y acaba en esos dos vertices."
   ]
  },
  {
   "cell_type": "markdown",
   "metadata": {},
   "source": [
    "<div class=\"alert alert-warning\">\n",
    "<h1>Extra</h1>\n",
    "<p><strong>\n",
    "Además de circuitos Eulerianos, definimos caminos Eulerianos aquellos que recorren todas las aristas de un grafo sin repetirlas, pero no termina en el mismo nodo que empieza. Modifica el algoritmo anterior para que sea capaz de detectar si el grafo contiene un ciclo o un camino Euleriano, y devuelva la lista de nodos ordenados que componen dicho ciclo o camino. Tened en cuenta que son casos excluyentes.\n",
    "</strong></p>\n",
    "</div>"
   ]
  },
  {
   "cell_type": "code",
   "execution_count": 69,
   "metadata": {},
   "outputs": [],
   "source": [
    "def cycle(G, v, discovered, path, i):\n",
    "    S_v=list()\n",
    "    S_v.append(v)\n",
    "    \n",
    "    count=0\n",
    "    \n",
    "    while len(S_v)!=0:\n",
    "        actual_node=S_v.pop()\n",
    "        path.insert(i+count, actual_node)\n",
    "        count+=1\n",
    "        \n",
    "        if actual_node not in discovered or actual_node==v:\n",
    "            discovered.add(actual_node)\n",
    "            \n",
    "            for neighbor_node in list(G.adj[actual_node]):\n",
    "                if neighbor_node == v:\n",
    "                    if v!=G.node[actual_node]['parent']:\n",
    "                        return 0\n",
    "                    \n",
    "                if neighbor_node not in discovered:\n",
    "                    S_v.append(neighbor_node)\n",
    "                    G.node[neighbor_node]['parent']=actual_node\n",
    "    \n",
    "    return 2\n",
    "\n",
    "def non_cycle_path(G, v, w, discovered, path, i):\n",
    "    S_v=list()\n",
    "    S_v.append(v)\n",
    "    \n",
    "    count=0\n",
    "    \n",
    "    while len(S_v)!=0:\n",
    "        actual_node=S_v.pop()\n",
    "        path.insert(i+count, actual_node)\n",
    "        count+=1\n",
    "        \n",
    "        if actual_node not in discovered:\n",
    "            discovered.add(actual_node)\n",
    "            \n",
    "            for neighbor_node in list(G.adj[actual_node]):\n",
    "                if neighbor_node == w:\n",
    "                    discovered.add(w)\n",
    "                    path.append(w)\n",
    "                    return 0\n",
    "                    \n",
    "                if neighbor_node not in discovered:\n",
    "                    S_v.append(neighbor_node)\n",
    "                    G.node[neighbor_node]['parent']=actual_node\n",
    "    \n",
    "    return 2\n",
    "\n",
    "def euler_non_cyclic_path(G):\n",
    "    discovered=set()\n",
    "    path=[]\n",
    "    \n",
    "    odd_v=[]\n",
    "    \n",
    "    for x in list(G.nodes):\n",
    "        if G.degree[x]%2==1:\n",
    "            odd_v.append(x)\n",
    "            \n",
    "    if len(odd_v)!=2:\n",
    "        return 'No Eulerian Graph'\n",
    "        \n",
    "    \n",
    "    ctrl=non_cycle_path(G,odd_v[0],odd_v[1],discovered, path, 0)\n",
    "    if ctrl!=0:\n",
    "        return 'Error'\n",
    "    \n",
    "    while len(discovered)!=len(list(G.nodes)):\n",
    "        for node in path:\n",
    "            for new_node in list(G.adj[node]):\n",
    "                if new_node not in discovered:\n",
    "                    ctrl=cycle(G,node,discovered, path, path.index(node))\n",
    "                    if ctrl!=0:\n",
    "                        return 'Error: Not an Eulerian graph'\n",
    "    \n",
    "    return path"
   ]
  },
  {
   "cell_type": "code",
   "execution_count": 68,
   "metadata": {},
   "outputs": [
    {
     "name": "stdout",
     "output_type": "stream",
     "text": [
      "[0, 4, 5] 0 1 {0, 4, 5}\n",
      "[0, 3, 2, 1, 0, 4, 5] 5 6 {0, 1, 2, 3, 4, 5}\n"
     ]
    },
    {
     "name": "stderr",
     "output_type": "stream",
     "text": [
      "/home/m315/.local/lib/python3.6/site-packages/networkx/drawing/nx_pylab.py:579: MatplotlibDeprecationWarning: \n",
      "The iterable function was deprecated in Matplotlib 3.1 and will be removed in 3.3. Use np.iterable instead.\n",
      "  if not cb.iterable(width):\n"
     ]
    },
    {
     "data": {
      "text/plain": [
       "[0, 3, 2, 1, 0, 4, 5, 7, 6, 5]"
      ]
     },
     "execution_count": 68,
     "metadata": {},
     "output_type": "execute_result"
    },
    {
     "data": {
      "image/png": "[encoded data removed]",
      "text/plain": [
       "<Figure size 504x504 with 1 Axes>"
      ]
     },
     "metadata": {},
     "output_type": "display_data"
    }
   ],
   "source": [
    "%matplotlib inline\n",
    "from utils import draw\n",
    "G=nx.Graph()\n",
    "G.add_edges_from([(0,1),(1,2),(2,3),(0,3),(0,4),(4,5),(5,6),(6,7),(5,7)])\n",
    "draw(G)\n",
    "euler_non_cyclic_path(G)"
   ]
  }
 ],
 "metadata": {
  "kernelspec": {
   "display_name": "Python 3",
   "language": "python",
   "name": "python3"
  },
  "language_info": {
   "codemirror_mode": {
    "name": "ipython",
    "version": 3
   },
   "file_extension": ".py",
   "mimetype": "text/x-python",
   "name": "python",
   "nbconvert_exporter": "python",
   "pygments_lexer": "ipython3",
   "version": "3.6.8"
  }
 },
 "nbformat": 4,
 "nbformat_minor": 2
}
