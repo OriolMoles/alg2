{
 "cells": [
  {
   "cell_type": "markdown",
   "metadata": {},
   "source": [
    "<div style=\"padding:30px; color: white; background-color: #0071CD\">\n",
    "<center>\n",
    "<img src=\"img/logoub.jpeg\">\n",
    "<center>\n",
    "<p>\n",
    "<h1>Algorítmica Avanzada</h1>\n",
    "<h2>Problemas 3.A - Programación Dinámica </h2>\n",
    "</center>\n",
    "</p>\n",
    "</div>"
   ]
  },
  {
   "cell_type": "markdown",
   "metadata": {},
   "source": [
    "<div class=\"alert alert-danger\" style=\"width:95%; margin:0 auto; padding\">\n",
    "A la hora de crear las matrices de programación dinámica podéis emplear diversas estructuras de datos. A la hora de gestionar matrices, la lista de listas puede ser una buena opción, pero existen librerías como NumPy que hacen una mejor gestión de las matrices.\n",
    "\n",
    "Podéis consultar aquí la documentación: https://docs.scipy.org/doc/numpy/reference/"
   ]
  },
  {
   "cell_type": "markdown",
   "metadata": {},
   "source": [
    "<div class=\"alert alert-success\" style=\"width:90%; margin:0 auto;\">\n",
    "\n",
    "  <h2><p>1- El problema de la mochila</p></h2>\n",
    "  \n",
    "  <p> En esta primera sección trabajaremos con el problema de la mochila que ya vimos en los problemas de Greedy. Refrequemos un poco:\n",
    "</p>\n",
    "  <center><img src=\"img/knapsack.png\" width=30%></center>\n",
    "  \n",
    "  <p>\n",
    "    Nos encontramos en una habitación en la que hay $N$ objetos, cada cual con un peso $w_1, w_2, w_3 ... w_N$ y un valor $v_1, v_2, v_3 ... v_N$. Disponemos de una mochila que puede soportar una carga máxima de $W$.\n",
    "    Se busca conseguir llenar la mochila maximizando el valor total de la misma. Es decir queremos encontrar la combinación de objetos $b$ tal que $\\arg_{b} \\max{\\sum_{i=0}^{N}{v_i · b_i}}$ manteniendo siempre cierto que no superamos el peso máximo de la mochila: $\\sum_{i=0}^{N}{(w_i · b_i)}\\leq W$.\n",
    "     \n",
    "</p>\n",
    "  \n",
    "Trabajaremos tres variantes de este problema. En el primero, dispondremos solo de un objeto de cada tipo; en otro dispondremos de una cantidad ilimitada de objetos de cada tipo; finalmente, dispondremos de una cantidad limitada $c_1, c_2, c_3 ... c_N$ de cada objeto.\n"
   ]
  },
  {
   "cell_type": "code",
   "execution_count": 39,
   "metadata": {},
   "outputs": [],
   "source": [
    "try:\n",
    "    xrange\n",
    "except:\n",
    "    xrange = range\n",
    "\n",
    "''' \n",
    "Implementa aquí la solución de PD que resuelve el problema de la mochila simple (sin cantidades)\n",
    "@input: Lista de listas con la forma [peso,valor] representando los objetos que podemos escoger.\n",
    "@output: Lista de listas con la forma [peso,valor] representando los objetos escogidos.\n",
    "'''\n",
    "def dynamic_knapsack(W, D):\n",
    "    n = len(D)\n",
    "    K = [[0 for x in range(W+1)] for x in range(n+1)]\n",
    "    \n",
    "    for i in range(n+1):\n",
    "        for w in range(W+1):\n",
    "            if i==0 or w==0:\n",
    "                K[i][w] = 0\n",
    "            elif D[i-1][0] <= w:\n",
    "                K[i][w] = max(D[i-1][1]+K[i-1][w-D[i-1][0]], K[i-1][w])\n",
    "            else:\n",
    "                K[i][w] = K[i-1][w]\n",
    "    \n",
    "    result = []\n",
    "    for i in range(n, 0, -1):\n",
    "        v = K[i][w] != K[i-1][w]\n",
    " \n",
    "        if v:\n",
    "            result.append(D[i-1])\n",
    "    \n",
    "    return (K[n][W],result)\n",
    "\n",
    "''' \n",
    "Implementa aquí la solución de PD que resuelve el problema de la mochila con cantidad de objetos limitados\n",
    "@input: Lista de listas con la forma [peso,valor,cantidad] representando los objetos que podemos escoger.\n",
    "@output: Lista de listas con la forma [peso,valor,cantidad] representando los objetos escogidos.\n",
    "'''\n",
    "def dynamic_knapsac_quantities(W, D):\n",
    "    n = len(D)\n",
    "    K = [[0 for w in range(W+1)] for j in xrange(n+1)]\n",
    "    \n",
    "    for i in range(n+1):\n",
    "        for w in range(W+1):\n",
    "            if i==0 or w==0:\n",
    "                K[i][w] = 0\n",
    "            else:\n",
    "                K[i][w] = K[i-1][w]\n",
    "                quantity = min(D[i-1][2], w//D[i-1][0])\n",
    "                for j in range(1, quantity+1):\n",
    "                    K[i][w] = max(j*D[i-1][1]+K[i-1][w-j*D[i-1][0]], K[i-1][w])\n",
    "    \n",
    "    result = []\n",
    "    w = W\n",
    "    for i in range(n, 0, -1):\n",
    "        v = K[i][w]\n",
    "        k = 0\n",
    "        while v != K[i-1][w] + k*D[i-1][1]:\n",
    "            k += 1\n",
    "            w -= D[i-1][0]\n",
    " \n",
    "        if k>0:\n",
    "            result.append([D[i-1][0],D[i-1][1],k])\n",
    " \n",
    "    return (K[n][W],result)\n",
    "\n",
    "''' \n",
    "Implementa aquí la solución de PD que resuelve el problema de la mochila con cantidad de objetos ilimitados\n",
    "@input: Lista de listas con la forma [peso,valor] representando los objetos que podemos escoger.\n",
    "@output: Lista de listas con la forma [peso,valor,cantidad] representando los objetos escogidos.\n",
    "'''\n",
    "def dynamic_kapsac_infinite(W,D):\n",
    "    n = len(D)\n",
    "    K = [[0 for w in range(W+1)] for j in xrange(n+1)]\n",
    "    \n",
    "    for i in range(n+1):\n",
    "        for w in range(W+1):\n",
    "            if i==0 or w==0:\n",
    "                K[i][w] = 0\n",
    "            else:\n",
    "                K[i][w] = K[i-1][w]\n",
    "                j=1\n",
    "                while j*D[i-1][0] <= w:\n",
    "                    K[i][w] = max(j*D[i-1][1]+K[i-1][w-j*D[i-1][0]], K[i-1][w])\n",
    "                    j+=1\n",
    "    \n",
    "    result = []\n",
    "    w = W\n",
    "    for i in range(n, 0, -1):\n",
    "        v = K[i][w]\n",
    "        k = 0\n",
    "        while v != K[i-1][w] + k*D[i-1][1]:\n",
    "            k += 1\n",
    "            w -= D[i-1][0]\n",
    " \n",
    "        if k>0:\n",
    "            result.append([D[i-1][0],D[i-1][1],k])\n",
    " \n",
    "    return (K[n][W],result)"
   ]
  },
  {
   "cell_type": "code",
   "execution_count": 47,
   "metadata": {
    "scrolled": true
   },
   "outputs": [
    {
     "name": "stdout",
     "output_type": "stream",
     "text": [
      "[[16, 20, 13], [26, 41, 9], [23, 9, 8], [7, 47, 3], [9, 75, 14], [14, 94, 2], [46, 90, 10], [22, 80, 1], [43, 4, 12], [10, 87, 4]]\n",
      "137\n",
      "(514, [[10, 87, 4], [22, 80, 1], [46, 90, 10], [14, 94, 2], [9, 75, 14], [7, 47, 3], [23, 9, 8], [26, 41, 9], [16, 20, 13]])\n",
      "(1145, [[10, 87, 4], [9, 75, 10], [7, 47, 1]])\n",
      "(1178, [[10, 87, 13], [7, 47, 1]])\n"
     ]
    }
   ],
   "source": [
    "from utils import random_objects\n",
    "import random as rd\n",
    "# random_objects genera una lista de objetos, \n",
    "# cada uno representado como [peso,valor] o [peso,valor,cantidad].\n",
    "# Su único parámetro es un booleano opcional que indica si la \n",
    "# cantidad de objetos es finita (False) o infinita (True, por defecto)\n",
    "\n",
    "# Prueba tus algoritmos aquí.\n",
    "D = random_objects(False)\n",
    "C = D.copy()\n",
    "print(D)\n",
    "\n",
    "W= rd.randint(50,150)\n",
    "print(W)\n",
    "\n",
    "print(dynamic_knapsack(W, D))\n",
    "print(dynamic_knapsac_quantities(W, C))\n",
    "print(dynamic_kapsac_infinite(W,D))"
   ]
  },
  {
   "cell_type": "code",
   "execution_count": 1,
   "metadata": {},
   "outputs": [
    {
     "name": "stdout",
     "output_type": "stream",
     "text": [
      "10\n",
      "9\n",
      "8\n",
      "7\n",
      "6\n",
      "5\n",
      "4\n",
      "3\n",
      "2\n"
     ]
    }
   ],
   "source": []
  },
  {
   "cell_type": "markdown",
   "metadata": {},
   "source": [
    "<div class=\"alert alert-warning\" style=\"width:80%; margin:0 auto; padding\">\n",
    "<center><p><h3> Cuestiones</h3></p> </center> </div>"
   ]
  },
  {
   "cell_type": "markdown",
   "metadata": {},
   "source": [
    "<ul>\n",
    "    <li>¿En qué casos se encuentra solución óptima al problema?</li>\n",
    "    <li>Explica las soluciones planteadas y analiza su complejidad. Comparalo con las implementaciones greedy.</li>\n",
    "</ul>"
   ]
  },
  {
   "cell_type": "markdown",
   "metadata": {},
   "source": [
    "__Escribe aquí tus respuestas__\n",
    "\n",
    "<h4> Pregunta 1 </h4>\n",
    "\n",
    "<h4> Pregunta 2 </h4>"
   ]
  },
  {
   "cell_type": "markdown",
   "metadata": {},
   "source": [
    "<div class=\"alert alert-success\" style=\"width:90%; margin:0 auto;\">\n",
    "\n",
    "  <h2><p>2 - Algoritmo Floyd-Warshall</p></h2>\n",
    "  \n",
    "  <p> El algoritmo Floyd-Warshall es un algoritmo de programación dinámica que se emplea para encontrar los caminos mínimos en un grafo con pesos (que no tenga ciclos negativos) entre todos los pares de nodos. Se basa en ir construyendo una matriz con caminos intermedios entre trios de nodos. Podéis ver más información y consultar el pseudocódigo <a href=\"https://es.wikipedia.org/wiki/Algoritmo_de_Floyd-Warshall\">aquí</a>.</p>\n"
   ]
  },
  {
   "cell_type": "code",
   "execution_count": null,
   "metadata": {},
   "outputs": [],
   "source": [
    "''' \n",
    "Implementa aquí el algoritmo Floyd Warshall\n",
    "'''\n",
    "def floyd_warshall(G):\n",
    "    pass"
   ]
  },
  {
   "cell_type": "code",
   "execution_count": null,
   "metadata": {},
   "outputs": [],
   "source": [
    "from utils import random_graph, draw_graph, draw_path\n",
    "# random_graph(N,E) genera un grafo aleatorio con N vértices y E aristas.\n",
    "#                   Podéis asumir que los ids de los nodos serán enteros del 0 a N-1\n",
    "# draw_graph(G,s) dibuja el grafo G, el parámetro opcional s indica el tamaño del dibujo.\n",
    "# draw_path(G,p,s) igual que draw_graph pero destacando las aristas que forman el path.\n",
    "\n",
    "# Prueba aquí tu algoritmo."
   ]
  },
  {
   "cell_type": "markdown",
   "metadata": {},
   "source": [
    "<div class=\"alert alert-warning\" style=\"width:80%; margin:0 auto; padding\">\n",
    "<center><p><h3> Cuestiones</h3></p> </center> </div>"
   ]
  },
  {
   "cell_type": "markdown",
   "metadata": {},
   "source": [
    "<ul>\n",
    "    <li>Analiza la complejidad del algoritmo.</li>\n",
    "</ul>"
   ]
  }
 ],
 "metadata": {
  "kernelspec": {
   "display_name": "Python 3",
   "language": "python",
   "name": "python3"
  },
  "language_info": {
   "codemirror_mode": {
    "name": "ipython",
    "version": 3
   },
   "file_extension": ".py",
   "mimetype": "text/x-python",
   "name": "python",
   "nbconvert_exporter": "python",
   "pygments_lexer": "ipython3",
   "version": "3.6.8"
  }
 },
 "nbformat": 4,
 "nbformat_minor": 2
}
