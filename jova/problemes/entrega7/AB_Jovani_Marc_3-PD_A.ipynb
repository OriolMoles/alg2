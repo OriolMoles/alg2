{
 "cells": [
  {
   "cell_type": "markdown",
   "metadata": {},
   "source": [
    "<div style=\"padding:30px; color: white; background-color: #0071CD\">\n",
    "<center>\n",
    "<img src=\"img/logoub.jpeg\">\n",
    "<center>\n",
    "<p>\n",
    "<h1>Algorítmica Avanzada</h1>\n",
    "<h2>Problemas 3.A - Programación Dinámica </h2>\n",
    "</center>\n",
    "</p>\n",
    "</div>"
   ]
  },
  {
   "cell_type": "markdown",
   "metadata": {},
   "source": [
    "<div class=\"alert alert-danger\" style=\"width:95%; margin:0 auto; padding\">\n",
    "A la hora de crear las matrices de programación dinámica podéis emplear diversas estructuras de datos. A la hora de gestionar matrices, la lista de listas puede ser una buena opción, pero existen librerías como NumPy que hacen una mejor gestión de las matrices.\n",
    "\n",
    "Podéis consultar aquí la documentación: https://docs.scipy.org/doc/numpy/reference/"
   ]
  },
  {
   "cell_type": "markdown",
   "metadata": {},
   "source": [
    "<div class=\"alert alert-success\" style=\"width:90%; margin:0 auto;\">\n",
    "\n",
    "  <h2><p>1- El problema de la mochila</p></h2>\n",
    "  \n",
    "  <p> En esta primera sección trabajaremos con el problema de la mochila que ya vimos en los problemas de Greedy. Refrequemos un poco:\n",
    "</p>\n",
    "  <center><img src=\"img/knapsack.png\" width=30%></center>\n",
    "  \n",
    "  <p>\n",
    "    Nos encontramos en una habitación en la que hay $N$ objetos, cada cual con un peso $w_1, w_2, w_3 ... w_N$ y un valor $v_1, v_2, v_3 ... v_N$. Disponemos de una mochila que puede soportar una carga máxima de $W$.\n",
    "    Se busca conseguir llenar la mochila maximizando el valor total de la misma. Es decir queremos encontrar la combinación de objetos $b$ tal que $\\arg_{b} \\max{\\sum_{i=0}^{N}{v_i · b_i}}$ manteniendo siempre cierto que no superamos el peso máximo de la mochila: $\\sum_{i=0}^{N}{(w_i · b_i)}\\leq W$.\n",
    "     \n",
    "</p>\n",
    "  \n",
    "Trabajaremos tres variantes de este problema. En el primero, dispondremos solo de un objeto de cada tipo; en otro dispondremos de una cantidad ilimitada de objetos de cada tipo; finalmente, dispondremos de una cantidad limitada $c_1, c_2, c_3 ... c_N$ de cada objeto.\n"
   ]
  },
  {
   "cell_type": "code",
   "execution_count": 5,
   "metadata": {},
   "outputs": [],
   "source": [
    "try:\n",
    "    xrange\n",
    "except:\n",
    "    xrange = range\n",
    "\n",
    "''' \n",
    "Implementa aquí la solución de PD que resuelve el problema de la mochila simple (sin cantidades)\n",
    "@input: Lista de listas con la forma [peso,valor] representando los objetos que podemos escoger.\n",
    "@output: Lista de listas con la forma [peso,valor] representando los objetos escogidos.\n",
    "'''\n",
    "def dynamic_knapsack(W, D):\n",
    "    n = len(D)\n",
    "    K = [[0 for x in range(W+1)] for x in range(n+1)]\n",
    "    \n",
    "    for i in range(n+1):\n",
    "        for w in range(W+1):\n",
    "            if i==0 or w==0:\n",
    "                K[i][w] = 0\n",
    "            elif D[i-1][0] <= w:\n",
    "                K[i][w] = max(D[i-1][1]+K[i-1][w-D[i-1][0]], K[i-1][w])\n",
    "            else:\n",
    "                K[i][w] = K[i-1][w]\n",
    "    \n",
    "    result = []\n",
    "    for i in range(n, 0, -1):\n",
    "        v = K[i][w] != K[i-1][w]\n",
    " \n",
    "        if v:\n",
    "            result.append(D[i-1])\n",
    "    \n",
    "    return (K[n][W],result)\n",
    "\n",
    "''' \n",
    "Implementa aquí la solución de PD que resuelve el problema de la mochila con cantidad de objetos limitados\n",
    "@input: Lista de listas con la forma [peso,valor,cantidad] representando los objetos que podemos escoger.\n",
    "@output: Lista de listas con la forma [peso,valor,cantidad] representando los objetos escogidos.\n",
    "'''\n",
    "def dynamic_knapsac_quantities(W, D):\n",
    "    n = len(D)\n",
    "    K = [[0 for w in range(W+1)] for j in xrange(n+1)]\n",
    "    \n",
    "    for i in range(n+1):\n",
    "        for w in range(W+1):\n",
    "            if i==0 or w==0:\n",
    "                K[i][w] = 0\n",
    "            else:\n",
    "                K[i][w] = K[i-1][w]\n",
    "                quantity = min(D[i-1][2], w//D[i-1][0])\n",
    "                for j in range(1, quantity+1):\n",
    "                    K[i][w] = max(j*D[i-1][1]+K[i-1][w-j*D[i-1][0]], K[i-1][w])\n",
    "    \n",
    "    result = []\n",
    "    w = W\n",
    "    for i in range(n, 0, -1):\n",
    "        v = K[i][w]\n",
    "        k = 0\n",
    "        while v != K[i-1][w] + k*D[i-1][1]:\n",
    "            k += 1\n",
    "            w -= D[i-1][0]\n",
    " \n",
    "        if k>0:\n",
    "            result.append([D[i-1][0],D[i-1][1],k])\n",
    " \n",
    "    return (K[n][W],result)\n",
    "\n",
    "''' \n",
    "Implementa aquí la solución de PD que resuelve el problema de la mochila con cantidad de objetos ilimitados\n",
    "@input: Lista de listas con la forma [peso,valor] representando los objetos que podemos escoger.\n",
    "@output: Lista de listas con la forma [peso,valor,cantidad] representando los objetos escogidos.\n",
    "'''\n",
    "def dynamic_kapsac_infinite(W,D):\n",
    "    n = len(D)\n",
    "    K = [[0 for w in range(W+1)] for j in xrange(n+1)]\n",
    "    \n",
    "    for i in range(n+1):\n",
    "        for w in range(W+1):\n",
    "            if i==0 or w==0:\n",
    "                K[i][w] = 0\n",
    "            else:\n",
    "                K[i][w] = K[i-1][w]\n",
    "                j=1\n",
    "                while j*D[i-1][0] <= w:\n",
    "                    K[i][w] = max(j*D[i-1][1]+K[i-1][w-j*D[i-1][0]], K[i-1][w])\n",
    "                    j+=1\n",
    "    \n",
    "    result = []\n",
    "    w = W\n",
    "    for i in range(n, 0, -1):\n",
    "        v = K[i][w]\n",
    "        k = 0\n",
    "        while v != K[i-1][w] + k*D[i-1][1]:\n",
    "            k += 1\n",
    "            w -= D[i-1][0]\n",
    " \n",
    "        if k>0:\n",
    "            result.append([D[i-1][0],D[i-1][1],k])\n",
    " \n",
    "    return (K[n][W],result)"
   ]
  },
  {
   "cell_type": "code",
   "execution_count": 6,
   "metadata": {
    "scrolled": true
   },
   "outputs": [
    {
     "name": "stdout",
     "output_type": "stream",
     "text": [
      "[[20, 78, 12], [48, 51, 9], [27, 45, 2], [18, 13, 10], [34, 65, 6], [35, 18, 1], [1, 10, 11], [49, 97, 4], [11, 7, 3], [36, 94, 7]]\n",
      "125\n",
      "(292, [[36, 94, 7], [49, 97, 4], [1, 10, 11], [34, 65, 6], [18, 13, 10], [27, 45, 2], [48, 51, 9], [20, 78, 12]])\n",
      "(500, [[1, 10, 11], [20, 78, 5]])\n",
      "(1250, [[1, 10, 125]])\n"
     ]
    }
   ],
   "source": [
    "from utils import random_objects\n",
    "import random as rd\n",
    "# random_objects genera una lista de objetos, \n",
    "# cada uno representado como [peso,valor] o [peso,valor,cantidad].\n",
    "# Su único parámetro es un booleano opcional que indica si la \n",
    "# cantidad de objetos es finita (False) o infinita (True, por defecto)\n",
    "\n",
    "# Prueba tus algoritmos aquí.\n",
    "D = random_objects(False)\n",
    "C = D.copy()\n",
    "print(D)\n",
    "\n",
    "W= rd.randint(50,150)\n",
    "print(W)\n",
    "\n",
    "print(dynamic_knapsack(W, D))\n",
    "print(dynamic_knapsac_quantities(W, C))\n",
    "print(dynamic_kapsac_infinite(W,D))"
   ]
  },
  {
   "cell_type": "markdown",
   "metadata": {},
   "source": [
    "<div class=\"alert alert-warning\" style=\"width:80%; margin:0 auto; padding\">\n",
    "<center><p><h3> Cuestiones</h3></p> </center> </div>"
   ]
  },
  {
   "cell_type": "markdown",
   "metadata": {},
   "source": [
    "<ul>\n",
    "    <li>¿En qué casos se encuentra solución óptima al problema?</li>\n",
    "    <li>Explica las soluciones planteadas y analiza su complejidad. Comparalo con las implementaciones greedy.</li>\n",
    "</ul>"
   ]
  },
  {
   "cell_type": "markdown",
   "metadata": {},
   "source": [
    "__Escribe aquí tus respuestas__\n",
    "\n",
    "<h4> Pregunta 1 </h4>\n",
    "\n",
    "En los tres. En cada uno de ellos se encuentra la solucion optima a su respectivo problema.\n",
    "\n",
    "<h4> Pregunta 2 </h4>\n",
    "\n",
    "El primero es el algoritmo visto en clase de teoria.\n",
    "\n",
    "En el segungo quando se mete un objeto en la mochila se mete el maximo numero disponible possible de este en funcion de cuantos de ellos disponemos i cuantos caben por peso.\n",
    "\n",
    "I en el ultimo hacemos igual que el segundo pero solo mirado la restriccion del peso.\n",
    "\n",
    "Al final de cad algoritmo hacemos un backtrack para dar la lista que da la solucion optima.\n",
    "\n",
    "La complegidad de el primero es $O(nW)$.\n",
    "\n",
    "Al segundo i al tercer como dentro del bucle se añade otro bucle que pude ir desde 1 hasta W en el peor de los casos tenemos que tienen una complejidad de $O(nW^2)$.\n",
    "\n",
    "A diferencia de con los algoritmos de greedy con estos aseguramos encontrar la solucion pero sin embargo lo pagamos con un coste computacional mucho más elevado."
   ]
  },
  {
   "cell_type": "markdown",
   "metadata": {},
   "source": [
    "<div class=\"alert alert-success\" style=\"width:90%; margin:0 auto;\">\n",
    "\n",
    "  <h2><p>2 - Algoritmo Floyd-Warshall</p></h2>\n",
    "  \n",
    "  <p> El algoritmo Floyd-Warshall es un algoritmo de programación dinámica que se emplea para encontrar los caminos mínimos en un grafo con pesos (que no tenga ciclos negativos) entre todos los pares de nodos. Se basa en ir construyendo una matriz con caminos intermedios entre trios de nodos. Podéis ver más información y consultar el pseudocódigo <a href=\"https://es.wikipedia.org/wiki/Algoritmo_de_Floyd-Warshall\">aquí</a>.</p>\n"
   ]
  },
  {
   "cell_type": "code",
   "execution_count": 51,
   "metadata": {},
   "outputs": [],
   "source": [
    "''' \n",
    "Implementa aquí el algoritmo Floyd Warshall\n",
    "\n",
    "Damos la opcion de que el grafo sea dirigido, por defecto es no dirigido\n",
    "'''\n",
    "def floyd_warshall(G, undirected=True):\n",
    "    V = len(A)\n",
    "    dist = [[2**32-1 for x in range(V)] for x in range(V)] #matrix de distacias entre nodos, inicializada en infinito\n",
    "    son = [[None for x in range(V)] for x in range(V)] #matriz con el sucesor de cada nodo inicializada a null\n",
    "    \n",
    "    #ponemos los pesos de los veritizes i el sucesor de esots\n",
    "    for edge in G.edges(data=True):\n",
    "        dist[edge[0]][edge[1]] = edge[2]['weight']\n",
    "        son[edge[0]][edge[1]] = edge[1]\n",
    "        if undirected: #solo se hace si el grafo es no dirigido\n",
    "            son[edge[1]][edge[0]] = edge[0]\n",
    "    \n",
    "    #assumimos que no hay un coste para ir de un nodo a si mismo \n",
    "    #y si lo hubiera no lo usariamos asi que ponemos su peso en 0\n",
    "    #y su sucesor a el misomo\n",
    "    for v in G.nodes():\n",
    "        dist[v][v] = 0\n",
    "        son[v][v] = v\n",
    "    \n",
    "    for k in range(V):\n",
    "        for i in range(V):\n",
    "            for j in range(V):\n",
    "                if dist[i][j] > dist[i][k] + dist[k][j]:\n",
    "                    dist[i][j] = dist[i][k] + dist[k][j]\n",
    "                    son[i][j] = son[i][k]\n",
    "    \n",
    "    return son\n",
    "'''\n",
    "Es una funcion que dados dos nodos i el resultado del algoritmo\n",
    "floyd_warshall devuleve el camino minimo entre estos dos\n",
    "'''\n",
    "def min_path(s,t,son):\n",
    "    if son[s][t]==None:\n",
    "        return []\n",
    "    \n",
    "    path = [s]\n",
    "    while s!=t:\n",
    "        s = son[s][t]\n",
    "        path.append(s)\n",
    "    \n",
    "    return path"
   ]
  },
  {
   "cell_type": "code",
   "execution_count": 68,
   "metadata": {},
   "outputs": [
    {
     "data": {
      "text/plain": [
       "[0, 2, 6]"
      ]
     },
     "execution_count": 68,
     "metadata": {},
     "output_type": "execute_result"
    },
    {
     "data": {
      "image/png": "[encoded data removed]",
      "text/plain": [
       "<Figure size 504x504 with 1 Axes>"
      ]
     },
     "metadata": {},
     "output_type": "display_data"
    }
   ],
   "source": [
    "from utils import random_graph, draw_graph, draw_path\n",
    "# random_graph(N,E) genera un grafo aleatorio con N vértices y E aristas.\n",
    "#                   Podéis asumir que los ids de los nodos serán enteros del 0 a N-1\n",
    "# draw_graph(G,s) dibuja el grafo G, el parámetro opcional s indica el tamaño del dibujo.\n",
    "# draw_path(G,p,s) igual que draw_graph pero destacando las aristas que forman el path.\n",
    "\n",
    "# Prueba aquí tu algoritmo.\n",
    "A = random_graph(7,11)\n",
    "draw_graph(A)\n",
    "\n",
    "S = floyd_warshall(A)\n",
    "min_path(0,6,S)"
   ]
  },
  {
   "cell_type": "markdown",
   "metadata": {},
   "source": [
    "<div class=\"alert alert-warning\" style=\"width:80%; margin:0 auto; padding\">\n",
    "<center><p><h3> Cuestiones</h3></p> </center> </div>"
   ]
  },
  {
   "cell_type": "markdown",
   "metadata": {},
   "source": [
    "<ul>\n",
    "    <li>Analiza la complejidad del algoritmo.</li>\n",
    "</ul>\n",
    "\n",
    "Hacemos tres bucles sobre |V| elementos con operaciones de coste constante dentro, por lo tanto la complegidad del algoritmo es $O(n)+O(n)+O(n^3)=O(n^3)$."
   ]
  }
 ],
 "metadata": {
  "kernelspec": {
   "display_name": "Python 3",
   "language": "python",
   "name": "python3"
  },
  "language_info": {
   "codemirror_mode": {
    "name": "ipython",
    "version": 3
   },
   "file_extension": ".py",
   "mimetype": "text/x-python",
   "name": "python",
   "nbconvert_exporter": "python",
   "pygments_lexer": "ipython3",
   "version": "3.6.8"
  }
 },
 "nbformat": 4,
 "nbformat_minor": 2
}
