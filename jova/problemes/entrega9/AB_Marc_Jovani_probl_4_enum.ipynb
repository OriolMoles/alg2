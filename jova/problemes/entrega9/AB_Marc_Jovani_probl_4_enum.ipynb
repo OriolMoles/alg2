{
 "cells": [
  {
   "cell_type": "markdown",
   "metadata": {},
   "source": [
    "<div style=\"padding:30px; color: white; background-color: #0071CD\">\n",
    "<center>\n",
    "    <img src=\"img/logoub.jpeg\"></img>\n",
    "<p>\n",
    "<h1>Algorítmica Avanzada</h1>\n",
    "<h2>Problemas Enumerativos</h2>\n",
    "</center>\n",
    "</p>\n",
    "</div>"
   ]
  },
  {
   "cell_type": "markdown",
   "metadata": {},
   "source": [
    "<div class=\"alert alert-info\">\n",
    "<center>\n",
    "  <h1>Backtracking</h1>\n",
    "</center>\n",
    "</div>"
   ]
  },
  {
   "cell_type": "markdown",
   "metadata": {},
   "source": [
    "<div class=\"alert alert-success\" style=\"width:90%; margin:0 auto;\">\n",
    "<h2><p>0. Cartas</p></h2>\n",
    "<p>\n",
    "Supongamos que tenemos un conjunto de parejas de cartas del mismo valor. En particular, tenemos parejas de cartas hasta N. Por ejemplo, para $N=3$ tendríamos una pareja de 1s, una de 2s y una de 3s (un total de 6 cartas). Lo que queremos es encontrar la manera de ordenarlas para que entre las dos cartas de valor $n_i$ haya exactamente $n_i$ cartas. En el ejemplo con $N=3$ tendríamos la siguiente solución:\n",
    "</p>\n",
    "<center> <b>   3 - 1 - 2 - 1- 3 - 2 </b></center>\n",
    "<p>\n",
    "Podemos observar que entre los 3 hay tres cartas, entre los 2 hay dos y entre los 1 solo hay una. Dependiendo del tamaño de N el problema podría no tener solución. Por ejemplo $N=5$ o $N=6$. Se pide la implementación de un algoritmo que, mediante backtracking, devuelva una lista con la configuración encontrada dado un valor N. En caso de no haber solución, debe devolver una lista vacía.\n",
    "</p> <p>\n",
    "Es importante destacar que tendréis que prestar especial atención a la complejidad de vuestra solución, dado que el problema crece de forma no polinómica y para un valor $N>12$ podría tardar horas. Hay diferentes aproximaciones para resolverlo. Bien hecho, $N=12$ debería tardar escasos segundos. Si haces varias versiones, puedes entregarlas junto con la comparativa de complejidad correspondiente.</p>\n",
    "</div>"
   ]
  },
  {
   "cell_type": "code",
   "execution_count": 4,
   "metadata": {},
   "outputs": [],
   "source": [
    "'''\n",
    "Implementa aquí tu solución. Debe devolver una lista con las cartas ordenadas tal y como se especifica\n",
    "en el enunciado o None en caso de no existir solución para la entrada dada.\n",
    "'''\n",
    "def solve_deck(n, comb):\n",
    "    \n",
    "    if n==1:\n",
    "        index = comb.index(0)\n",
    "        if index < len(comb)-2:\n",
    "            if comb[index+2]==0:\n",
    "                comb[index] = 1\n",
    "                comb[index+2] = 1\n",
    "                return True\n",
    "        \n",
    "        return False\n",
    "    \n",
    "    #look for the first possition not used\n",
    "    index = comb.index(0)\n",
    "    #proced if we can place n in the possition of index and in index+n+1, cause gotta be n cards between them\n",
    "    while index < len(comb)-n-1:\n",
    "        #if the possition where the second card is put n in both possitions\n",
    "        if comb[index+n+1]==0:\n",
    "            comb[index] = n\n",
    "            comb[index+n+1] = n\n",
    "            \n",
    "            #check if with this combination we can reach a solution\n",
    "            check = solve_deck(n-1, comb)\n",
    "            if check:\n",
    "                return True\n",
    "            \n",
    "            #if not return the values to zero\n",
    "            comb[index] = 0\n",
    "            comb[index+n+1] = 0\n",
    "        \n",
    "        #as it failed compute the next possition not used if there's any\n",
    "        index += 1\n",
    "        if 0 in comb[index:]:\n",
    "            index = comb.index(0,index)\n",
    "        \n",
    "    return False\n",
    "\n",
    "def deck(n):\n",
    "    \n",
    "    if n==1:\n",
    "        return []\n",
    "    \n",
    "    comb = [0 for x in range(2*n)]\n",
    "    check = solve_deck(n, comb)\n",
    "    \n",
    "    if check:\n",
    "        return comb\n",
    "    \n",
    "    return []\n"
   ]
  },
  {
   "cell_type": "code",
   "execution_count": 5,
   "metadata": {},
   "outputs": [
    {
     "name": "stdout",
     "output_type": "stream",
     "text": [
      "Sol 1: NO ENCONTRADA\n",
      "Sol 2: NO ENCONTRADA\n",
      "Sol 3:  3-1-2-1-3-2\n",
      "Sol 4:  4-1-3-1-2-4-3-2\n",
      "Sol 5: NO ENCONTRADA\n",
      "Sol 6: NO ENCONTRADA\n",
      "Sol 7:  7-3-6-2-5-3-2-4-7-6-5-1-4-1\n",
      "Sol 8:  8-3-7-2-6-3-2-4-5-8-7-6-4-1-5-1\n",
      "Sol 9: NO ENCONTRADA\n",
      "Sol 10: NO ENCONTRADA\n",
      "Sol 11:  11-6-10-2-9-3-2-8-6-3-7-5-11-10-9-4-8-5-7-1-4-1\n",
      "Sol 12:  12-10-11-6-4-5-9-7-8-4-6-5-10-12-11-7-9-8-3-1-2-1-3-2\n"
     ]
    }
   ],
   "source": [
    "for n in range(1,13):\n",
    "    sol = deck(n)\n",
    "    if sol:\n",
    "        print(\"Sol \"+str(n)+\": \",\"-\".join(map(str,sol)))\n",
    "    else:\n",
    "        print(\"Sol \"+str(n)+\": NO ENCONTRADA\")"
   ]
  },
  {
   "cell_type": "markdown",
   "metadata": {},
   "source": [
    "## Analiza el coste de tu/s implementación/es:"
   ]
  },
  {
   "cell_type": "markdown",
   "metadata": {},
   "source": [
    "En el peor escenario possible la complejidad es $O(2^n)$"
   ]
  },
  {
   "cell_type": "markdown",
   "metadata": {},
   "source": [
    "<div class=\"alert alert-info\">\n",
    "<center>\n",
    "  <h1>Ramificación y poda</h1>\n",
    "</center>\n",
    "</div>"
   ]
  },
  {
   "cell_type": "markdown",
   "metadata": {},
   "source": [
    "\n",
    "<div class=\"alert alert-success\" style=\"width:90%; margin:0 auto;\">\n",
    "  <h2><p>1. Mochila</p></h2>\n",
    "  \n",
    "   <p> En esta primera sección trabajaremos con el problema de la mochila que ya vimos en problemas Greedy y PD. Refrequemos un poco (por si aún no lo tenéis claro):\n",
    "</p>\n",
    "    Nos encontramos en una habitación en la que hay $N$ objetos con pesos $w_1, w_2, w_3 ... w_N$ y tenemos una mochila que puede soportar una carga máxima de $W$. En este caso se pide que realicéis una implementación de Ramificación y Poda para resolver el problema de la mochila con valor:\n",
    "<br><br>\n",
    " **mochila_valor:** Cada objeto tendrá asignado un valor $v_1, v_2, v_3 ... v_N$. Buscamos llenar la mochila maximizando el valor total de la mochila pero sin superar la capacidad máxima. Es decir queremos encontrar la combinación de objetos $b$ tal que $\\arg_{b} \\max{\\sum_{i=0}^{N}{v_i · b_i}}$ con la condición de que $\\sum_{i=0}^{N}{(w_i · b_i)}\\leq W$.\n",
    "     <br><br>\n",
    "Trabajaremos únicamente con la versión de la mochila en la que tenemos una cantidad limitada $c_1, c_2, c_3 ... c_N$ de objetos.</div>\n"
   ]
  },
  {
   "cell_type": "code",
   "execution_count": 1,
   "metadata": {},
   "outputs": [],
   "source": [
    "import random as rd\n",
    "\n",
    "# Genera un conjunto de objetos de prueba en forma de una lista de listas, \n",
    "# cada una de las cuales representa un elemento [peso,valor,cantidad]\n",
    "def random_objects():\n",
    "    objects = [[p,v,c] for p,v,c in zip(rd.sample(range(1, 50), k=10), rd.sample(range(1, 100), k=10),rd.sample(range(1, 15), k=10))]\n",
    "    return objects"
   ]
  },
  {
   "cell_type": "code",
   "execution_count": 2,
   "metadata": {},
   "outputs": [],
   "source": [
    "''' \n",
    "Implementa aquí la solución de Ramificación y poda que resuelve el problema de la mochila\n",
    "@input: (D) Lista de listas con la forma [peso,valor,cantidad] representando los objetos que podemos escoger.\n",
    "        (W) Entero que representa la capacidad de la mochila.\n",
    "@output: Lista de listas con la forma [peso,valor,cantidad] representando los objetos escogidos.\n",
    "'''\n",
    "\n",
    "def bound(n, u, W, arr):\n",
    "    #bound returns the max weight given a partial solution by computing the gready solution of knapsack\n",
    "    \n",
    "    if u[3] >= W:\n",
    "        return 0\n",
    "    \n",
    "    bound = u[1]\n",
    "    \n",
    "    j = u[0] + 1\n",
    "    weight = u[3]\n",
    "    \n",
    "    #due the list arr is ordered decreasing by value/weight rate we jsut have to add the next items in the\n",
    "    #list untill the reach the max capacity\n",
    "    while j < n and weight + arr[j][0] < W:\n",
    "        weight += arr[j][0]\n",
    "        bound += arr[j][1]\n",
    "        j += 1\n",
    "    \n",
    "    #if we haven't used the last item include it partialy to get a better upper bound\n",
    "    #this is to be shure that we pass the upper bound and no possible solution is discarted\n",
    "    if j < n:\n",
    "        bound += (W - weight) * arr[j][1]/arr[j][0]\n",
    "    \n",
    "    return bound\n",
    "\n",
    "def knapsack_branch(D,W):\n",
    "    \n",
    "    D = sorted(D, key=lambda x: x[1]/x[0], reverse=True)\n",
    "    \n",
    "    #Create a list with all the objects just once,\n",
    "    #i.e. if we have two times the same object make two occurences of it in the new list\n",
    "    arr = []\n",
    "    for x in D:\n",
    "        for i in range(x[2]):\n",
    "            arr.append([x[0],x[1]])\n",
    "    \n",
    "    max_profit = 0\n",
    "    KS = []\n",
    "    \n",
    "    #Create an empty list that will work as a queue\n",
    "    Q = []\n",
    "    \n",
    "    #Create a list with u[level, profit, bound, weight, [parents]]\n",
    "    #inicialize the first element to profit=weight=0\n",
    "    u = [-1, 0, None, 0, None]\n",
    "    \n",
    "    Q.append(u)\n",
    "    \n",
    "    r=0\n",
    "    while Q:\n",
    "        \n",
    "        u = Q.pop()\n",
    "        \n",
    "        #if there aren't more elements to check\n",
    "        if(u[0] == len(arr)-1):\n",
    "            continue\n",
    "        \n",
    "        v = [None for x in range(5)]\n",
    "        \n",
    "        #increase the level \n",
    "        v[0] = u[0] + 1\n",
    "        \n",
    "        #lets see if not putting the object to the knasack give us a possible solution\n",
    "        #initialize v to u\n",
    "        v[1] = u[1]\n",
    "        v[3] = u[3]\n",
    "        \n",
    "        #Save a list with the objects in the knapsack in the previous state, without nothing if it's the first step\n",
    "        if u[0]==-1:\n",
    "            v[4] = [None for k in range(len(arr))]\n",
    "        else:\n",
    "            v[4] = u[4].copy()\n",
    "            \n",
    "        \n",
    "        #get the bound on profit to decide whether add v to the queue Q\n",
    "        v[2] = bound(len(arr), v, W, arr)\n",
    "        \n",
    "        #if the bound is greater tha max profit add v to Q\n",
    "        if v[2] > max_profit:\n",
    "            Q.append(v)\n",
    "            \n",
    "            \n",
    "        #Now lets see if putting the object to the knasack give us a possible solution doing the same as above\n",
    "        w = [None for x in range(5)]\n",
    "        \n",
    "        w[0] = u[0]+1\n",
    "        w[1] = u[1] + arr[w[0]][1]\n",
    "        w[3] = u[3] + arr[w[0]][0]\n",
    "        \n",
    "        #now also put the object on the list\n",
    "        if u[0]==-1:\n",
    "            w[4] = [None for k in range(len(arr))]\n",
    "        else:\n",
    "            w[4] = u[4].copy()\n",
    "        w[4][v[0]] = [arr[w[0]][0],arr[w[0]][1],1]\n",
    "        \n",
    "        #if cumulated weight is les than the maximum allowed and profit is grater that the maxprofit then update maxprofit\n",
    "        if w[3] < W and max_profit < w[1]:\n",
    "            max_profit = w[1]\n",
    "            KS = w[4].copy() #save a list with the best solution untill now\n",
    "        \n",
    "        #get the bound on profit to decide whether add v to the queue Q\n",
    "        #will use the function bound to compute that, which gives the gready solution to the problem using the current state\n",
    "        w[2] = bound(len(arr), w, W, arr)\n",
    "        \n",
    "        #if the bound is greater tha max profit add v to Q\n",
    "        if v[2] > max_profit:\n",
    "            Q.append(w)\n",
    "            \n",
    "    #Make the solution list\n",
    "    Sol = []\n",
    "    k = -1\n",
    "    for x in KS:\n",
    "        if x!=None:\n",
    "            if k==-1:\n",
    "                Sol.append(x.copy())\n",
    "                k += 1\n",
    "            elif x[0]!=Sol[k][0] and x[1]!=Sol[k][1]:\n",
    "                Sol.append(x.copy())\n",
    "                k += 1\n",
    "            else:\n",
    "                Sol[k][2] += 1\n",
    "    \n",
    "    return max_profit, Sol"
   ]
  },
  {
   "cell_type": "code",
   "execution_count": 4,
   "metadata": {},
   "outputs": [
    {
     "name": "stdout",
     "output_type": "stream",
     "text": [
      "D [[39, 7, 9], [19, 39, 7], [38, 88, 13], [4, 61, 14], [3, 74, 4], [41, 49, 10], [6, 9, 6], [28, 78, 11], [12, 85, 2], [43, 42, 12]]\n",
      "(1476, [[3, 74, 4], [4, 61, 14], [12, 85, 2], [28, 78, 2]])\n"
     ]
    }
   ],
   "source": [
    "#rd.seed(0) # fijando el seed obtenemos siempre la misma mochila\n",
    "D = random_objects()\n",
    "print(\"D\",D)\n",
    "W = 150\n",
    "print(knapsack_branch(D,W))"
   ]
  },
  {
   "cell_type": "code",
   "execution_count": 68,
   "metadata": {},
   "outputs": [
    {
     "name": "stdout",
     "output_type": "stream",
     "text": [
      "D [[2, 40, 1], [3.14, 50, 1], [1.98, 100, 1], [5, 95, 1], [3, 30, 1]]\n",
      "(235, [[1.98, 100, 1], [2, 40, 1], [5, 95, 1]])\n"
     ]
    }
   ],
   "source": [
    "D = [[2,40,1],[3.14,50,1],[1.98,100,1],[5,95,1],[3,30,1]]\n",
    "print(\"D\",D)\n",
    "W = 10\n",
    "print(knapsack_branch(D,W))"
   ]
  },
  {
   "cell_type": "markdown",
   "metadata": {},
   "source": [
    "### Analiza el coste de tu implementación. Comparalo además con el coste de las implementaciones greedy y dinámica. Compara también la optimalidad de la solución en los tres casos."
   ]
  },
  {
   "cell_type": "markdown",
   "metadata": {},
   "source": [
    "El resultado de esta implementacio es optimo igual que con la implementacion de PD,y al contrario que con gready.\n",
    "\n",
    "La complejidad del algortimo es $O(n^2)$ donde n es el numero de objetos contando multiplicidad. Es mayor que con el algoritmo gready. Y tambien tiene mayor complejidad que PD pero la complejidad de espacio es mucho menor."
   ]
  },
  {
   "cell_type": "markdown",
   "metadata": {},
   "source": [
    "\n",
    "<div class=\"alert alert-success\" style=\"width:90%; margin:0 auto;\">\n",
    "  <h2><p>2 - Orden de Ensamblaje</p></h2>\n",
    "  \n",
    "  <div class=\"row\">\n",
    "  <div>\n",
    "  <p style=\"text-align: justify; padding-right: 30px\">\n",
    "La construcción de un artefacto requiere ensamblar $M$ piezas que identiﬁcamos con números entre $1$ y $M$. El coste de ensamblar la pieza $i$ depende del número de piezas ya ensambladas. Los costes, que son valores positivos, se nos proporcionan en una matriz $C$. La celda $c_{ij}$ es el coste de ensamblar la pieza $i$ cuando ya se han ensamblado $j$ piezas. Deseamos calcular el orden de ensamblado de menor coste total, entendido éste como la suma del coste de ensamblaje de cada una de las piezas. \n",
    "  Implementa mediante ramificación y poda una solución a este problema con tal de encontrar el listado ordenado de piezas cuyo coste total de ensamblaje sea mínimo.\n",
    "  </p>\n",
    "  </div>\n",
    "    </div>\n"
   ]
  },
  {
   "cell_type": "markdown",
   "metadata": {},
   "source": [
    "<div class=\"alert alert-danger\" style=\"width:80%; margin:0 auto; padding\">\n",
    "<center><p><h3> Código </h3></p> </center> \n",
    "\n",
    "<p>\n",
    "<h3>INPUT</h3>\n",
    "<ul>\n",
    "<li>C: Matriz de costes de tamaño $M\\times M$, donde M es el número de piezas. El elemento $i,j$ de la matriz representa el coste de ensamblaje para la pieza $i$ tras haber colocado $j$ piezas. \n",
    "</li>\n",
    "</ul>\n",
    "<br>\n",
    "<h3>OUTPUT</h3>\n",
    "Lista de números de $1$ a $M$ ordenados de forma que el coste total de ensamblaje sea mínimo. Ej: [5, 3, 2, 4, 1]\n",
    "</p>\n",
    "\n",
    "</div>"
   ]
  },
  {
   "cell_type": "code",
   "execution_count": 22,
   "metadata": {},
   "outputs": [],
   "source": [
    "def branch_ensemble(C):\n",
    "    \"\"\"\n",
    "    Función que obtiene el orden óptimo de las piezas tal que el coste total es mínimo.\n",
    "    Args:\n",
    "        - C: matriz de costes M x M\n",
    "    \"\"\"\n",
    "    items=[x for x in range(len(C))]\n",
    "    \n",
    "    k = 0\n",
    "    \n",
    "    while k < len(C):\n",
    "        #Find a better row than k, and swap it if it exisits\n",
    "        for i in range(0, len(C)):\n",
    "            if i==k:\n",
    "                continue\n",
    "            \n",
    "            minimum = C[k][i] + C[i][k]\n",
    "            \n",
    "            if C[i][i] + C[k][k] > minimum:\n",
    "                aux = items[i]\n",
    "                items[i] = items[k]\n",
    "                items[k] = aux\n",
    "        \n",
    "        k +=1\n",
    "    \n",
    "    return items"
   ]
  },
  {
   "cell_type": "code",
   "execution_count": 25,
   "metadata": {
    "scrolled": true
   },
   "outputs": [
    {
     "name": "stdout",
     "output_type": "stream",
     "text": [
      "[6, 3, 1, 5, 9, 8, 2, 0, 7, 4]\n"
     ]
    }
   ],
   "source": [
    "from random import uniform\n",
    "\n",
    "M = 10 # Número de piezas\n",
    "# Matriz de costes generada aleatoriamente\n",
    "C = {}\n",
    "for i in range(M):\n",
    "    C[i] = {}\n",
    "    for j in range(M):\n",
    "        C[i][j] = uniform(1, 25)\n",
    "\n",
    "solucion = branch_ensemble(C)\n",
    "print(solucion)"
   ]
  },
  {
   "cell_type": "markdown",
   "metadata": {},
   "source": [
    "### En esta sección debéis responder a las preguntas siguientes:\n",
    "#### 1. Explica cómo has realizado tu implementación, enfatizando en la heurística empleada.\n",
    "#### 2. Análisis de complejidad de la implementación"
   ]
  },
  {
   "cell_type": "markdown",
   "metadata": {
    "collapsed": true
   },
   "source": [
    "La complejidad es $O(n^2)$"
   ]
  }
 ],
 "metadata": {
  "kernelspec": {
   "display_name": "Python 3",
   "language": "python",
   "name": "python3"
  },
  "language_info": {
   "codemirror_mode": {
    "name": "ipython",
    "version": 3
   },
   "file_extension": ".py",
   "mimetype": "text/x-python",
   "name": "python",
   "nbconvert_exporter": "python",
   "pygments_lexer": "ipython3",
   "version": "3.6.8"
  }
 },
 "nbformat": 4,
 "nbformat_minor": 1
}
