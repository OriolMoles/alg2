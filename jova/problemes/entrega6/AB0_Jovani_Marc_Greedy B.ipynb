{
 "cells": [
  {
   "cell_type": "markdown",
   "metadata": {},
   "source": [
    "<div style=\"padding:30px; color: white; background-color: #0071CD\">\n",
    "<center>\n",
    "<img src=\"img/logoub.jpeg\">\n",
    "<center>\n",
    "<p>\n",
    "<h1>Algorítmica Avanzada</h1>\n",
    "<h2>Problemas 2.B - Greedy </h2>\n",
    "</center>\n",
    "</p>\n",
    "</div>"
   ]
  },
  {
   "cell_type": "markdown",
   "metadata": {},
   "source": [
    "<div class=\"alert alert-success\" style=\"width:90%; margin:0 auto;\">\n",
    "  <h2><p>4 - El número más grande</p></h2>\n",
    "  \n",
    "  <p>\n",
    "  Dados dos números, $N$ y $S$, encuentra el número más grande posible de $N$ dígitos tal que la suma de dichos dígitos sea $S$.\n",
    "  </p>"
   ]
  },
  {
   "cell_type": "markdown",
   "metadata": {},
   "source": [
    "<div class=\"alert alert-danger\" style=\"width:80%; margin:0 auto; padding\">\n",
    "<center><p><h3> Código </h3></p> </center> \n",
    "\n",
    "<p>\n",
    "<h3>INPUT</h3>\n",
    "<ul>\n",
    "<li>__N__: Número de dígitos.</li>\n",
    "<li>__S__: Suma de los dígitos.</li>\n",
    "</ul>\n",
    "<br>\n",
    "<h3>OUTPUT</h3>\n",
    "<ul>\n",
    "<li>__T__: Número que cumple las condiciones requeridas.</li>\n",
    "<ul>\n",
    "\n",
    "</p>\n",
    "\n",
    "</div>"
   ]
  },
  {
   "cell_type": "code",
   "execution_count": 7,
   "metadata": {},
   "outputs": [],
   "source": [
    "def largest_number(N, S):\n",
    "    if S > 9*N:\n",
    "        return 'No existe tal numero'\n",
    "    else:\n",
    "        num = ''\n",
    "        for i in range(N):\n",
    "            if S>9:\n",
    "                num +='9'\n",
    "                S -= 9\n",
    "            else:\n",
    "                num += str(S)\n",
    "                S = 0\n",
    "        \n",
    "        return num"
   ]
  },
  {
   "cell_type": "code",
   "execution_count": 9,
   "metadata": {},
   "outputs": [
    {
     "name": "stdout",
     "output_type": "stream",
     "text": [
      "18 75\n"
     ]
    },
    {
     "data": {
      "text/plain": [
       "'999999993000000000'"
      ]
     },
     "execution_count": 9,
     "metadata": {},
     "output_type": "execute_result"
    }
   ],
   "source": [
    "from random import randint\n",
    "\n",
    "n = randint(1, 50)\n",
    "s = randint(1, 500)\n",
    "\n",
    "print(n,s)\n",
    "\n",
    "largest_number(n, s)"
   ]
  },
  {
   "cell_type": "markdown",
   "metadata": {},
   "source": [
    "<div class=\"alert alert-success\" style=\"width:90%; margin:0 auto;\">\n",
    "  <h2><p>5 - Minimiza la suma del producto</p></h2>\n",
    "  \n",
    "  <p>\n",
    "  Dadas dos listas de números $A$ y $B$ del mismo tamaño $N$, minimiza $A[0]*B[0] + A[1]*B[1] + ... + A[N]*B[N]$ cambiando de orden los elementos de la listas.\n",
    "  </p>"
   ]
  },
  {
   "cell_type": "markdown",
   "metadata": {},
   "source": [
    "<div class=\"alert alert-danger\" style=\"width:80%; margin:0 auto; padding\">\n",
    "<center><p><h3> Código </h3></p> </center> \n",
    "\n",
    "<p>\n",
    "<h3>INPUT</h3>\n",
    "<ul>\n",
    "<li>__A__: Lista de números.</li>\n",
    "<li>__B__: Lista de números.</li>\n",
    "</ul>\n",
    "<br>\n",
    "<h3>OUTPUT</h3>\n",
    "<ul>\n",
    "<li>__S__: Suma de productos.</li>\n",
    "<ul>\n",
    "\n",
    "</p>\n",
    "\n",
    "</div>"
   ]
  },
  {
   "cell_type": "code",
   "execution_count": 7,
   "metadata": {},
   "outputs": [],
   "source": [
    "def minimize_sum_prod(A, B):\n",
    "    A = sorted(A)\n",
    "    B = sorted(B)\n",
    "    \n",
    "    suma = 0\n",
    "    for i in range(len(A)):\n",
    "        suma += A[i]*B[i]\n",
    "    \n",
    "    return suma"
   ]
  },
  {
   "cell_type": "code",
   "execution_count": 10,
   "metadata": {},
   "outputs": [
    {
     "data": {
      "text/plain": [
       "180228"
      ]
     },
     "execution_count": 10,
     "metadata": {},
     "output_type": "execute_result"
    }
   ],
   "source": [
    "from random import randint\n",
    "\n",
    "N = 50\n",
    "A = [randint(1,100) for _ in range(N)]\n",
    "B = [randint(1,100) for _ in range(N)]\n",
    "\n",
    "minimize_sum_prod(A,B)"
   ]
  },
  {
   "cell_type": "markdown",
   "metadata": {},
   "source": [
    "  <div class=\"alert alert-success\" style=\"width:90%; margin:0 auto;\">\n",
    "\n",
    "  <h2><p>6- El problema de la mochila</p></h2>\n",
    "  \n",
    "  <center><img src=\"img/knapsack.png\" width=30%></center>\n",
    "  \n",
    "  <p>\n",
    "    Nos encontramos en una habitación en la que hay $N$ objetos, cada cual con un peso $w_1, w_2, w_3 ... w_N$ y un valor $v_1, v_2, v_3 ... v_N$. Disponemos de una mochila que puede soportar una carga máxima de $W$.\n",
    "    Se os pide que implementéis un algoritmo greedy Greedy para conseguir llenar la mochila maximizando el valor total de la misma. Es decir queremos encontrar la combinación de objetos $b$ tal que $\\arg_{b} \\max{\\sum_{i=0}^{N}{v_i · b_i}}$ manteniendo siempre cierto que no superamos el peso máximo de la mochila: $\\sum_{i=0}^{N}{(w_i · b_i)}\\leq W$.\n",
    "     \n",
    "</p>"
   ]
  },
  {
   "cell_type": "markdown",
   "metadata": {},
   "source": [
    "<div class=\"alert alert-danger\" style=\"width:80%; margin:0 auto; padding\">\n",
    "<center><p><h3> Código </h3></p> </center> \n",
    "\n",
    "<p>\n",
    "<h3>INPUT</h3>\n",
    "<ul>\n",
    "<li>__Items__: Lista de objetos en forma de tuplas (peso, valor).</li>\n",
    "</ul>\n",
    "<br>\n",
    "<h3>OUTPUT</h3>\n",
    "<ul>\n",
    "<li>__Packed__: Lista de objetos que nos llevaremos en la mochila.</li>\n",
    "<ul>\n",
    "\n",
    "</p>\n",
    "\n",
    "</div>"
   ]
  },
  {
   "cell_type": "code",
   "execution_count": 20,
   "metadata": {},
   "outputs": [],
   "source": [
    "def knapsack(W, items):\n",
    "    bag = []\n",
    "    \n",
    "    items = sorted(items, key=lambda i:i[1]/i[0])    \n",
    "    while len(items)>0 and W>0:\n",
    "        item = items.pop()\n",
    "        bag.append(item)\n",
    "        W -= item[0]\n",
    "    \n",
    "    return bag"
   ]
  },
  {
   "cell_type": "code",
   "execution_count": 21,
   "metadata": {},
   "outputs": [
    {
     "data": {
      "text/plain": [
       "[(0.12160172114136701, 66.02024012446684),\n",
       " (1.5635790202752629, 82.4901556844551),\n",
       " (2.9900287768448957, 76.1145157393489),\n",
       " (1.8951254377447722, 43.04219990512831),\n",
       " (1.2195930064437293, 24.22441520366917),\n",
       " (7.001757511426914, 97.97859184068119),\n",
       " (5.392437311505636, 74.82410804709151),\n",
       " (7.355347588035819, 94.579534288458),\n",
       " (9.729263320586343, 99.30287261316849),\n",
       " (7.915734024019996, 79.0622761413546),\n",
       " (5.97787220818197, 57.10605369246316),\n",
       " (9.456811792518135, 86.51429088664581),\n",
       " (5.781484667184618, 48.45453870383311),\n",
       " (7.401613150685569, 45.47720153282714),\n",
       " (6.409549356171312, 36.85755933456332),\n",
       " (8.263204391106145, 46.91651280478924),\n",
       " (5.841021517380758, 31.420138458395673),\n",
       " (9.696412518843612, 27.164147735878984)]"
      ]
     },
     "execution_count": 21,
     "metadata": {},
     "output_type": "execute_result"
    }
   ],
   "source": [
    "from random import uniform\n",
    "\n",
    "W = 100\n",
    "N_items = 25\n",
    "items = [(uniform(0.01, 10), uniform(0, 100)) for _ in range(N_items)]\n",
    "\n",
    "knapsack(W, items)"
   ]
  }
 ],
 "metadata": {
  "kernelspec": {
   "display_name": "Python 3",
   "language": "python",
   "name": "python3"
  },
  "language_info": {
   "codemirror_mode": {
    "name": "ipython",
    "version": 3
   },
   "file_extension": ".py",
   "mimetype": "text/x-python",
   "name": "python",
   "nbconvert_exporter": "python",
   "pygments_lexer": "ipython3",
   "version": "3.6.8"
  }
 },
 "nbformat": 4,
 "nbformat_minor": 2
}
