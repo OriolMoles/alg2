{
 "cells": [
  {
   "cell_type": "markdown",
   "metadata": {},
   "source": [
    "<div style=\"padding:30px; color: white; background-color: #0071CD\">\n",
    "<center>\n",
    "<img src=\"img/logoub.jpeg\"></img>\n",
    "<p>\n",
    "<h1>Algorítimica Avançada</h1>\n",
    "<h2>Exámen práctico II - NQueens </h2>\n",
    "</center>\n",
    "</p>\n",
    "</div>"
   ]
  },
  {
   "cell_type": "markdown",
   "metadata": {},
   "source": [
    "<div class=\"alert alert-danger\">\n",
    "<center>\n",
    "  <h1>ATENCIÓN!</h1>\n",
    "  \n",
    "  Para realizar la entrega, hay que subir únicamente este fichero renombrado como: __*grupo*\\_*apellidos*\\_*nombre*_EP2.ipynb__ donde el grupo ha de ser uno de los cuatro de prácticas (A, B, C o F).\n",
    "</center>\n",
    "</div>"
   ]
  },
  {
   "cell_type": "markdown",
   "metadata": {},
   "source": [
    "<div class=\"alert alert-info\">\n",
    "<center>\n",
    "  <h1>Introducción</h1>\n",
    "</center>\n",
    "</div>"
   ]
  },
  {
   "cell_type": "markdown",
   "metadata": {},
   "source": [
    "El objetivo de este examen es solucionar una variante del problema de las N-Reinas que visteis en clase de teoría. En este caso, dado un tablero de $NxN$ buscamos situar el mínimo número de reinas necesarias para que todas las casillas del tablero se encuentren amenazadas por al menos una reina. Recordad que una reina puede atacar en cualquier dirección (horizontal, diagonal y vertical) y a cualquier distancia. En la imagen podéis ver todas las casillas que estarían amenazadas por una reina (en verde) en un tablero de 8x8:\n",
    "<img src='img/quenmove.png' width=150></IMG>\n",
    "Una casilla en la que hay una reina la consideraremos también como bajo amenaza. Una posible solución en un tablero de 4x4 con dos reinas se muestra en la siguiente imagen:\n",
    "<img src='img/quensolve.png' width=150></IMG>"
   ]
  },
  {
   "cell_type": "markdown",
   "metadata": {},
   "source": [
    "Para simplificar el problema se os ofrece la clase `Queens` que contiene las utilidades necesarias para trabajar con el tablero. Para crear un nuevo tablero de dimensión N llamamos simplemente `board = Queens(N)`. Para añadir una reina en una posición determinada $pos = (p_0,p_1)$, podemos emplear la función `new_board = board.add_queen(pos)`. Cada vez que añadimos una reina, la función nos devuelve __una nueva instancia__ de la clase Queens modificada con la nueva reina en la posición deseada.\n",
    "\n",
    "También tenemos varios atributos:\n",
    "<ul>\n",
    "    <li> <mark>board.free</mark> que nos devolverá una lista con las posiciones que no son amenazadas por ninguna reina.</li>\n",
    "    <li> <mark>board.empty</mark> que nos devolverá la lista de posiciones en las que no hay ninguna reina. </li> \n",
    "    <li> <mark>board.occupied</mark> que nos devolverá la lista de posiciones en las que hay reinas. </li>\n",
    "<ul>"
   ]
  },
  {
   "cell_type": "code",
   "execution_count": 3,
   "metadata": {},
   "outputs": [
    {
     "name": "stdout",
     "output_type": "stream",
     "text": [
      "Crea un tablero de 3x3\n",
      "+---+---+---+\n",
      "|   |   |   |\n",
      "+---+---+---+\n",
      "|   |   |   |\n",
      "+---+---+---+\n",
      "|   |   |   |\n",
      "+---+---+---+\n",
      "\n",
      "Pon una reina en (1,0):\n",
      "+---+---+---+\n",
      "|   |   |   |\n",
      "+---+---+---+\n",
      "| Q |   |   |\n",
      "+---+---+---+\n",
      "|   |   |   |\n",
      "+---+---+---+\n",
      "\n",
      "Las posiciones que todavía no están amenazadas son:\n",
      "[(0, 2), (2, 2)]\n",
      "Las posiciones con reians son:\n",
      "[(1, 0)]\n",
      "Las posiciones sin reinas son:\n",
      "[(0, 0), (0, 1), (0, 2), (1, 1), (1, 2), (2, 0), (2, 1), (2, 2)]\n"
     ]
    }
   ],
   "source": [
    "from queens import Queens\n",
    "\n",
    "print(\"Crea un tablero de 3x3\")\n",
    "b1 = Queens(n=3)\n",
    "print(b1)\n",
    "print(\"Pon una reina en (1,0):\")\n",
    "b2 = b1.add_queen((1,0)) # Nótese que b1 != b2\n",
    "print(b2)\n",
    "print(\"Las posiciones que todavía no están amenazadas son:\")\n",
    "print(b2.free)\n",
    "print(\"Las posiciones con reians son:\")\n",
    "print(b2.occupied)\n",
    "print(\"Las posiciones sin reinas son:\")\n",
    "print(b2.empty)"
   ]
  },
  {
   "cell_type": "markdown",
   "metadata": {},
   "source": [
    "Además tenemos la función `board.is_all_under_attack()` que nos indicará si ya hemos acabado (todas las casillas están amenazadas) `True` o todavía no `False`."
   ]
  },
  {
   "cell_type": "code",
   "execution_count": 4,
   "metadata": {},
   "outputs": [
    {
     "name": "stdout",
     "output_type": "stream",
     "text": [
      "El estado de resolución b2 es: False\n",
      "+---+---+---+\n",
      "|   |   |   |\n",
      "+---+---+---+\n",
      "| Q |   |   |\n",
      "+---+---+---+\n",
      "|   |   |   |\n",
      "+---+---+---+\n",
      "\n",
      "El estado de resolución b3 es: True\n",
      "+---+---+---+\n",
      "|   |   |   |\n",
      "+---+---+---+\n",
      "|   | Q |   |\n",
      "+---+---+---+\n",
      "|   |   |   |\n",
      "+---+---+---+\n",
      "\n"
     ]
    }
   ],
   "source": [
    "print(\"El estado de resolución b2 es: %s\" % str(b2.is_all_under_attack()))\n",
    "print(b2)\n",
    "b3 = b1.add_queen((1,1))\n",
    "print(\"El estado de resolución b3 es: %s\" % str(b3.is_all_under_attack()))\n",
    "print(b3)\n"
   ]
  },
  {
   "cell_type": "markdown",
   "metadata": {},
   "source": [
    "<div class=\"alert alert-info\">\n",
    "<center>\n",
    "  <h1>Examen</h1>\n",
    "</center>"
   ]
  },
  {
   "cell_type": "markdown",
   "metadata": {},
   "source": [
    "\n",
    "<div class=\"alert alert-success\" style=\"width:90%; margin:0 auto;\">\n",
    "\n",
    "  <p>\n",
    "  Se pide implementar una función iterativa que, mediante <b>ramificación y poda</b>, resuelva el problema planteado, es decir, que con el mínimo número de reinas consiga que todas las casillas del tablero estén amenazadas por al menos una de ellas. Se valorará principalmente el uso de un algoritmo que siga la estructura de ramificación y poda, no tanto lo eficientes que resulten las cotas a la hora de podar. \n",
    "    \n",
    "   A la hora de probar vuestros algoritmos es recomendable empezar con tamaños de N pequeños (hasta 6). El número de reinas esperadas para tableros de 1 a 8 son: 1, 1, 1, 2, 3, 3, 4 y 5.\n",
    "  \n",
    "  Solo se corregirá el código contenido en la función con cabecera `attacking` (de la cual no podéis cambiar la definición) y todo el que ésta llame. Es decir, si creáis funciones o clases auxiliares, solo las corregiremos si se emplean dentro de esta función. Además, no puede existir más de una versión de esta función en el notebook (por ejemplo, en celdas distintas).\n",
    "  </p>\n",
    "\n",
    "</div>"
   ]
  },
  {
   "cell_type": "code",
   "execution_count": 39,
   "metadata": {},
   "outputs": [],
   "source": [
    "\"\"\"\n",
    "    Debéis implementar vuestra solución con la cabecera attacking, la cual tendrá como entradas:\n",
    "        queens (Queens) --> Tablero sin reinas.\n",
    "    Y devolverá:\n",
    "        queens (Queens) --> Tablero con el mínimo número de reinas situadas de \n",
    "                            manera tal que todo el tablero esté amenazado.\n",
    "        expanded (int)  --> Número de nodos de los cuales producimos hijos posibles.\n",
    "\"\"\"\n",
    "from queens import Queens\n",
    "import heapq as hq\n",
    "\n",
    "def attacking(queens):\n",
    "    \n",
    "    #Create a upper bound\n",
    "    best_num_queens = float('inf')\n",
    "    best_board = queens\n",
    "    \n",
    "    #Create a queue to store unexplored states\n",
    "    #We'll use (current_num_queens + heuristic, curr_num_queens, board)\n",
    "    unvisited = [(heuristic(queens), 0, 0, queens)]\n",
    "    \n",
    "    #save all existent states in order to avoid loops\n",
    "    existent_states = set([queens])\n",
    "    \n",
    "    expanded = 0\n",
    "    \n",
    "    while len(unvisited):\n",
    "        \n",
    "        #get potentialy best item, i.e. first element in the heapq\n",
    "        curr_bound, curr_num_queens, curr_level, curr_board = hq.heappop(unvisited)\n",
    "        \n",
    "        #check if the bound still potentialy better\n",
    "        if curr_bound < best_num_queens:\n",
    "            \n",
    "            #check if its the solution\n",
    "            if curr_board.is_all_under_attack():\n",
    "                best_num_queens = curr_num_queens\n",
    "                best_board = curr_board\n",
    "            \n",
    "            #Iterate throgh all empty possitions\n",
    "            for new_pos_queen  in curr_board.empty:\n",
    "                #put a queen there\n",
    "                new_board = curr_board.add_queen(new_pos_queen)\n",
    "                new_num_queens = curr_num_queens + 1\n",
    "                new_bound = new_num_queens + heuristic(new_board)\n",
    "                \n",
    "                #print(new_bound)\n",
    "                \n",
    "                #if this new board is potentaly better than the\n",
    "                #current best bound and dosent exist yet\n",
    "                if new_bound < best_num_queens and new_board not in existent_states:\n",
    "                    hq.heappush(unvisited, (new_bound, new_num_queens, len(existent_states), new_board))\n",
    "                    existent_states.add(new_board)\n",
    "            \n",
    "            expanded +=1\n",
    "                \n",
    "    return best_board,expanded # El tablero solucionado\n",
    "\n",
    "def heuristic(queens):\n",
    "    \n",
    "    A = set()\n",
    "    \n",
    "    for x in queens.free:\n",
    "        A.add(x[0])\n",
    "        A.add(x[1])\n",
    "        \n",
    "    return len(A)/2\n",
    "\n",
    "def heuristic(queens):\n",
    "    \n",
    "    A = set()\n",
    "    B = set()\n",
    "    \n",
    "    for x in queens.free:\n",
    "        A.add(x[0])\n",
    "        B.add(x[1])\n",
    "        \n",
    "    return max(len(A),len(B))/2"
   ]
  },
  {
   "cell_type": "code",
   "execution_count": 40,
   "metadata": {},
   "outputs": [
    {
     "name": "stdout",
     "output_type": "stream",
     "text": [
      "+---+---+---+---+---+---+---+---+\n",
      "| Q |   |   |   |   |   |   |   |\n",
      "+---+---+---+---+---+---+---+---+\n",
      "|   |   |   | Q |   |   |   |   |\n",
      "+---+---+---+---+---+---+---+---+\n",
      "|   |   |   |   |   |   |   |   |\n",
      "+---+---+---+---+---+---+---+---+\n",
      "|   |   |   |   |   |   | Q |   |\n",
      "+---+---+---+---+---+---+---+---+\n",
      "|   |   |   |   |   |   |   |   |\n",
      "+---+---+---+---+---+---+---+---+\n",
      "|   |   |   |   |   |   |   |   |\n",
      "+---+---+---+---+---+---+---+---+\n",
      "|   | Q |   |   |   |   |   |   |\n",
      "+---+---+---+---+---+---+---+---+\n",
      "|   |   |   |   |   | Q |   |   |\n",
      "+---+---+---+---+---+---+---+---+\n",
      "\n",
      "2930\n",
      "True\n"
     ]
    }
   ],
   "source": [
    "c = Queens(8)\n",
    "board, expanded = attacking(c)\n",
    "print(board)\n",
    "print(expanded)\n",
    "print(board.is_all_under_attack())"
   ]
  },
  {
   "cell_type": "markdown",
   "metadata": {},
   "source": [
    "<div class=\"alert alert-info\">\n",
    "<center>\n",
    "  <h1>Preguntas</h1>\n",
    "</center>\n",
    "</div>"
   ]
  },
  {
   "cell_type": "markdown",
   "metadata": {},
   "source": [
    "### 1. Como has implementado el algoritmo?\n",
    "\n",
    "Empezando con el tablero vacio, hago una cola de prioridad, i elijo como siguentes estado aquellos en los que puedo poner una reinda en una cleda vacia, y solo ponemos un nuevo eleemnto en la cola si cumple que su cota es menor que la mejor cota que tenemos y adema ese estado no ha sido visitado anteriormente.\n",
    "\n",
    "### 2. Que criterios utilizas para hacer la ramificación y la poda?\n",
    "\n",
    "Para la funcion heuristica miro que columnas y filas tienen almenos una cassilla sin ser atacada, entonces como cada reina puede atacar una fila y una columna a la vez miro n el numero de indices distintos, contando filas y columnas, en los que tenemos estas posiciones y esto nos da que tenemos un tablero de nxn, que se puede resolver con un maximo de n/2 reinas.\n",
    "\n",
    "Una heuristica que creo que es mejor, pero tarda mas dado que descarta menos casos, es la que en vez de tener encuenta los indices de fila y columnas a la vez lo hacemos por separado y entonces con el maximo entre n/2, m/2 (donde n es el numero de filas con una casilla no atacada y m el numero de columnas) de reinas resolvemos el problema.\n",
    "\n",
    "### 3. Realiza un análisis de complejidad del algoritmo\n",
    "\n",
    "En el peor de los casos el primer bucle puede visitar todos los possibles estados con n-1 reinas en el tablero, muchos menos realmente, i en cada estado se hace un bucle que como mucho se recorre n² veces. Por lo tanto la complegidad sera O(n!)."
   ]
  },
  {
   "cell_type": "markdown",
   "metadata": {},
   "source": [
    "<div class=\"alert alert-info\">\n",
    "<center>\n",
    "  <h1>Entrega</h1>\n",
    "</center>\n",
    "<p>\n",
    "Se habilitará una tarea en el Campus Virtual pasada media hora desde el comienzo del examen. Una vez terminéis, subid el examen (<b>sólo el notebook</b>) a la tarea \"Entrega segundo parcial de pácticas\" con vuestro nombre y el grupo de pácticas al que asistís:\n",
    "</p>\n",
    "<p>\n",
    "```\n",
    "[grupo_practicas]_[apellido]_[nombre]_AA_EP2.ipynb\n",
    "```\n",
    "\n",
    "</p>\n",
    "\n",
    "Donde [grupo_practicas] es uno de entre: A, B, C o F.\n",
    "<p>\n",
    "    Por ejemplo, para un alumno llamado <i>Nombre Genérico</i> perteneciente al <i>grupo Z</i> el nombre del archivo debería ser:\n",
    "</p>\n",
    "<p>\n",
    "```\n",
    "Z_Generico_Nombre_AA_EXP.ipynb\n",
    "```\n",
    "\n",
    "Y <b>NO</b>:\n",
    "<ul>\n",
    "<li>Z00_Generico_Nombre_AA_EXP.zip</li>\n",
    "    \n",
    "<li>ZX_Generico_Nombre_AA_EXP.ipynb</li>\n",
    "\n",
    "<li>Ex1_Generico_Nombre_AA_EXP.rar</li>\n",
    "\n",
    "<li>AA_EXP.ipynb</li>\n",
    "<li> ... cualquier otra cosa</li>\n",
    "</ul>\n",
    "</p>\n",
    "<b>Nota</b>: Recordad la importancia de de mantener el formato facilitado. Nombre de la función, entrada/s y salida/s.\n",
    "</div>"
   ]
  },
  {
   "cell_type": "code",
   "execution_count": null,
   "metadata": {},
   "outputs": [],
   "source": []
  }
 ],
 "metadata": {
  "kernelspec": {
   "display_name": "Python 3",
   "language": "python",
   "name": "python3"
  },
  "language_info": {
   "codemirror_mode": {
    "name": "ipython",
    "version": 3
   },
   "file_extension": ".py",
   "mimetype": "text/x-python",
   "name": "python",
   "nbconvert_exporter": "python",
   "pygments_lexer": "ipython3",
   "version": "3.7.3"
  }
 },
 "nbformat": 4,
 "nbformat_minor": 2
}
