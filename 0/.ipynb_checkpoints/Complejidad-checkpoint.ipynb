{
 "cells": [
  {
   "cell_type": "markdown",
   "metadata": {},
   "source": [
    "<div style=\"padding:30px; color: white; background-color: #0071CD\">\n",
    "<center>\n",
    "<img src=\"img/logoub.jpeg\"></img>\n",
    "<center>\n",
    "<p>\n",
    "<h1>Algorítmica Avanzada</h1>\n",
    "<h2>Problemas 0 - Notación asintótica </h2>\n",
    "</center>\n",
    "</p>\n",
    "</div>"
   ]
  },
  {
   "cell_type": "markdown",
   "metadata": {},
   "source": [
    "## Notación"
   ]
  },
  {
   "cell_type": "markdown",
   "metadata": {},
   "source": [
    "A lo largo de este notebook veremos los conceptos básicos de notación asintótica que nos servirán para definir la complejidad de nuestros algoritmos.\n",
    "\n",
    "Para ello utilizaremos los siguientes símbolos\n",
    "\n",
    "- $\\Theta$ (Theta)\n",
    "- $O$, $o$ (Omicron)\n",
    "- $\\Omega$ (Omega)\n"
   ]
  },
  {
   "cell_type": "markdown",
   "metadata": {},
   "source": [
    "Pero, cómo definimos la complejidad de un algoritmo? Tienen los siguientes tres algoritmos la misma complejidad?"
   ]
  },
  {
   "cell_type": "code",
   "execution_count": 1,
   "metadata": {},
   "outputs": [
    {
     "name": "stdout",
     "output_type": "stream",
     "text": [
      "[19, 9, 12, 26]\n",
      "66\n",
      "528\n"
     ]
    }
   ],
   "source": [
    "def alga(i):\n",
    "    return i\n",
    "    \n",
    "def algb(i):     \n",
    "    total = 0    \n",
    "    for m in i:  \n",
    "        total+=m  \n",
    "    return total\n",
    "\n",
    "def algc(i):\n",
    "    total=0\n",
    "    for m in i:\n",
    "        for j in i:\n",
    "            total+=m+j\n",
    "    return total\n",
    "            \n",
    "            \n",
    "import random\n",
    "\n",
    "# Crea una lista de valores aleatorios\n",
    "_list = random.sample(range(30), 4)\n",
    "\n",
    "\n",
    "print(alga(_list))\n",
    "print(algb(_list))\n",
    "print(algc(_list))"
   ]
  },
  {
   "cell_type": "markdown",
   "metadata": {},
   "source": [
    "Comprobemos el tiempo de ejecución de cada uno de los algoritmos"
   ]
  },
  {
   "cell_type": "code",
   "execution_count": 2,
   "metadata": {},
   "outputs": [
    {
     "name": "stdout",
     "output_type": "stream",
     "text": [
      "The slowest run took 30.35 times longer than the fastest. This could mean that an intermediate result is being cached.\n",
      "10000000 loops, best of 3: 59.3 ns per loop\n",
      "The slowest run took 13.91 times longer than the fastest. This could mean that an intermediate result is being cached.\n",
      "10000000 loops, best of 3: 180 ns per loop\n",
      "The slowest run took 4.54 times longer than the fastest. This could mean that an intermediate result is being cached.\n",
      "1000000 loops, best of 3: 858 ns per loop\n"
     ]
    }
   ],
   "source": [
    "%timeit alga(_list)\n",
    "%timeit algb(_list)\n",
    "%timeit algc(_list)"
   ]
  },
  {
   "cell_type": "markdown",
   "metadata": {},
   "source": [
    "<div class=\"alert alert-warning\">\n",
    "<h1>Pregunta 1</h1>\n",
    "<p><strong>\n",
    "Qué complejidad tienen las funciones _alga_, _algb_ y _algc_ notándolas como $\\Theta, O, \\Omega$?\n",
    "</strong></p>\n",
    "<p>\n",
    "Recordatorio:\n",
    "<ul>\n",
    "<li>$o(n)$: Crecimiento menor a $n$</li>\n",
    "<li>$O(n)$: Crecimiento menor o igual a $n$</li>\n",
    "<li>$\\Theta(n)$: Crecimiento igual a $n$</li>\n",
    "<li>$\\Omega(n)$: Crecimiento igual o superior a $n$</li>\n",
    "</ul>\n",
    "</p>\n",
    "</div>"
   ]
  },
  {
   "cell_type": "markdown",
   "metadata": {},
   "source": [
    "#### `alga`\n",
    "- $\\Theta ()$\n",
    "- $O ()$\n",
    "- $\\Omega ()$\n",
    "\n",
    "#### `algb`\n",
    "- $\\Theta ()$\n",
    "- $O ()$\n",
    "- $\\Omega ()$\n",
    "\n",
    "#### `algc`\n",
    "- $\\Theta ()$\n",
    "- $O ()$\n",
    "- $\\Omega ()$"
   ]
  },
  {
   "cell_type": "code",
   "execution_count": 3,
   "metadata": {},
   "outputs": [
    {
     "data": {
      "text/plain": [
       "[5, 6, 7, 6, 7, 8, 7, 8, 9]"
      ]
     },
     "execution_count": 3,
     "metadata": {},
     "output_type": "execute_result"
    }
   ],
   "source": [
    "def sumapares(lista, listb):\n",
    "    listc = []\n",
    "    for x in lista:\n",
    "        for y in listb:\n",
    "            listc.append(x+y)\n",
    "    return listc\n",
    "\n",
    "sumapares([1,2,3],[4,5,6])"
   ]
  },
  {
   "cell_type": "markdown",
   "metadata": {},
   "source": [
    "<div class=\"alert alert-warning\">\n",
    "<h1>Pregunta 2</h1>\n",
    "<p><strong>\n",
    "Qué complejidad tiene la función $sumapares$?\n",
    "</strong></p>\n",
    "</div>"
   ]
  },
  {
   "cell_type": "markdown",
   "metadata": {},
   "source": [
    "Si $N$ es `len(lista)` i $M$ es `len(listab)`, la complexitat de l'algoritme `sumapares` es de $2NM + 1\n",
    "$. \n",
    "\n",
    "La funcio recorre els $N$ elements de `llista`, i per cada element d'aquests recorre tots els elements $M$ de `llistab` i realitza dues operacions: una suma i un `append`. Finalment realitza un return."
   ]
  },
  {
   "cell_type": "markdown",
   "metadata": {},
   "source": [
    "## Orden de magnitud\n",
    "\n",
    "Normalmente las operaciones de coste constante $O(1)$ las menospreciamos y analizamos la complejidad en base al orden de magnitud, por lo que una función cuya complejidad exacta fuere $O(3x^2+6)$ la denotarmemos como $O(3x^2)$."
   ]
  },
  {
   "cell_type": "markdown",
   "metadata": {},
   "source": [
    "<div class=\"alert alert-danger\">\n",
    "<h1>Problema 1</h1>\n",
    "<p><strong>\n",
    "Implementa algoritmos que tengan las complejidades siguientes: <ul><li>$O(1)$</li><li>$O(n)$</li><li>$O(n^2)$</li><li>$O(log(n))$</li><li>$O(2^n)$</li><li>$O(n!)$</li></ul>\n",
    "\n",
    "</strong></p>\n",
    "<p><b>Nota: </b> Puedes cambiar la declaración de las funciones si lo consideras necesario.</p>\n",
    "</div>"
   ]
  },
  {
   "cell_type": "code",
   "execution_count": 20,
   "metadata": {},
   "outputs": [],
   "source": [
    "def o(a):\n",
    "    return a"
   ]
  },
  {
   "cell_type": "code",
   "execution_count": 5,
   "metadata": {},
   "outputs": [],
   "source": [
    "def on(a):\n",
    "    pass"
   ]
  },
  {
   "cell_type": "code",
   "execution_count": 6,
   "metadata": {},
   "outputs": [],
   "source": [
    "def onsquare(a):\n",
    "    pass"
   ]
  },
  {
   "cell_type": "code",
   "execution_count": 7,
   "metadata": {},
   "outputs": [],
   "source": [
    "def ologn(a,b):\n",
    "    pass"
   ]
  },
  {
   "cell_type": "code",
   "execution_count": 8,
   "metadata": {},
   "outputs": [],
   "source": [
    "def oexpn(a):\n",
    "    pass"
   ]
  },
  {
   "cell_type": "code",
   "execution_count": 9,
   "metadata": {},
   "outputs": [],
   "source": [
    "def onfact(a):\n",
    "    pass"
   ]
  },
  {
   "cell_type": "markdown",
   "metadata": {},
   "source": [
    "<div class=\"alert alert-warning\">\n",
    "<h1>Pregunta 3</h1>\n",
    "<p><strong>\n",
    "Evalua la complejidad exacta de cada uno de los algoritmos anteriores\n",
    "</strong></p>\n",
    "</div>"
   ]
  },
  {
   "cell_type": "markdown",
   "metadata": {},
   "source": []
  },
  {
   "cell_type": "markdown",
   "metadata": {},
   "source": [
    "## Un ejemplo gráfico..."
   ]
  },
  {
   "cell_type": "code",
   "execution_count": 10,
   "metadata": {},
   "outputs": [
    {
     "name": "stdout",
     "output_type": "stream",
     "text": [
      "Collecting matplotlib\n",
      "  Using cached https://files.pythonhosted.org/packages/57/4f/dd381ecf6c6ab9bcdaa8ea912e866dedc6e696756156d8ecc087e20817e2/matplotlib-3.1.1-cp36-cp36m-manylinux1_x86_64.whl\n",
      "Collecting numpy\n",
      "  Using cached https://files.pythonhosted.org/packages/e5/e6/c3fdc53aed9fa19d6ff3abf97dfad768ae3afce1b7431f7500000816bda5/numpy-1.17.2-cp36-cp36m-manylinux1_x86_64.whl\n",
      "Collecting cycler>=0.10 (from matplotlib)\n",
      "  Using cached https://files.pythonhosted.org/packages/f7/d2/e07d3ebb2bd7af696440ce7e754c59dd546ffe1bbe732c8ab68b9c834e61/cycler-0.10.0-py2.py3-none-any.whl\n",
      "Collecting pyparsing!=2.0.4,!=2.1.2,!=2.1.6,>=2.0.1 (from matplotlib)\n",
      "  Using cached https://files.pythonhosted.org/packages/11/fa/0160cd525c62d7abd076a070ff02b2b94de589f1a9789774f17d7c54058e/pyparsing-2.4.2-py2.py3-none-any.whl\n",
      "Collecting python-dateutil>=2.1 (from matplotlib)\n",
      "  Using cached https://files.pythonhosted.org/packages/41/17/c62faccbfbd163c7f57f3844689e3a78bae1f403648a6afb1d0866d87fbb/python_dateutil-2.8.0-py2.py3-none-any.whl\n",
      "Collecting kiwisolver>=1.0.1 (from matplotlib)\n",
      "  Using cached https://files.pythonhosted.org/packages/f8/a1/5742b56282449b1c0968197f63eae486eca2c35dcd334bab75ad524e0de1/kiwisolver-1.1.0-cp36-cp36m-manylinux1_x86_64.whl\n",
      "Collecting six (from cycler>=0.10->matplotlib)\n",
      "  Using cached https://files.pythonhosted.org/packages/73/fb/00a976f728d0d1fecfe898238ce23f502a721c0ac0ecfedb80e0d88c64e9/six-1.12.0-py2.py3-none-any.whl\n",
      "Collecting setuptools (from kiwisolver>=1.0.1->matplotlib)\n",
      "  Using cached https://files.pythonhosted.org/packages/b2/86/095d2f7829badc207c893dd4ac767e871f6cd547145df797ea26baea4e2e/setuptools-41.2.0-py2.py3-none-any.whl\n",
      "Installing collected packages: six, cycler, pyparsing, numpy, python-dateutil, setuptools, kiwisolver, matplotlib\n",
      "Successfully installed cycler-0.10.0 kiwisolver-1.1.0 matplotlib-3.1.1 numpy-1.17.2 pyparsing-2.4.2 python-dateutil-2.8.0 setuptools-41.2.0 six-1.12.0\n"
     ]
    }
   ],
   "source": [
    "# Install requirements for local notebook, if not satisfied\n",
    "import sys\n",
    "!{sys.executable} -m pip install matplotlib numpy"
   ]
  },
  {
   "cell_type": "code",
   "execution_count": 11,
   "metadata": {},
   "outputs": [
    {
     "data": {
      "image/png": "[encoded data removed]",
      "text/plain": [
       "<Figure size 720x432 with 1 Axes>"
      ]
     },
     "metadata": {},
     "output_type": "display_data"
    }
   ],
   "source": [
    "# En este apartado mostramos las gráficas de las diferentes funciones\n",
    "import matplotlib.pyplot as plt\n",
    "import numpy as np\n",
    "\n",
    "%matplotlib inline\n",
    "\n",
    "lin = np.linspace(0.1,10,100)\n",
    "plt.figure(figsize=(10,6))\n",
    "plt.title('Complejidades lineales y logaritmicas')\n",
    "plt.plot(np.log(lin),label='O(log(n))')\n",
    "plt.plot(lin*np.log(lin),label='O(n*log(n))')\n",
    "plt.plot(lin, linewidth=2, label='O(n)')\n",
    "plt.legend()\n",
    "plt.plot()\n",
    "plt.ylim(-1,10)\n",
    "plt.xticks([])\n",
    "plt.draw()"
   ]
  },
  {
   "cell_type": "code",
   "execution_count": 12,
   "metadata": {},
   "outputs": [
    {
     "data": {
      "image/png": "[encoded data removed]",
      "text/plain": [
       "<Figure size 720x432 with 1 Axes>"
      ]
     },
     "metadata": {},
     "output_type": "display_data"
    }
   ],
   "source": [
    "import matplotlib.pyplot as plt\n",
    "import numpy as np\n",
    "\n",
    "%matplotlib inline\n",
    "\n",
    "lin = np.linspace(0.1,20,500)\n",
    "plt.figure(figsize=(10,6))\n",
    "plt.title('Complejidades potenciales y exponenciales')\n",
    "plt.plot(lin**3,label='O(n^3)')\n",
    "plt.plot(lin**2,label='O(n^2)')\n",
    "plt.plot(2**lin, label='O(2^n)')\n",
    "plt.legend()\n",
    "plt.plot()\n",
    "plt.ylim(-1,5000)\n",
    "plt.xticks([])\n",
    "plt.draw()"
   ]
  },
  {
   "cell_type": "markdown",
   "metadata": {},
   "source": [
    "<div class=\"alert alert-danger\">\n",
    "<h1>Problema 2</h1>\n",
    "<p><strong>\n",
    "Implementa un algoritmo de ordenación que tenga complejidad $O(n^2)$\n",
    "</strong></p>\n",
    "</div>"
   ]
  },
  {
   "cell_type": "code",
   "execution_count": 13,
   "metadata": {},
   "outputs": [],
   "source": [
    "def ordenacion1(lista):\n",
    "    pass"
   ]
  },
  {
   "cell_type": "markdown",
   "metadata": {},
   "source": [
    "<div class=\"alert alert-danger\">\n",
    "<h1>Problema 3</h1>\n",
    "<p><strong>\n",
    "    Implementa un algoritmo de ordenación que tenga complejidad $O(n\\log(n))$\n",
    "</strong></p>\n",
    "</div>"
   ]
  },
  {
   "cell_type": "code",
   "execution_count": 14,
   "metadata": {},
   "outputs": [],
   "source": [
    "def ordenacion2(lista):\n",
    "    pass"
   ]
  },
  {
   "cell_type": "markdown",
   "metadata": {},
   "source": [
    "<h3>Pon a prueba tus algoritmos</h3>\n",
    "<p>\n",
    "    El siguiente bloque de código ejecutará y medirá el coste de los dos algoritmos de ordenación que acabas de implementar. Las pruebas se harán para listas de tamaño creciente de longitud de 1 a #num_tests (por defecto 1000). Puede tardar un poco, si no termina puedes bajar la cantidad de tests. Si está todo bien deberías poder observar un coste creciente cuadrático en el caso $O(n^2)$ y un crecimiento logarítmico escaso en el caso de $O(n\\log(n))$.\n",
    "</p>"
   ]
  },
  {
   "cell_type": "code",
   "execution_count": 15,
   "metadata": {},
   "outputs": [
    {
     "data": {
      "image/png": "[encoded data removed]",
      "text/plain": [
       "<Figure size 720x432 with 1 Axes>"
      ]
     },
     "metadata": {},
     "output_type": "display_data"
    }
   ],
   "source": [
    "from utils import generate_corpus\n",
    "import time\n",
    "import matplotlib.pyplot as plt\n",
    "import numpy as np\n",
    "\n",
    "%matplotlib inline\n",
    "\n",
    "num_tests = 1000\n",
    "\n",
    "all_lists = generate_corpus(num_tests)\n",
    "time_costs_ordenacion1 = [0]*num_tests\n",
    "time_costs_ordenacion2 = [0]*num_tests\n",
    "\n",
    "for test in range(num_tests):\n",
    "    # Test ordenacion1\n",
    "    start_time = time.time()\n",
    "    ordenacion1(all_lists[test])\n",
    "    time_costs_ordenacion1[test] = (time.time() - start_time)\n",
    "    \n",
    "    # Test ordenacion2\n",
    "    start_time = time.time()\n",
    "    ordenacion2(all_lists[test])\n",
    "    time_costs_ordenacion2[test] = (time.time() - start_time) \n",
    "\n",
    "plt.figure(figsize=(10,6))\n",
    "plt.title('Comparativa costes ordenacion')\n",
    "plt.plot(time_costs_ordenacion1,label='O(n^2)')\n",
    "plt.plot(time_costs_ordenacion2,label='O(nlog(n))')\n",
    "plt.legend()\n",
    "plt.plot()\n",
    "plt.draw()"
   ]
  },
  {
   "cell_type": "markdown",
   "metadata": {},
   "source": [
    "## Algoritmos recursivos: Master Theorem\n",
    "\n",
    "El teorema master ayuda a definir las complejidades de los algoritmos que utilizan estratégias Divide and Conquer. Dicho de otra forma, nos ayuda a analizar la complejidad para los algoritmos recursivos.\n",
    "\n",
    "Siendo $T(n)$ la complejidad del algoritmo, $f(n)$ la complejidad del caso base, $a$ el número de subproblemas a cada nivel de recursión y $b$ el factor por el que dividimos la entrada, denotamos la complejidad de un algoritmo recursivo como:\n",
    "\n",
    "$$\n",
    "T(n) = aT\\big(\\frac{n}{b}\\big)+f(n)\n",
    "$$\n",
    "\n",
    "Si notamos la función $f(x)$ en base a su complejidad de la forma $O(n^d)$ obtenemos:\n",
    "\n",
    "$$\n",
    "T(n) = aT\\big(\\frac{n}{b}\\big)+O(n)\n",
    "$$\n",
    "\n",
    "Y según el teorema masters podemos afirmar que:\n",
    "\n",
    "\\begin{equation*}\n",
    "T(n)=O(n^d) \\quad \\textrm{if}\\: d>log_b a\\\\\n",
    "T(n)=O(n^d\\log n) \\quad \\textrm{if}\\: d=log_b a\\\\\n",
    "T(n)=O(n^{\\log_b{a}}) \\quad \\textrm{if}\\: d<log_b a\n",
    "\\end{equation*}"
   ]
  },
  {
   "cell_type": "markdown",
   "metadata": {},
   "source": [
    "<div class=\"alert alert-warning\">\n",
    "<h1>Pregunta 4</h1>\n",
    "<p><strong>\n",
    "Analiza la complejidad en la siguiente función:\n",
    "</strong></p>\n",
    "</div>"
   ]
  },
  {
   "cell_type": "code",
   "execution_count": 16,
   "metadata": {},
   "outputs": [
    {
     "data": {
      "text/plain": [
       "[6, 4, 10, 8, 5, 3, 2, 1]"
      ]
     },
     "execution_count": 16,
     "metadata": {},
     "output_type": "execute_result"
    }
   ],
   "source": [
    "def reverse2n(lista):\n",
    "    if len(lista) == 2:\n",
    "        return [lista[1], lista[0]]\n",
    "    else:\n",
    "        p = int(len(lista)/2)\n",
    "        return reverse2n(lista[p:]) + reverse2n(lista[:p])\n",
    "\n",
    "reverse2n([1,2,3,5,8,10,4,6])"
   ]
  },
  {
   "cell_type": "markdown",
   "metadata": {
    "collapsed": true
   },
   "source": [
    "<div class=\"alert alert-success\">\n",
    "<h1>Extra 1</h1>\n",
    "<p><strong>\n",
    "Implementa dos algoritmos que busquen un nombre concreto en un listín telefónico y devuelvan su número. Uno con coste $O(n)$ y otro con $O(\\log n)$. En caso de no encontrar el nombre, devolver -1.\n",
    "</strong></p>\n",
    "</div>"
   ]
  },
  {
   "cell_type": "code",
   "execution_count": 17,
   "metadata": {},
   "outputs": [],
   "source": [
    "def search(listin,name):\n",
    "    pass\n",
    "\n",
    "def search_log(lista,num):\n",
    "    pass"
   ]
  },
  {
   "cell_type": "code",
   "execution_count": 18,
   "metadata": {},
   "outputs": [
    {
     "name": "stdout",
     "output_type": "stream",
     "text": [
      "False\n",
      "False\n"
     ]
    }
   ],
   "source": [
    "listin = [('Abdon', 938906293), ('Alejo', 935198770), ('Anna', 931621906), ('Arturo', 938806195), ('Baldomero', 930964092), ('Benjamin', 934354128), ('Cayetano', 931005100), ('Clotilde', 932242962), ('Eduardo', 934005954), ('Eugenio', 931748905), ('Fabian', 938021389), ('Fermin', 939101910), ('Fernando', 940649340), ('Guillermo', 934387595), ('Jacobo', 934210458), ('Josep', 940820109), ('Leonor', 930434129), ('Lucrecia', 934411771), ('Manuel', 933697107), ('Marcelino', 936305412), ('Mohamed', 930600723), ('Nicolas', 936020020), ('Oscar', 940094360), ('Petronila', 936016855), ('Reinaldo', 939455199), ('Rodrigo', 937957205), ('Ruben', 938853772), ('Simeon', 938687016), ('Simeon', 931726372), ('Tarsicio', 934346208), ('Victorino', 939555230)]\n",
    "print(search(listin,'Petronila')==936016855)\n",
    "print(search_log(listin,'Jacobo')==934210458)"
   ]
  },
  {
   "cell_type": "markdown",
   "metadata": {},
   "source": [
    "<div class=\"alert alert-success\">\n",
    "<h1>Extra 2</h1>\n",
    "<p><strong>\n",
    "Implementa el calculo de la serie de fibonacci para un número en concreto de forma recursiva y analiza su complejidad.\n",
    "</strong></p>\n",
    "</div>"
   ]
  },
  {
   "cell_type": "code",
   "execution_count": 19,
   "metadata": {},
   "outputs": [],
   "source": [
    "def fiborec(n):\n",
    "    pass"
   ]
  }
 ],
 "metadata": {
  "kernelspec": {
   "display_name": "Python 3",
   "language": "python",
   "name": "python3"
  },
  "language_info": {
   "codemirror_mode": {
    "name": "ipython",
    "version": 3
   },
   "file_extension": ".py",
   "mimetype": "text/x-python",
   "name": "python",
   "nbconvert_exporter": "python",
   "pygments_lexer": "ipython3",
   "version": "3.6.8"
  }
 },
 "nbformat": 4,
 "nbformat_minor": 1
}
